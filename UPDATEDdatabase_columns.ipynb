{
 "cells": [
  {
   "cell_type": "code",
   "execution_count": 1,
   "id": "caf253d0-b344-469f-add6-360252788f88",
   "metadata": {},
   "outputs": [],
   "source": [
    "import pandas as pd\n",
    "import numpy as np\n",
    "import sqlalchemy\n",
    "import requests\n",
    "import locale\n",
    "import json\n",
    "import numpy as np\n",
    "import datetime as dt\n",
    "import yfinance as yf\n",
    "import matplotlib.pyplot as plt\n",
    "from datetime import date\n",
    "import time\n",
    "import statistics\n",
    "import pandas_datareader.data as pdr\n",
    "import functools as ft\n",
    "from streamlit_echarts import st_echarts\n",
    "from ipywidgets import widgets\n",
    "\n"
   ]
  },
  {
   "cell_type": "code",
   "execution_count": 2,
   "id": "8ded8987-7057-4f4e-ae9b-4abbaa050a74",
   "metadata": {},
   "outputs": [],
   "source": [
    "# Create a temporary sqlite database\n",
    "database_connection_string = 'sqlite:///'\n",
    "\n",
    "# Create an engine to interact with the database\n",
    "engine = sqlalchemy.create_engine(database_connection_string)"
   ]
  },
  {
   "cell_type": "code",
   "execution_count": 3,
   "id": "cfb41386-8a49-49f1-88fd-d1005fcf4087",
   "metadata": {},
   "outputs": [],
   "source": [
    "def get_data(tickers, start_date, end_date):\n",
    "    \n",
    "    \"\"\"Read in daily price(adjusted close) of asset from CSV files for a given set of dates.\"\"\"\n",
    "    \n",
    "    # download daily price data for each of the stocks in the portfolio\n",
    "    df = pdr.get_data_yahoo(stocks, start=start_date, end = end_date)['Adj Close']\n",
    "    df.sort_index(inplace = True)\n",
    "    \n",
    "    return df"
   ]
  },
  {
   "cell_type": "code",
   "execution_count": 4,
   "id": "db3de4a4-1126-4ee3-ad94-e2850ccb3b12",
   "metadata": {},
   "outputs": [],
   "source": [
    "stocks = ['BTC-USD','ETH-USD','USDT-USD','BNB-USD','ADA-USD','XRP-USD','SOL-USD','DOGE-USD','DOT-USD','UNI-USD','BTT2-USD','TRX-USD','NEO-USD', 'XVG-USD']"
   ]
  },
  {
   "cell_type": "code",
   "execution_count": 5,
   "id": "a03ca83d-2893-4129-b421-b476283dec5b",
   "metadata": {},
   "outputs": [
    {
     "name": "stdout",
     "output_type": "stream",
     "text": [
      "Symbols          BTC-USD      ETH-USD  USDT-USD     BNB-USD   ADA-USD  \\\n",
      "Date                                                                    \n",
      "2021-06-01  36684.925781  2633.518311  1.000109  362.794647  1.734753   \n",
      "2021-06-02  37575.179688  2706.125000  1.000550  401.262329  1.752824   \n",
      "2021-06-03  39208.765625  2855.126465  1.000571  427.807922  1.840471   \n",
      "2021-06-04  36894.406250  2688.195068  1.001038  391.395325  1.710908   \n",
      "2021-06-05  35551.957031  2630.576904  1.000313  390.431854  1.659009   \n",
      "\n",
      "Symbols      XRP-USD    SOL-USD  DOGE-USD    DOT-USD   UNI-USD  BTT2-USD  \\\n",
      "Date                                                                       \n",
      "2021-06-01  1.011001  30.985260  0.370077  22.810846  0.000770       NaN   \n",
      "2021-06-02  1.024400  33.956318  0.423374  25.957727  0.000790       NaN   \n",
      "2021-06-03  1.045321  39.470905  0.399963  27.013458  0.001724       NaN   \n",
      "2021-06-04  0.970196  37.415070  0.376323  25.008299  0.002953       NaN   \n",
      "2021-06-05  0.923286  39.585400  0.372177  23.816771  0.001564       NaN   \n",
      "\n",
      "Symbols      TRX-USD    NEO-USD   XVG-USD  \n",
      "Date                                       \n",
      "2021-06-01  0.076136  53.904591  0.025679  \n",
      "2021-06-02  0.078041  57.738262  0.026872  \n",
      "2021-06-03  0.082119  61.330688  0.028766  \n",
      "2021-06-04  0.077252  56.326775  0.032831  \n",
      "2021-06-05  0.075596  55.646732  0.031830  \n",
      "Symbols          BTC-USD      ETH-USD  USDT-USD     BNB-USD   ADA-USD  \\\n",
      "Date                                                                    \n",
      "2022-05-29  29445.957031  1812.031006  0.999178  305.975067  0.481126   \n",
      "2022-05-30  31726.390625  1996.441284  0.999376  321.752899  0.570073   \n",
      "2022-05-31  31792.310547  1942.328003  0.999388  320.485107  0.625254   \n",
      "2022-06-01  29799.080078  1823.569336  0.999260  300.504059  0.552750   \n",
      "2022-06-02  30467.488281  1834.150513  0.999317  308.101776  0.587795   \n",
      "\n",
      "Symbols      XRP-USD    SOL-USD  DOGE-USD  DOT-USD   UNI-USD      BTT2-USD  \\\n",
      "Date                                                                         \n",
      "2022-05-29  0.389016  44.909615  0.082686      NaN  0.000147  1.000000e-06   \n",
      "2022-05-30  0.418175  47.179443  0.087871      NaN  0.000159  1.000000e-06   \n",
      "2022-05-31  0.421867  45.767841  0.085865      NaN  0.000159  1.000000e-06   \n",
      "2022-06-01  0.398085  40.269669  0.081056      NaN  0.000149  1.000000e-06   \n",
      "2022-06-02  0.405302  40.891346  0.082772      NaN  0.000152  1.000000e-06   \n",
      "\n",
      "Symbols      TRX-USD    NEO-USD   XVG-USD  \n",
      "Date                                       \n",
      "2022-05-29  0.080507  10.612815  0.004948  \n",
      "2022-05-30  0.083259  11.772958  0.005442  \n",
      "2022-05-31  0.084191  11.541789  0.005324  \n",
      "2022-06-01  0.083474  11.156198  0.004748  \n",
      "2022-06-02  0.084219  11.438165  0.004946  \n"
     ]
    }
   ],
   "source": [
    "crypto_prices = get_data(stocks, '06/01/2021', '06/01/2022' )\n",
    "\n",
    "print(crypto_prices.head())\n",
    "print(crypto_prices.tail())"
   ]
  },
  {
   "cell_type": "code",
   "execution_count": 6,
   "id": "aee092f8-9c69-4912-a3b6-76371c2cc141",
   "metadata": {},
   "outputs": [],
   "source": [
    "def get_historical_data(ticker, start_date, end_date):\n",
    "    # Pull Historical Data\n",
    "    data = yf.download(ticker, start=start_date, end=end_date,progress=False)\n",
    "    # Calculate Daily Returns\n",
    "    data['Daily Return'] = data['Adj Close'].pct_change()   \n",
    "    return data.dropna()"
   ]
  },
  {
   "cell_type": "code",
   "execution_count": 7,
   "id": "f552caa4-31d2-48d1-893f-c97503ea3d07",
   "metadata": {},
   "outputs": [],
   "source": [
    "def std_dev(data):\n",
    "    # Get number of observations\n",
    "    n = len(data)\n",
    "    # Calculate mean\n",
    "    mean = sum(data) / n\n",
    "    # Calculate deviations from the mean\n",
    "    deviations = sum([(x - mean)**2 for x in data])\n",
    "    # Calculate Variance & Standard Deviation\n",
    "    variance = deviations / (n - 1)\n",
    "    s = variance**(1/2)\n",
    "    return s"
   ]
  },
  {
   "cell_type": "code",
   "execution_count": 8,
   "id": "2baa2b37-224c-41af-a259-6eb3e7dd40b4",
   "metadata": {},
   "outputs": [],
   "source": [
    "# Sharpe Ratio From Scratch\n",
    "def annualize_sharpe_ratio(data, risk_free_rate=0.0):\n",
    "    # Calculate Average Daily Return\n",
    "    mean_daily_return = sum(data) / len(data)\n",
    "    # Calculate Standard Deviation\n",
    "    s = std_dev(data)\n",
    "    # Calculate Daily Sharpe Ratio\n",
    "    daily_sharpe_ratio = (mean_daily_return - risk_free_rate) / s\n",
    "    # Annualize Daily Sharpe Ratio\n",
    "    sharpe_ratio = 252**(1/2) * daily_sharpe_ratio\n",
    "    \n",
    "    return sharpe_ratio"
   ]
  },
  {
   "cell_type": "code",
   "execution_count": 9,
   "id": "39672c7f-e539-46fa-8919-87f37c12a888",
   "metadata": {},
   "outputs": [],
   "source": [
    "# Sharpe Ratio From Scratch\n",
    "def sharpe_ratio(data, risk_free_rate=0.0):\n",
    "    # Calculate Average Daily Return\n",
    "    mean_daily_return = sum(data) / len(data)\n",
    "    # Calculate Standard Deviation\n",
    "    s = std_dev(data)\n",
    "    # Calculate Daily Sharpe Ratio\n",
    "    daily_sharpe_ratio = (mean_daily_return - risk_free_rate) / s\n",
    "    # Annualize Daily Sharpe Ratio\n",
    "    sharpe_ratio = 252**(1/2) * daily_sharpe_ratio\n",
    "    \n",
    "    return sharpe_ratio"
   ]
  },
  {
   "cell_type": "code",
   "execution_count": 10,
   "id": "0919fa84-8074-493f-9d9d-485dd53066dc",
   "metadata": {},
   "outputs": [],
   "source": [
    "btc_df = get_historical_data('BTC-USD', start_date='2021-06-01', end_date='2022-06-01')\n",
    "eth_df = get_historical_data('ETH-USD', start_date='2021-06-01', end_date='2022-06-01')\n",
    "usdt_df = get_historical_data('USDT-USD', start_date='2021-06-01', end_date='2022-06-01')\n",
    "bnb_df = get_historical_data('BNB-USD', start_date='2021-06-01', end_date='2022-06-01')\n",
    "ada_df = get_historical_data('ADA-USD', start_date='2021-06-01', end_date='2022-06-01')\n",
    "xrp_df = get_historical_data('XRP-USD', start_date='2021-06-01', end_date='2022-06-01')\n",
    "sol_df = get_historical_data('SOL-USD', start_date='2021-06-01', end_date='2022-06-01')\n",
    "doge_df = get_historical_data('DOGE-USD', start_date='2021-06-01', end_date='2022-06-01')\n",
    "dot_df = get_historical_data('DOT-USD', start_date='2021-06-01', end_date='2022-06-01')\n",
    "uni_df = get_historical_data('UNI-USD', start_date='2021-06-01', end_date='2022-06-01')\n",
    "btt2_df = get_historical_data('BTT2-USD', start_date='2021-06-01', end_date='2022-06-01')\n",
    "trx_df = get_historical_data('TRX-USD', start_date='2021-06-01', end_date='2022-06-01')\n",
    "neo_df = get_historical_data('NEO-USD', start_date='2021-06-01', end_date='2022-06-01')\n",
    "xvg_df = get_historical_data('XVG-USD', start_date='2021-06-01', end_date='2022-06-01')"
   ]
  },
  {
   "cell_type": "code",
   "execution_count": 11,
   "id": "4f5bf899-7372-4dfb-99d9-37be6bd8ff15",
   "metadata": {},
   "outputs": [
    {
     "data": {
      "text/html": [
       "<div>\n",
       "<style scoped>\n",
       "    .dataframe tbody tr th:only-of-type {\n",
       "        vertical-align: middle;\n",
       "    }\n",
       "\n",
       "    .dataframe tbody tr th {\n",
       "        vertical-align: top;\n",
       "    }\n",
       "\n",
       "    .dataframe thead th {\n",
       "        text-align: right;\n",
       "    }\n",
       "</style>\n",
       "<table border=\"1\" class=\"dataframe\">\n",
       "  <thead>\n",
       "    <tr style=\"text-align: right;\">\n",
       "      <th></th>\n",
       "      <th>Open</th>\n",
       "      <th>High</th>\n",
       "      <th>Low</th>\n",
       "      <th>Close</th>\n",
       "      <th>Adj Close</th>\n",
       "      <th>Volume</th>\n",
       "      <th>Daily Return</th>\n",
       "    </tr>\n",
       "    <tr>\n",
       "      <th>Date</th>\n",
       "      <th></th>\n",
       "      <th></th>\n",
       "      <th></th>\n",
       "      <th></th>\n",
       "      <th></th>\n",
       "      <th></th>\n",
       "      <th></th>\n",
       "    </tr>\n",
       "  </thead>\n",
       "  <tbody>\n",
       "    <tr>\n",
       "      <th>2021-06-02</th>\n",
       "      <td>36699.921875</td>\n",
       "      <td>38231.339844</td>\n",
       "      <td>35966.308594</td>\n",
       "      <td>37575.179688</td>\n",
       "      <td>37575.179688</td>\n",
       "      <td>33070867190</td>\n",
       "      <td>0.024268</td>\n",
       "    </tr>\n",
       "    <tr>\n",
       "      <th>2021-06-03</th>\n",
       "      <td>37599.410156</td>\n",
       "      <td>39478.953125</td>\n",
       "      <td>37243.972656</td>\n",
       "      <td>39208.765625</td>\n",
       "      <td>39208.765625</td>\n",
       "      <td>35460750427</td>\n",
       "      <td>0.043475</td>\n",
       "    </tr>\n",
       "    <tr>\n",
       "      <th>2021-06-04</th>\n",
       "      <td>39242.484375</td>\n",
       "      <td>39242.484375</td>\n",
       "      <td>35717.722656</td>\n",
       "      <td>36894.406250</td>\n",
       "      <td>36894.406250</td>\n",
       "      <td>41831090187</td>\n",
       "      <td>-0.059027</td>\n",
       "    </tr>\n",
       "    <tr>\n",
       "      <th>2021-06-05</th>\n",
       "      <td>36880.156250</td>\n",
       "      <td>37917.714844</td>\n",
       "      <td>34900.414062</td>\n",
       "      <td>35551.957031</td>\n",
       "      <td>35551.957031</td>\n",
       "      <td>35959473399</td>\n",
       "      <td>-0.036386</td>\n",
       "    </tr>\n",
       "    <tr>\n",
       "      <th>2021-06-06</th>\n",
       "      <td>35538.609375</td>\n",
       "      <td>36436.421875</td>\n",
       "      <td>35304.578125</td>\n",
       "      <td>35862.378906</td>\n",
       "      <td>35862.378906</td>\n",
       "      <td>28913440585</td>\n",
       "      <td>0.008731</td>\n",
       "    </tr>\n",
       "    <tr>\n",
       "      <th>...</th>\n",
       "      <td>...</td>\n",
       "      <td>...</td>\n",
       "      <td>...</td>\n",
       "      <td>...</td>\n",
       "      <td>...</td>\n",
       "      <td>...</td>\n",
       "      <td>...</td>\n",
       "    </tr>\n",
       "    <tr>\n",
       "      <th>2022-05-28</th>\n",
       "      <td>28622.625000</td>\n",
       "      <td>28814.900391</td>\n",
       "      <td>28554.566406</td>\n",
       "      <td>28814.900391</td>\n",
       "      <td>28814.900391</td>\n",
       "      <td>35519577634</td>\n",
       "      <td>0.006544</td>\n",
       "    </tr>\n",
       "    <tr>\n",
       "      <th>2022-05-29</th>\n",
       "      <td>29019.867188</td>\n",
       "      <td>29498.009766</td>\n",
       "      <td>28841.107422</td>\n",
       "      <td>29445.957031</td>\n",
       "      <td>29445.957031</td>\n",
       "      <td>18093886409</td>\n",
       "      <td>0.021900</td>\n",
       "    </tr>\n",
       "    <tr>\n",
       "      <th>2022-05-30</th>\n",
       "      <td>29443.365234</td>\n",
       "      <td>31949.630859</td>\n",
       "      <td>29303.572266</td>\n",
       "      <td>31726.390625</td>\n",
       "      <td>31726.390625</td>\n",
       "      <td>39277993274</td>\n",
       "      <td>0.077445</td>\n",
       "    </tr>\n",
       "    <tr>\n",
       "      <th>2022-05-31</th>\n",
       "      <td>31723.865234</td>\n",
       "      <td>32249.863281</td>\n",
       "      <td>31286.154297</td>\n",
       "      <td>31792.310547</td>\n",
       "      <td>31792.310547</td>\n",
       "      <td>33538210634</td>\n",
       "      <td>0.002078</td>\n",
       "    </tr>\n",
       "    <tr>\n",
       "      <th>2022-06-01</th>\n",
       "      <td>31792.554688</td>\n",
       "      <td>31957.285156</td>\n",
       "      <td>29501.587891</td>\n",
       "      <td>29799.080078</td>\n",
       "      <td>29799.080078</td>\n",
       "      <td>41135817341</td>\n",
       "      <td>-0.062695</td>\n",
       "    </tr>\n",
       "  </tbody>\n",
       "</table>\n",
       "<p>365 rows × 7 columns</p>\n",
       "</div>"
      ],
      "text/plain": [
       "                    Open          High           Low         Close  \\\n",
       "Date                                                                 \n",
       "2021-06-02  36699.921875  38231.339844  35966.308594  37575.179688   \n",
       "2021-06-03  37599.410156  39478.953125  37243.972656  39208.765625   \n",
       "2021-06-04  39242.484375  39242.484375  35717.722656  36894.406250   \n",
       "2021-06-05  36880.156250  37917.714844  34900.414062  35551.957031   \n",
       "2021-06-06  35538.609375  36436.421875  35304.578125  35862.378906   \n",
       "...                  ...           ...           ...           ...   \n",
       "2022-05-28  28622.625000  28814.900391  28554.566406  28814.900391   \n",
       "2022-05-29  29019.867188  29498.009766  28841.107422  29445.957031   \n",
       "2022-05-30  29443.365234  31949.630859  29303.572266  31726.390625   \n",
       "2022-05-31  31723.865234  32249.863281  31286.154297  31792.310547   \n",
       "2022-06-01  31792.554688  31957.285156  29501.587891  29799.080078   \n",
       "\n",
       "               Adj Close       Volume  Daily Return  \n",
       "Date                                                 \n",
       "2021-06-02  37575.179688  33070867190      0.024268  \n",
       "2021-06-03  39208.765625  35460750427      0.043475  \n",
       "2021-06-04  36894.406250  41831090187     -0.059027  \n",
       "2021-06-05  35551.957031  35959473399     -0.036386  \n",
       "2021-06-06  35862.378906  28913440585      0.008731  \n",
       "...                  ...          ...           ...  \n",
       "2022-05-28  28814.900391  35519577634      0.006544  \n",
       "2022-05-29  29445.957031  18093886409      0.021900  \n",
       "2022-05-30  31726.390625  39277993274      0.077445  \n",
       "2022-05-31  31792.310547  33538210634      0.002078  \n",
       "2022-06-01  29799.080078  41135817341     -0.062695  \n",
       "\n",
       "[365 rows x 7 columns]"
      ]
     },
     "metadata": {},
     "output_type": "display_data"
    }
   ],
   "source": [
    "#display(btc_df)"
   ]
  },
  {
   "cell_type": "code",
   "execution_count": 12,
   "id": "46014266-9bda-4281-899f-e08227e5ea40",
   "metadata": {},
   "outputs": [
    {
     "data": {
      "text/plain": [
       "0.03511380804828396"
      ]
     },
     "metadata": {},
     "output_type": "display_data"
    },
    {
     "data": {
      "text/plain": [
       "-0.025133959840694824"
      ]
     },
     "metadata": {},
     "output_type": "display_data"
    },
    {
     "data": {
      "text/plain": [
       "-0.07216289386793075"
      ]
     },
     "metadata": {},
     "output_type": "display_data"
    },
    {
     "data": {
      "text/plain": [
       "0.16140915070756043"
      ]
     },
     "metadata": {},
     "output_type": "display_data"
    },
    {
     "data": {
      "text/plain": [
       "-0.515356130506367"
      ]
     },
     "metadata": {},
     "output_type": "display_data"
    },
    {
     "data": {
      "text/plain": [
       "-0.3987687936909859"
      ]
     },
     "metadata": {},
     "output_type": "display_data"
    },
    {
     "data": {
      "text/plain": [
       "0.6893390943929519"
      ]
     },
     "metadata": {},
     "output_type": "display_data"
    },
    {
     "data": {
      "text/plain": [
       "-0.7002334516120625"
      ]
     },
     "metadata": {},
     "output_type": "display_data"
    },
    {
     "data": {
      "text/plain": [
       "-0.1143373386767076"
      ]
     },
     "metadata": {},
     "output_type": "display_data"
    },
    {
     "data": {
      "text/plain": [
       "0.4550952216602862"
      ]
     },
     "metadata": {},
     "output_type": "display_data"
    },
    {
     "data": {
      "text/plain": [
       "-1.047293141717934"
      ]
     },
     "metadata": {},
     "output_type": "display_data"
    },
    {
     "data": {
      "text/plain": [
       "1.4381682188247902"
      ]
     },
     "metadata": {},
     "output_type": "display_data"
    },
    {
     "data": {
      "text/plain": [
       "-0.7501979898973351"
      ]
     },
     "metadata": {},
     "output_type": "display_data"
    },
    {
     "data": {
      "text/plain": [
       "-0.6920036535745615"
      ]
     },
     "metadata": {},
     "output_type": "display_data"
    }
   ],
   "source": [
    "display(annualize_sharpe_ratio(btc_df['Daily Return']))\n",
    "display(annualize_sharpe_ratio(eth_df['Daily Return']))\n",
    "display(annualize_sharpe_ratio(usdt_df['Daily Return']))\n",
    "display(annualize_sharpe_ratio(bnb_df['Daily Return']))\n",
    "display(annualize_sharpe_ratio(ada_df['Daily Return']))\n",
    "display(annualize_sharpe_ratio(xrp_df['Daily Return']))\n",
    "display(annualize_sharpe_ratio(sol_df['Daily Return']))\n",
    "display(annualize_sharpe_ratio(doge_df['Daily Return']))\n",
    "display(annualize_sharpe_ratio(dot_df['Daily Return']))\n",
    "display(annualize_sharpe_ratio(trx_df['Daily Return']))\n",
    "display(annualize_sharpe_ratio(btt2_df['Daily Return']))\n",
    "display(annualize_sharpe_ratio(uni_df['Daily Return']))\n",
    "display(annualize_sharpe_ratio(neo_df['Daily Return']))\n",
    "display(annualize_sharpe_ratio(xvg_df['Daily Return']))"
   ]
  },
  {
   "cell_type": "code",
   "execution_count": 13,
   "id": "7974251b-476e-4cce-b523-5848d9135d10",
   "metadata": {},
   "outputs": [],
   "source": [
    "# Next, we'll define a function for calculating daily returns for our coins\n",
    "def calc_daily_returns(df):\n",
    "    return (df.pct_change())"
   ]
  },
  {
   "cell_type": "code",
   "execution_count": 14,
   "id": "7fbee527-c17c-47f6-b2cd-a5c53b97b241",
   "metadata": {},
   "outputs": [
    {
     "name": "stdout",
     "output_type": "stream",
     "text": [
      "Symbols      BTC-USD   ETH-USD  USDT-USD   BNB-USD   ADA-USD   XRP-USD  \\\n",
      "Date                                                                     \n",
      "2021-06-01       NaN       NaN       NaN       NaN       NaN       NaN   \n",
      "2021-06-02  0.024268  0.027570  0.000441  0.106032  0.010417  0.013253   \n",
      "2021-06-03  0.043475  0.055061  0.000021  0.066155  0.050003  0.020423   \n",
      "2021-06-04 -0.059027 -0.058467  0.000467 -0.085114 -0.070397 -0.071868   \n",
      "2021-06-05 -0.036386 -0.021434 -0.000724 -0.002462 -0.030334 -0.048351   \n",
      "\n",
      "Symbols      SOL-USD  DOGE-USD   DOT-USD   UNI-USD  BTT2-USD   TRX-USD  \\\n",
      "Date                                                                     \n",
      "2021-06-01       NaN       NaN       NaN       NaN       NaN       NaN   \n",
      "2021-06-02  0.095886  0.144016  0.137955  0.025974       NaN  0.025021   \n",
      "2021-06-03  0.162402 -0.055296  0.040671  1.182278       NaN  0.052255   \n",
      "2021-06-04 -0.052085 -0.059105 -0.074228  0.712877       NaN -0.059268   \n",
      "2021-06-05  0.058007 -0.011017 -0.047645 -0.470369       NaN -0.021436   \n",
      "\n",
      "Symbols      NEO-USD   XVG-USD  \n",
      "Date                            \n",
      "2021-06-01       NaN       NaN  \n",
      "2021-06-02  0.071120  0.046458  \n",
      "2021-06-03  0.062219  0.070482  \n",
      "2021-06-04 -0.081589  0.141313  \n",
      "2021-06-05 -0.012073 -0.030489  \n",
      "Symbols      BTC-USD   ETH-USD  USDT-USD   BNB-USD   ADA-USD   XRP-USD  \\\n",
      "Date                                                                     \n",
      "2022-05-29  0.021900  0.030769  0.000176 -0.005979  0.035205  0.006971   \n",
      "2022-05-30  0.077445  0.101770  0.000198  0.051566  0.184873  0.074956   \n",
      "2022-05-31  0.002078 -0.027105  0.000012 -0.003940  0.096796  0.008829   \n",
      "2022-06-01 -0.062695 -0.061142 -0.000128 -0.062346 -0.115959 -0.056373   \n",
      "2022-06-02  0.022430  0.005802  0.000057  0.025283  0.063401  0.018129   \n",
      "\n",
      "Symbols      SOL-USD  DOGE-USD  DOT-USD   UNI-USD  BTT2-USD   TRX-USD  \\\n",
      "Date                                                                    \n",
      "2022-05-29  0.012774  0.010350      0.0  0.013793       0.0 -0.009206   \n",
      "2022-05-30  0.050542  0.062707      0.0  0.081633       0.0  0.034183   \n",
      "2022-05-31 -0.029920 -0.022829      0.0  0.000000       0.0  0.011194   \n",
      "2022-06-01 -0.120132 -0.056007      0.0 -0.062893       0.0 -0.008516   \n",
      "2022-06-02  0.015438  0.021171      0.0  0.020134       0.0  0.008925   \n",
      "\n",
      "Symbols      NEO-USD   XVG-USD  \n",
      "Date                            \n",
      "2022-05-29  0.012758  0.009384  \n",
      "2022-05-30  0.109315  0.099838  \n",
      "2022-05-31 -0.019636 -0.021683  \n",
      "2022-06-01 -0.033408 -0.108189  \n",
      "2022-06-02  0.025274  0.041702  \n"
     ]
    }
   ],
   "source": [
    "crypto_daily_rets = calc_daily_returns(crypto_prices)\n",
    "print(crypto_daily_rets.head())\n",
    "print(crypto_daily_rets.tail())"
   ]
  },
  {
   "cell_type": "code",
   "execution_count": 15,
   "id": "c2cca0eb-cc26-459e-b80c-5d06b0e4ef87",
   "metadata": {},
   "outputs": [],
   "source": [
    "# Define a function for creating covariance matrices\n",
    "def create_covariance_matrix(daily_returns):\n",
    "    return daily_returns.cov()"
   ]
  },
  {
   "cell_type": "code",
   "execution_count": 16,
   "id": "3a36d528-2e54-4a22-b5b9-6b0264b944c1",
   "metadata": {},
   "outputs": [
    {
     "data": {
      "text/html": [
       "<div>\n",
       "<style scoped>\n",
       "    .dataframe tbody tr th:only-of-type {\n",
       "        vertical-align: middle;\n",
       "    }\n",
       "\n",
       "    .dataframe tbody tr th {\n",
       "        vertical-align: top;\n",
       "    }\n",
       "\n",
       "    .dataframe thead th {\n",
       "        text-align: right;\n",
       "    }\n",
       "</style>\n",
       "<table border=\"1\" class=\"dataframe\">\n",
       "  <thead>\n",
       "    <tr style=\"text-align: right;\">\n",
       "      <th>Symbols</th>\n",
       "      <th>BTC-USD</th>\n",
       "      <th>ETH-USD</th>\n",
       "      <th>USDT-USD</th>\n",
       "      <th>BNB-USD</th>\n",
       "      <th>ADA-USD</th>\n",
       "      <th>XRP-USD</th>\n",
       "      <th>SOL-USD</th>\n",
       "      <th>DOGE-USD</th>\n",
       "      <th>DOT-USD</th>\n",
       "      <th>UNI-USD</th>\n",
       "      <th>BTT2-USD</th>\n",
       "      <th>TRX-USD</th>\n",
       "      <th>NEO-USD</th>\n",
       "      <th>XVG-USD</th>\n",
       "    </tr>\n",
       "    <tr>\n",
       "      <th>Symbols</th>\n",
       "      <th></th>\n",
       "      <th></th>\n",
       "      <th></th>\n",
       "      <th></th>\n",
       "      <th></th>\n",
       "      <th></th>\n",
       "      <th></th>\n",
       "      <th></th>\n",
       "      <th></th>\n",
       "      <th></th>\n",
       "      <th></th>\n",
       "      <th></th>\n",
       "      <th></th>\n",
       "      <th></th>\n",
       "    </tr>\n",
       "  </thead>\n",
       "  <tbody>\n",
       "    <tr>\n",
       "      <th>BTC-USD</th>\n",
       "      <td>0.0013</td>\n",
       "      <td>0.0013</td>\n",
       "      <td>-0.0</td>\n",
       "      <td>0.0012</td>\n",
       "      <td>0.0014</td>\n",
       "      <td>0.0013</td>\n",
       "      <td>0.0014</td>\n",
       "      <td>0.0014</td>\n",
       "      <td>0.0012</td>\n",
       "      <td>0.0011</td>\n",
       "      <td>0.0004</td>\n",
       "      <td>0.0011</td>\n",
       "      <td>0.0016</td>\n",
       "      <td>0.0015</td>\n",
       "    </tr>\n",
       "    <tr>\n",
       "      <th>ETH-USD</th>\n",
       "      <td>0.0013</td>\n",
       "      <td>0.0019</td>\n",
       "      <td>0.0</td>\n",
       "      <td>0.0016</td>\n",
       "      <td>0.0017</td>\n",
       "      <td>0.0017</td>\n",
       "      <td>0.0019</td>\n",
       "      <td>0.0017</td>\n",
       "      <td>0.0016</td>\n",
       "      <td>0.0009</td>\n",
       "      <td>0.0004</td>\n",
       "      <td>0.0014</td>\n",
       "      <td>0.0019</td>\n",
       "      <td>0.0019</td>\n",
       "    </tr>\n",
       "    <tr>\n",
       "      <th>USDT-USD</th>\n",
       "      <td>-0.0000</td>\n",
       "      <td>0.0000</td>\n",
       "      <td>0.0</td>\n",
       "      <td>0.0000</td>\n",
       "      <td>0.0000</td>\n",
       "      <td>0.0000</td>\n",
       "      <td>0.0000</td>\n",
       "      <td>0.0000</td>\n",
       "      <td>-0.0000</td>\n",
       "      <td>-0.0000</td>\n",
       "      <td>-0.0000</td>\n",
       "      <td>-0.0000</td>\n",
       "      <td>0.0000</td>\n",
       "      <td>0.0000</td>\n",
       "    </tr>\n",
       "    <tr>\n",
       "      <th>BNB-USD</th>\n",
       "      <td>0.0012</td>\n",
       "      <td>0.0016</td>\n",
       "      <td>0.0</td>\n",
       "      <td>0.0019</td>\n",
       "      <td>0.0017</td>\n",
       "      <td>0.0017</td>\n",
       "      <td>0.0018</td>\n",
       "      <td>0.0018</td>\n",
       "      <td>0.0016</td>\n",
       "      <td>0.0017</td>\n",
       "      <td>0.0005</td>\n",
       "      <td>0.0014</td>\n",
       "      <td>0.0020</td>\n",
       "      <td>0.0019</td>\n",
       "    </tr>\n",
       "    <tr>\n",
       "      <th>ADA-USD</th>\n",
       "      <td>0.0014</td>\n",
       "      <td>0.0017</td>\n",
       "      <td>0.0</td>\n",
       "      <td>0.0017</td>\n",
       "      <td>0.0028</td>\n",
       "      <td>0.0020</td>\n",
       "      <td>0.0022</td>\n",
       "      <td>0.0019</td>\n",
       "      <td>0.0016</td>\n",
       "      <td>0.0032</td>\n",
       "      <td>0.0014</td>\n",
       "      <td>0.0017</td>\n",
       "      <td>0.0022</td>\n",
       "      <td>0.0022</td>\n",
       "    </tr>\n",
       "    <tr>\n",
       "      <th>XRP-USD</th>\n",
       "      <td>0.0013</td>\n",
       "      <td>0.0017</td>\n",
       "      <td>0.0</td>\n",
       "      <td>0.0017</td>\n",
       "      <td>0.0020</td>\n",
       "      <td>0.0025</td>\n",
       "      <td>0.0019</td>\n",
       "      <td>0.0020</td>\n",
       "      <td>0.0017</td>\n",
       "      <td>0.0023</td>\n",
       "      <td>0.0005</td>\n",
       "      <td>0.0017</td>\n",
       "      <td>0.0022</td>\n",
       "      <td>0.0021</td>\n",
       "    </tr>\n",
       "    <tr>\n",
       "      <th>SOL-USD</th>\n",
       "      <td>0.0014</td>\n",
       "      <td>0.0019</td>\n",
       "      <td>0.0</td>\n",
       "      <td>0.0018</td>\n",
       "      <td>0.0022</td>\n",
       "      <td>0.0019</td>\n",
       "      <td>0.0042</td>\n",
       "      <td>0.0020</td>\n",
       "      <td>0.0019</td>\n",
       "      <td>0.0019</td>\n",
       "      <td>0.0005</td>\n",
       "      <td>0.0016</td>\n",
       "      <td>0.0024</td>\n",
       "      <td>0.0024</td>\n",
       "    </tr>\n",
       "    <tr>\n",
       "      <th>DOGE-USD</th>\n",
       "      <td>0.0014</td>\n",
       "      <td>0.0017</td>\n",
       "      <td>0.0</td>\n",
       "      <td>0.0018</td>\n",
       "      <td>0.0019</td>\n",
       "      <td>0.0020</td>\n",
       "      <td>0.0020</td>\n",
       "      <td>0.0032</td>\n",
       "      <td>0.0017</td>\n",
       "      <td>0.0022</td>\n",
       "      <td>0.0003</td>\n",
       "      <td>0.0017</td>\n",
       "      <td>0.0022</td>\n",
       "      <td>0.0021</td>\n",
       "    </tr>\n",
       "    <tr>\n",
       "      <th>DOT-USD</th>\n",
       "      <td>0.0012</td>\n",
       "      <td>0.0016</td>\n",
       "      <td>-0.0</td>\n",
       "      <td>0.0016</td>\n",
       "      <td>0.0016</td>\n",
       "      <td>0.0017</td>\n",
       "      <td>0.0019</td>\n",
       "      <td>0.0017</td>\n",
       "      <td>0.0031</td>\n",
       "      <td>0.0009</td>\n",
       "      <td>0.0007</td>\n",
       "      <td>0.0016</td>\n",
       "      <td>0.0020</td>\n",
       "      <td>0.0018</td>\n",
       "    </tr>\n",
       "    <tr>\n",
       "      <th>UNI-USD</th>\n",
       "      <td>0.0011</td>\n",
       "      <td>0.0009</td>\n",
       "      <td>-0.0</td>\n",
       "      <td>0.0017</td>\n",
       "      <td>0.0032</td>\n",
       "      <td>0.0023</td>\n",
       "      <td>0.0019</td>\n",
       "      <td>0.0022</td>\n",
       "      <td>0.0009</td>\n",
       "      <td>0.1581</td>\n",
       "      <td>-0.0013</td>\n",
       "      <td>0.0019</td>\n",
       "      <td>0.0019</td>\n",
       "      <td>0.0046</td>\n",
       "    </tr>\n",
       "    <tr>\n",
       "      <th>BTT2-USD</th>\n",
       "      <td>0.0004</td>\n",
       "      <td>0.0004</td>\n",
       "      <td>-0.0</td>\n",
       "      <td>0.0005</td>\n",
       "      <td>0.0014</td>\n",
       "      <td>0.0005</td>\n",
       "      <td>0.0005</td>\n",
       "      <td>0.0003</td>\n",
       "      <td>0.0007</td>\n",
       "      <td>-0.0013</td>\n",
       "      <td>0.0051</td>\n",
       "      <td>0.0007</td>\n",
       "      <td>0.0006</td>\n",
       "      <td>0.0006</td>\n",
       "    </tr>\n",
       "    <tr>\n",
       "      <th>TRX-USD</th>\n",
       "      <td>0.0011</td>\n",
       "      <td>0.0014</td>\n",
       "      <td>-0.0</td>\n",
       "      <td>0.0014</td>\n",
       "      <td>0.0017</td>\n",
       "      <td>0.0017</td>\n",
       "      <td>0.0016</td>\n",
       "      <td>0.0017</td>\n",
       "      <td>0.0016</td>\n",
       "      <td>0.0019</td>\n",
       "      <td>0.0007</td>\n",
       "      <td>0.0021</td>\n",
       "      <td>0.0019</td>\n",
       "      <td>0.0017</td>\n",
       "    </tr>\n",
       "    <tr>\n",
       "      <th>NEO-USD</th>\n",
       "      <td>0.0016</td>\n",
       "      <td>0.0019</td>\n",
       "      <td>0.0</td>\n",
       "      <td>0.0020</td>\n",
       "      <td>0.0022</td>\n",
       "      <td>0.0022</td>\n",
       "      <td>0.0024</td>\n",
       "      <td>0.0022</td>\n",
       "      <td>0.0020</td>\n",
       "      <td>0.0019</td>\n",
       "      <td>0.0006</td>\n",
       "      <td>0.0019</td>\n",
       "      <td>0.0032</td>\n",
       "      <td>0.0024</td>\n",
       "    </tr>\n",
       "    <tr>\n",
       "      <th>XVG-USD</th>\n",
       "      <td>0.0015</td>\n",
       "      <td>0.0019</td>\n",
       "      <td>0.0</td>\n",
       "      <td>0.0019</td>\n",
       "      <td>0.0022</td>\n",
       "      <td>0.0021</td>\n",
       "      <td>0.0024</td>\n",
       "      <td>0.0021</td>\n",
       "      <td>0.0018</td>\n",
       "      <td>0.0046</td>\n",
       "      <td>0.0006</td>\n",
       "      <td>0.0017</td>\n",
       "      <td>0.0024</td>\n",
       "      <td>0.0038</td>\n",
       "    </tr>\n",
       "  </tbody>\n",
       "</table>\n",
       "</div>"
      ],
      "text/plain": [
       "Symbols   BTC-USD  ETH-USD  USDT-USD  BNB-USD  ADA-USD  XRP-USD  SOL-USD  \\\n",
       "Symbols                                                                    \n",
       "BTC-USD    0.0013   0.0013      -0.0   0.0012   0.0014   0.0013   0.0014   \n",
       "ETH-USD    0.0013   0.0019       0.0   0.0016   0.0017   0.0017   0.0019   \n",
       "USDT-USD  -0.0000   0.0000       0.0   0.0000   0.0000   0.0000   0.0000   \n",
       "BNB-USD    0.0012   0.0016       0.0   0.0019   0.0017   0.0017   0.0018   \n",
       "ADA-USD    0.0014   0.0017       0.0   0.0017   0.0028   0.0020   0.0022   \n",
       "XRP-USD    0.0013   0.0017       0.0   0.0017   0.0020   0.0025   0.0019   \n",
       "SOL-USD    0.0014   0.0019       0.0   0.0018   0.0022   0.0019   0.0042   \n",
       "DOGE-USD   0.0014   0.0017       0.0   0.0018   0.0019   0.0020   0.0020   \n",
       "DOT-USD    0.0012   0.0016      -0.0   0.0016   0.0016   0.0017   0.0019   \n",
       "UNI-USD    0.0011   0.0009      -0.0   0.0017   0.0032   0.0023   0.0019   \n",
       "BTT2-USD   0.0004   0.0004      -0.0   0.0005   0.0014   0.0005   0.0005   \n",
       "TRX-USD    0.0011   0.0014      -0.0   0.0014   0.0017   0.0017   0.0016   \n",
       "NEO-USD    0.0016   0.0019       0.0   0.0020   0.0022   0.0022   0.0024   \n",
       "XVG-USD    0.0015   0.0019       0.0   0.0019   0.0022   0.0021   0.0024   \n",
       "\n",
       "Symbols   DOGE-USD  DOT-USD  UNI-USD  BTT2-USD  TRX-USD  NEO-USD  XVG-USD  \n",
       "Symbols                                                                    \n",
       "BTC-USD     0.0014   0.0012   0.0011    0.0004   0.0011   0.0016   0.0015  \n",
       "ETH-USD     0.0017   0.0016   0.0009    0.0004   0.0014   0.0019   0.0019  \n",
       "USDT-USD    0.0000  -0.0000  -0.0000   -0.0000  -0.0000   0.0000   0.0000  \n",
       "BNB-USD     0.0018   0.0016   0.0017    0.0005   0.0014   0.0020   0.0019  \n",
       "ADA-USD     0.0019   0.0016   0.0032    0.0014   0.0017   0.0022   0.0022  \n",
       "XRP-USD     0.0020   0.0017   0.0023    0.0005   0.0017   0.0022   0.0021  \n",
       "SOL-USD     0.0020   0.0019   0.0019    0.0005   0.0016   0.0024   0.0024  \n",
       "DOGE-USD    0.0032   0.0017   0.0022    0.0003   0.0017   0.0022   0.0021  \n",
       "DOT-USD     0.0017   0.0031   0.0009    0.0007   0.0016   0.0020   0.0018  \n",
       "UNI-USD     0.0022   0.0009   0.1581   -0.0013   0.0019   0.0019   0.0046  \n",
       "BTT2-USD    0.0003   0.0007  -0.0013    0.0051   0.0007   0.0006   0.0006  \n",
       "TRX-USD     0.0017   0.0016   0.0019    0.0007   0.0021   0.0019   0.0017  \n",
       "NEO-USD     0.0022   0.0020   0.0019    0.0006   0.0019   0.0032   0.0024  \n",
       "XVG-USD     0.0021   0.0018   0.0046    0.0006   0.0017   0.0024   0.0038  "
      ]
     },
     "execution_count": 16,
     "metadata": {},
     "output_type": "execute_result"
    }
   ],
   "source": [
    "crypto_cov_matrix = create_covariance_matrix(crypto_daily_rets)\n",
    "round((crypto_cov_matrix),4)"
   ]
  },
  {
   "cell_type": "code",
   "execution_count": 17,
   "id": "1036b6a7-a429-4e05-ac1b-9af441116493",
   "metadata": {},
   "outputs": [],
   "source": [
    "# Define a function for creating variance matrices\n",
    "def create_variance_matrix(daily_returns):\n",
    "    return daily_returns.var()"
   ]
  },
  {
   "cell_type": "code",
   "execution_count": 18,
   "id": "73609639-1537-4720-a2c6-94d6b3f55c5f",
   "metadata": {},
   "outputs": [
    {
     "data": {
      "text/plain": [
       "Symbols\n",
       "BTC-USD     0.00130\n",
       "ETH-USD     0.00186\n",
       "USDT-USD    0.00000\n",
       "BNB-USD     0.00188\n",
       "ADA-USD     0.00283\n",
       "XRP-USD     0.00255\n",
       "SOL-USD     0.00419\n",
       "DOGE-USD    0.00322\n",
       "DOT-USD     0.00307\n",
       "UNI-USD     0.15813\n",
       "BTT2-USD    0.00510\n",
       "TRX-USD     0.00215\n",
       "NEO-USD     0.00317\n",
       "XVG-USD     0.00377\n",
       "dtype: float64"
      ]
     },
     "execution_count": 18,
     "metadata": {},
     "output_type": "execute_result"
    }
   ],
   "source": [
    "#statistics.variance(cs)\n",
    "crypto_var_matrix = create_variance_matrix(crypto_daily_rets)\n",
    "round((crypto_var_matrix),5)"
   ]
  },
  {
   "cell_type": "code",
   "execution_count": 19,
   "id": "f4233a2c-997e-45a0-89c0-82850fb7d25f",
   "metadata": {},
   "outputs": [
    {
     "data": {
      "text/plain": [
       "0.0013009768007315537"
      ]
     },
     "execution_count": 19,
     "metadata": {},
     "output_type": "execute_result"
    }
   ],
   "source": [
    "BTC_variance = (btc_df['Daily Return']).var()\n",
    "BTC_variance"
   ]
  },
  {
   "cell_type": "code",
   "execution_count": 20,
   "id": "215fad51-5d80-43d3-bc0f-9dec6ec0896f",
   "metadata": {},
   "outputs": [
    {
     "data": {
      "text/plain": [
       "0.001864410764922964"
      ]
     },
     "execution_count": 20,
     "metadata": {},
     "output_type": "execute_result"
    }
   ],
   "source": [
    "ETH_variance = (eth_df['Daily Return']).var()\n",
    "ETH_variance"
   ]
  },
  {
   "cell_type": "code",
   "execution_count": 21,
   "id": "e666322b-f1de-4661-b2e1-625db13ac863",
   "metadata": {},
   "outputs": [],
   "source": [
    "# The Free Crypto API Call endpoint URLs for the held cryptocurrency assets\n",
    "btc_url = \"https://api.alternative.me/v2/ticker/Bitcoin/?convert=USD\"\n",
    "eth_url = \"https://api.alternative.me/v2/ticker/Ethereum/?convert=USD\"\n",
    "usdt_url = \"https://api.alternative.me/v2/ticker/Tether/?convert=USD\"\n",
    "bnb_url = \"https://api.alternative.me/v2/ticker/BinanceCoin/?convert=USD\"\n",
    "ada_url = \"https://api.alternative.me/v2/ticker/Cardano/?convert=USD\"\n",
    "xrp_url = \"https://api.alternative.me/v2/ticker/Ripple/?convert=USD\"\n",
    "sol_url = \"https://api.alternative.me/v2/ticker/Solana/?convert=USD\"\n",
    "doge_url = \"https://api.alternative.me/v2/ticker/Dogecoin/?convert=USD\"\n",
    "dot_url = \"https://api.alternative.me/v2/ticker/Polkadot/?convert=USD\"\n",
    "uni_url = \"https://api.alternative.me/v2/ticker/Uniswap/?convert=USD\"\n",
    "btt2_url = \"https://api.alternative.me/v2/ticker/bittorrent-2/?convert=USD\"\n",
    "trx_url = \"https://api.alternative.me/v2/ticker/Tron/?convert=USD\"\n",
    "neo_url = \"https://api.alternative.me/v2/ticker/Neo/?convert=USD\"\n",
    "xvg_url = \"https://api.alternative.me/v2/ticker/Verge/?convert=USD\""
   ]
  },
  {
   "cell_type": "code",
   "execution_count": 22,
   "id": "8bcdb60d-8b93-4d0d-a8a1-fc6652cbe113",
   "metadata": {},
   "outputs": [],
   "source": [
    "btc_response = requests.get(btc_url).json()\n",
    "eth_response= requests.get(eth_url).json()\n",
    "usdt_response= requests.get(usdt_url).json()\n",
    "bnb_response= requests.get(bnb_url).json()\n",
    "ada_response = requests.get(ada_url).json()\n",
    "xrp_response = requests.get(xrp_url).json()\n",
    "sol_response = requests.get(sol_url).json()\n",
    "doge_response = requests.get(doge_url).json()\n",
    "dot_response = requests.get(dot_url).json()\n",
    "uni_response= requests.get(uni_url).json()\n",
    "btt2_response = requests.get(btt2_url).json()\n",
    "trx_response = requests.get(trx_url).json()\n",
    "neo_response = requests.get(neo_url).json()\n",
    "xvg_response= requests.get(xvg_url).json()"
   ]
  },
  {
   "cell_type": "code",
   "execution_count": 23,
   "id": "434ed8c3-a937-48e5-a9d8-2caa2222a5c5",
   "metadata": {},
   "outputs": [
    {
     "name": "stdout",
     "output_type": "stream",
     "text": [
      "{\n",
      "    \"data\": {\n",
      "        \"1\": {\n",
      "            \"circulating_supply\": 19061337,\n",
      "            \"id\": 1,\n",
      "            \"last_updated\": 1654660132,\n",
      "            \"max_supply\": 21000000,\n",
      "            \"name\": \"Bitcoin\",\n",
      "            \"quotes\": {\n",
      "                \"USD\": {\n",
      "                    \"market_cap\": 570625072389,\n",
      "                    \"percent_change_1h\": -3.75731363926492,\n",
      "                    \"percent_change_24h\": 0.992448621857089,\n",
      "                    \"percent_change_7d\": -6.12754150743807,\n",
      "                    \"percentage_change_1h\": -3.75731363926492,\n",
      "                    \"percentage_change_24h\": 0.992448621857089,\n",
      "                    \"percentage_change_7d\": -6.12754150743807,\n",
      "                    \"price\": 29913.0,\n",
      "                    \"volume_24h\": 35479488379\n",
      "                }\n",
      "            },\n",
      "            \"rank\": 1,\n",
      "            \"symbol\": \"BTC\",\n",
      "            \"total_supply\": 19061337,\n",
      "            \"website_slug\": \"bitcoin\"\n",
      "        }\n",
      "    },\n",
      "    \"metadata\": {\n",
      "        \"error\": null,\n",
      "        \"num_cryptocurrencies\": 3116,\n",
      "        \"timestamp\": 1654660132\n",
      "    }\n",
      "}\n"
     ]
    }
   ],
   "source": [
    "print(json.dumps(btc_response, indent=4, sort_keys=True))\n",
    "#print(json.dumps(eth_response, indent=4, sort_keys=True))\n",
    "#print(json.dumps(usdt_response, indent=4, sort_keys=True))\n",
    "#print(json.dumps(bnb_response, indent=4, sort_keys=True))\n",
    "#print(json.dumps(ada_response, indent=4, sort_keys=True))\n",
    "#print(json.dumps(xrp_response, indent=4, sort_keys=True))\n",
    "#print(json.dumps(sol_response, indent=4, sort_keys=True))\n",
    "#print(json.dumps(doge_response, indent=4, sort_keys=True))\n",
    "#print(json.dumps(dot_response, indent=4, sort_keys=True))\n",
    "#print(json.dumps(uni_response, indent=4, sort_keys=True))\n",
    "#print(json.dumps(btt2_response, indent=4, sort_keys=True))\n",
    "#print(json.dumps(trx_response, indent=4, sort_keys=True))\n",
    "#print(json.dumps(neo_response, indent=4, sort_keys=True))\n",
    "#print(json.dumps(xvg_response, indent=4, sort_keys=True))"
   ]
  },
  {
   "cell_type": "code",
   "execution_count": 24,
   "id": "8d0ff085-8575-4111-894d-eace7c11b411",
   "metadata": {},
   "outputs": [],
   "source": [
    "# Crypto names\n",
    "btc_name = btc_response[\"data\"][\"1\"][\"name\"]\n",
    "eth_name = eth_response[\"data\"][\"1027\"][\"name\"]\n",
    "usdt_name = usdt_response[\"data\"][\"825\"][\"name\"]\n",
    "bnb_name = bnb_response[\"data\"][\"1839\"][\"name\"]\n",
    "ada_name = ada_response[\"data\"][\"2010\"][\"name\"]\n",
    "xrp_name = xrp_response[\"data\"][\"52\"][\"name\"]\n",
    "sol_name = sol_response[\"data\"][\"11733\"][\"name\"]\n",
    "doge_name = doge_response[\"data\"][\"74\"][\"name\"]\n",
    "dot_name = dot_response[\"data\"][\"11517\"][\"name\"]\n",
    "uni_name = uni_response[\"data\"][\"11968\"][\"name\"]\n",
    "btt2_name = btt2_response[\"data\"][\"3084\"][\"name\"]\n",
    "trx_name = trx_response[\"data\"][\"1958\"][\"name\"]\n",
    "neo_name = neo_response[\"data\"][\"1376\"][\"name\"]\n",
    "xvg_name = xvg_response[\"data\"][\"693\"][\"name\"]"
   ]
  },
  {
   "cell_type": "code",
   "execution_count": 25,
   "id": "456da08b-c5f8-44aa-946a-a7567fc380db",
   "metadata": {},
   "outputs": [],
   "source": [
    "# Crypto Symbol\n",
    "btc_symbol = btc_response[\"data\"][\"1\"][\"symbol\"]\n",
    "eth_symbol = eth_response[\"data\"][\"1027\"][\"symbol\"]\n",
    "usdt_symbol = usdt_response[\"data\"][\"825\"][\"symbol\"]\n",
    "bnb_symbol = bnb_response[\"data\"][\"1839\"][\"symbol\"]\n",
    "ada_symbol = ada_response[\"data\"][\"2010\"][\"symbol\"]\n",
    "xrp_symbol = xrp_response[\"data\"][\"52\"][\"symbol\"]\n",
    "sol_symbol = sol_response[\"data\"][\"11733\"][\"symbol\"]\n",
    "doge_symbol = doge_response[\"data\"][\"74\"][\"symbol\"]\n",
    "dot_symbol = dot_response[\"data\"][\"11517\"][\"symbol\"]\n",
    "uni_symbol = uni_response[\"data\"][\"11968\"][\"symbol\"]\n",
    "btt2_symbol = btt2_response[\"data\"][\"3084\"][\"symbol\"]\n",
    "trx_symbol = trx_response[\"data\"][\"1958\"][\"symbol\"]\n",
    "neo_symbol = neo_response[\"data\"][\"1376\"][\"symbol\"]\n",
    "xvg_symbol = xvg_response[\"data\"][\"693\"][\"symbol\"]"
   ]
  },
  {
   "cell_type": "code",
   "execution_count": 26,
   "id": "a1a568af-aa63-4a8a-82ff-30aa2cde0614",
   "metadata": {},
   "outputs": [],
   "source": [
    "# Crypto Category\n",
    "btc_cat = 'BTC'\n",
    "eth_cat = \"Altcoins\"\n",
    "usdt_cat = \"Stablecoin\"\n",
    "bnb_cat = \"Stablecoin\"\n",
    "ada_cat = 'Altcoins'\n",
    "xrp_cat = 'Altcoins'\n",
    "sol_cat = 'Altcoins'\n",
    "doge_cat = 'Meme coin'\n",
    "dot_cat = 'Altcoins'\n",
    "uni_cat = \"Altcoins\"\n",
    "btt2_cat = \"Altcoins\"\n",
    "trx_cat = \"Altcoins\"\n",
    "neo_cat = \"Altcoins\"\n",
    "xvg_cat = \"Altcoins\""
   ]
  },
  {
   "cell_type": "code",
   "execution_count": 27,
   "id": "aebef41b-f6a3-45f2-becc-5551bb3f6726",
   "metadata": {},
   "outputs": [],
   "source": [
    "# Crypto price\n",
    "btc_price = \"${:,.2f}\".format(btc_response[\"data\"][\"1\"][\"quotes\"][\"USD\"][\"price\"])\n",
    "eth_price = \"${:,.2f}\".format(eth_response[\"data\"][\"1027\"][\"quotes\"][\"USD\"][\"price\"])\n",
    "usdt_price = \"${:,.2f}\".format(usdt_response[\"data\"][\"825\"][\"quotes\"][\"USD\"][\"price\"])\n",
    "bnb_price = \"${:,.2f}\".format(bnb_response[\"data\"][\"1839\"][\"quotes\"][\"USD\"][\"price\"])\n",
    "ada_price = \"${:,.2f}\".format(ada_response[\"data\"][\"2010\"][\"quotes\"][\"USD\"][\"price\"])\n",
    "xrp_price = \"${:,.2f}\".format(xrp_response[\"data\"][\"52\"][\"quotes\"][\"USD\"][\"price\"])\n",
    "sol_price = \"${:,.2f}\".format(sol_response[\"data\"][\"11733\"][\"quotes\"][\"USD\"][\"price\"])\n",
    "doge_price = \"${:,.2f}\".format(doge_response[\"data\"][\"74\"][\"quotes\"][\"USD\"][\"price\"])\n",
    "dot_price = \"${:,.2f}\".format(dot_response[\"data\"][\"11517\"][\"quotes\"][\"USD\"][\"price\"])\n",
    "uni_price = \"${:,.2f}\".format(uni_response[\"data\"][\"11968\"][\"quotes\"][\"USD\"][\"price\"])\n",
    "btt2_price = \"${:,.2f}\".format(btt2_response[\"data\"][\"3084\"][\"quotes\"][\"USD\"][\"price\"])\n",
    "trx_price = \"${:,.2f}\".format(trx_response[\"data\"][\"1958\"][\"quotes\"][\"USD\"][\"price\"])\n",
    "neo_price = \"${:,.2f}\".format(neo_response[\"data\"][\"1376\"][\"quotes\"][\"USD\"][\"price\"])\n",
    "xvg_price = \"${:,.2f}\".format(xvg_response[\"data\"][\"693\"][\"quotes\"][\"USD\"][\"price\"])"
   ]
  },
  {
   "cell_type": "code",
   "execution_count": 28,
   "id": "f9bc7d50-46cb-46c2-b869-a888790f7725",
   "metadata": {},
   "outputs": [
    {
     "name": "stdout",
     "output_type": "stream",
     "text": [
      "$29,913.00\n"
     ]
    }
   ],
   "source": [
    "print(btc_price)"
   ]
  },
  {
   "cell_type": "code",
   "execution_count": 29,
   "id": "b7d63ec5-4a94-4592-83b5-ef0742e6cc04",
   "metadata": {},
   "outputs": [],
   "source": [
    "# 24hr Volume\n",
    "btc_vol = f\"$ \"\"{:,}\".format(btc_response[\"data\"][\"1\"][\"quotes\"][\"USD\"][\"volume_24h\"])\n",
    "eth_vol = f\"$ \"\"{:,}\".format(eth_response[\"data\"][\"1027\"][\"quotes\"][\"USD\"][\"volume_24h\"])\n",
    "usdt_vol = f\"$ \"\"{:,}\".format(usdt_response[\"data\"][\"825\"][\"quotes\"][\"USD\"][\"volume_24h\"])\n",
    "bnb_vol = f\"$ \"\"{:,}\".format(bnb_response[\"data\"][\"1839\"][\"quotes\"][\"USD\"][\"volume_24h\"])\n",
    "ada_vol = f\"$ \"\"{:,}\".format(ada_response[\"data\"][\"2010\"][\"quotes\"][\"USD\"][\"volume_24h\"])\n",
    "xrp_vol = f\"$ \"\"{:,}\".format(xrp_response[\"data\"][\"52\"][\"quotes\"][\"USD\"][\"volume_24h\"])\n",
    "sol_vol = f\"$ \"\"{:,}\".format(sol_response[\"data\"][\"11733\"][\"quotes\"][\"USD\"][\"volume_24h\"])\n",
    "doge_vol = f\"$ \"\"{:,}\".format(doge_response[\"data\"][\"74\"][\"quotes\"][\"USD\"][\"volume_24h\"])\n",
    "dot_vol = f\"$ \"\"{:,}\".format(dot_response[\"data\"][\"11517\"][\"quotes\"][\"USD\"][\"volume_24h\"])\n",
    "uni_vol = f\"$ \"\"{:,}\".format(uni_response[\"data\"][\"11968\"][\"quotes\"][\"USD\"][\"volume_24h\"])\n",
    "btt2_vol = f\"$ \"\"{:,}\".format(btt2_response[\"data\"][\"3084\"][\"quotes\"][\"USD\"][\"volume_24h\"])\n",
    "trx_vol = f\"$ \"\"{:,}\".format(trx_response[\"data\"][\"1958\"][\"quotes\"][\"USD\"][\"volume_24h\"])\n",
    "neo_vol = f\"$ \"\"{:,}\".format(neo_response[\"data\"][\"1376\"][\"quotes\"][\"USD\"][\"volume_24h\"])\n",
    "xvg_vol = f\"$ \"\"{:,}\".format(xvg_response[\"data\"][\"693\"][\"quotes\"][\"USD\"][\"volume_24h\"])"
   ]
  },
  {
   "cell_type": "code",
   "execution_count": 30,
   "id": "1e28c47b-e744-4983-bcea-5ae98a4bb44c",
   "metadata": {},
   "outputs": [],
   "source": [
    "# Market Cap\n",
    "btc_cap = f\"$ \"\"{:,}\".format(btc_response[\"data\"][\"1\"][\"quotes\"][\"USD\"][\"market_cap\"])\n",
    "eth_cap = f\"$ \"\"{:,}\".format(eth_response[\"data\"][\"1027\"][\"quotes\"][\"USD\"][\"market_cap\"])\n",
    "usdt_cap = f\"$ \"\"{:,}\".format(usdt_response[\"data\"][\"825\"][\"quotes\"][\"USD\"][\"market_cap\"])\n",
    "bnb_cap = f\"$ \"\"{:,}\".format(bnb_response[\"data\"][\"1839\"][\"quotes\"][\"USD\"][\"market_cap\"])\n",
    "ada_cap = f\"$ \"\"{:,}\".format(ada_response[\"data\"][\"2010\"][\"quotes\"][\"USD\"][\"market_cap\"])\n",
    "xrp_cap = f\"$ \"\"{:,}\".format(xrp_response[\"data\"][\"52\"][\"quotes\"][\"USD\"][\"market_cap\"])\n",
    "sol_cap = f\"$ \"\"{:,}\".format(sol_response[\"data\"][\"11733\"][\"quotes\"][\"USD\"][\"market_cap\"])\n",
    "doge_cap =f\"$ \" \"{:,}\".format(doge_response[\"data\"][\"74\"][\"quotes\"][\"USD\"][\"market_cap\"])\n",
    "dot_cap = f\"$ \"\"{:,}\".format(dot_response[\"data\"][\"11517\"][\"quotes\"][\"USD\"][\"market_cap\"])\n",
    "uni_cap = f\"$ \"\"{:,}\".format(uni_response[\"data\"][\"11968\"][\"quotes\"][\"USD\"][\"market_cap\"])\n",
    "btt2_cap = f\"$ \"\"{:,}\".format(btt2_response[\"data\"][\"3084\"][\"quotes\"][\"USD\"][\"market_cap\"])\n",
    "trx_cap =f\"$ \" \"{:,}\".format(trx_response[\"data\"][\"1958\"][\"quotes\"][\"USD\"][\"market_cap\"])\n",
    "neo_cap = f\"$ \"\"{:,}\".format(neo_response[\"data\"][\"1376\"][\"quotes\"][\"USD\"][\"market_cap\"])\n",
    "xvg_cap = f\"$ \"\"{:,}\".format(xvg_response[\"data\"][\"693\"][\"quotes\"][\"USD\"][\"market_cap\"])"
   ]
  },
  {
   "cell_type": "code",
   "execution_count": 31,
   "id": "aac0cc4a-d92d-413b-ae0d-8ef40a40f726",
   "metadata": {},
   "outputs": [],
   "source": [
    "# percent_change_1h\n",
    "btc_1hr = \"{:.2%}\".format((btc_response[\"data\"][\"1\"][\"quotes\"][\"USD\"][\"percentage_change_1h\"] / 100))\n",
    "eth_1hr = \"{:.2%}\".format((eth_response[\"data\"][\"1027\"][\"quotes\"][\"USD\"][\"percentage_change_1h\"] / 100))\n",
    "usdt_1hr = \"{:.2%}\".format((usdt_response[\"data\"][\"825\"][\"quotes\"][\"USD\"][\"percentage_change_1h\"] / 100))\n",
    "bnb_1hr = \"{:.2%}\".format((bnb_response[\"data\"][\"1839\"][\"quotes\"][\"USD\"][\"percentage_change_1h\"] / 100))\n",
    "ada_1hr = \"{:.2%}\".format((ada_response[\"data\"][\"2010\"][\"quotes\"][\"USD\"][\"percentage_change_1h\"] / 100))\n",
    "xrp_1hr = \"{:.2%}\".format((xrp_response[\"data\"][\"52\"][\"quotes\"][\"USD\"][\"percentage_change_1h\"] / 100))\n",
    "ada_1hr = \"{:.2%}\".format((ada_response[\"data\"][\"2010\"][\"quotes\"][\"USD\"][\"percentage_change_1h\"] / 100))\n",
    "sol_1hr = \"{:.2%}\".format((sol_response[\"data\"][\"11733\"][\"quotes\"][\"USD\"][\"percentage_change_1h\"] / 100))\n",
    "doge_1hr = \"{:.2%}\".format((doge_response[\"data\"][\"74\"][\"quotes\"][\"USD\"][\"percentage_change_1h\"] / 100))\n",
    "dot_1hr = \"{:.2%}\".format((dot_response[\"data\"][\"11517\"][\"quotes\"][\"USD\"][\"percentage_change_1h\"] / 100))\n",
    "uni_1hr = \"{:.2%}\".format((uni_response[\"data\"][\"11968\"][\"quotes\"][\"USD\"][\"percentage_change_1h\"] / 100))\n",
    "btt2_1hr = \"{:.2%}\".format((btt2_response[\"data\"][\"3084\"][\"quotes\"][\"USD\"][\"percentage_change_1h\"] / 100))\n",
    "trx_1hr = \"{:.2%}\".format((trx_response[\"data\"][\"1958\"][\"quotes\"][\"USD\"][\"percentage_change_1h\"] / 100))\n",
    "neo_1hr = \"{:.2%}\".format((neo_response[\"data\"][\"1376\"][\"quotes\"][\"USD\"][\"percentage_change_1h\"] / 100))\n",
    "xvg_1hr = \"{:.2%}\".format((xvg_response[\"data\"][\"693\"][\"quotes\"][\"USD\"][\"percentage_change_1h\"] / 100))"
   ]
  },
  {
   "cell_type": "code",
   "execution_count": 32,
   "id": "ac3f42b0-05a9-45e5-8a29-7129ff53e1e4",
   "metadata": {},
   "outputs": [],
   "source": [
    "# percent_change_24h\n",
    "btc_24hr = \"{:.2%}\".format((btc_response[\"data\"][\"1\"][\"quotes\"][\"USD\"][\"percentage_change_24h\"] / 100))\n",
    "eth_24hr = \"{:.2%}\".format((eth_response[\"data\"][\"1027\"][\"quotes\"][\"USD\"][\"percentage_change_24h\"] / 100))\n",
    "usdt_24hr = \"{:.2%}\".format((usdt_response[\"data\"][\"825\"][\"quotes\"][\"USD\"][\"percentage_change_24h\"] / 100))\n",
    "bnb_24hr = \"{:.2%}\".format((bnb_response[\"data\"][\"1839\"][\"quotes\"][\"USD\"][\"percentage_change_24h\"] / 100))\n",
    "ada_24hr = \"{:.2%}\".format((ada_response[\"data\"][\"2010\"][\"quotes\"][\"USD\"][\"percentage_change_24h\"] / 100))\n",
    "xrp_24hr = \"{:.2%}\".format((xrp_response[\"data\"][\"52\"][\"quotes\"][\"USD\"][\"percentage_change_24h\"] / 100))\n",
    "sol_24hr = \"{:.2%}\".format((sol_response[\"data\"][\"11733\"][\"quotes\"][\"USD\"][\"percentage_change_24h\"] / 100))\n",
    "doge_24hr= \"{:.2%}\".format((doge_response[\"data\"][\"74\"][\"quotes\"][\"USD\"][\"percentage_change_24h\"] / 100))\n",
    "dot_24hr = \"{:.2%}\".format((dot_response[\"data\"][\"11517\"][\"quotes\"][\"USD\"][\"percentage_change_24h\"] / 100))\n",
    "uni_24hr = \"{:.2%}\".format((uni_response[\"data\"][\"11968\"][\"quotes\"][\"USD\"][\"percentage_change_24h\"] / 100))\n",
    "btt2_24hr = \"{:.2%}\".format((btt2_response[\"data\"][\"3084\"][\"quotes\"][\"USD\"][\"percentage_change_24h\"] / 100))\n",
    "trx_24hr = \"{:.2%}\".format((trx_response[\"data\"][\"1958\"][\"quotes\"][\"USD\"][\"percentage_change_24h\"] / 100))\n",
    "neo_24hr = \"{:.2%}\".format((neo_response[\"data\"][\"1376\"][\"quotes\"][\"USD\"][\"percentage_change_24h\"] / 100))\n",
    "xvg_24hr = \"{:.2%}\".format((xvg_response[\"data\"][\"693\"][\"quotes\"][\"USD\"][\"percentage_change_24h\"] / 100))"
   ]
  },
  {
   "cell_type": "code",
   "execution_count": 33,
   "id": "863f0ad9-0873-4516-a21e-821d698be5b1",
   "metadata": {},
   "outputs": [],
   "source": [
    "# percent_change_7d\n",
    "btc_7d =  \"{:.2%}\".format((btc_response[\"data\"][\"1\"][\"quotes\"][\"USD\"][\"percentage_change_7d\"] / 100))\n",
    "eth_7d =  \"{:.2%}\".format((eth_response[\"data\"][\"1027\"][\"quotes\"][\"USD\"][\"percentage_change_7d\"] / 100))\n",
    "usdt_7d =  \"{:.2%}\".format((usdt_response[\"data\"][\"825\"][\"quotes\"][\"USD\"][\"percentage_change_7d\"] / 100))\n",
    "bnb_7d =  \"{:.2%}\".format((bnb_response[\"data\"][\"1839\"][\"quotes\"][\"USD\"][\"percentage_change_7d\"] / 100))\n",
    "ada_7d = \"{:.2%}\".format((ada_response[\"data\"][\"2010\"][\"quotes\"][\"USD\"][\"percentage_change_7d\"] / 100))\n",
    "xrp_7d = \"{:.2%}\".format((xrp_response[\"data\"][\"52\"][\"quotes\"][\"USD\"][\"percentage_change_7d\"] / 100))\n",
    "sol_7d = \"{:.2%}\".format((sol_response[\"data\"][\"11733\"][\"quotes\"][\"USD\"][\"percentage_change_7d\"] / 100))\n",
    "doge_7d = \"{:.2%}\".format((doge_response[\"data\"][\"74\"][\"quotes\"][\"USD\"][\"percentage_change_7d\"] / 100))\n",
    "dot_7d = \"{:.2%}\".format((dot_response[\"data\"][\"11517\"][\"quotes\"][\"USD\"][\"percentage_change_7d\"] / 100))\n",
    "uni_7d =  \"{:.2%}\".format((uni_response[\"data\"][\"11968\"][\"quotes\"][\"USD\"][\"percentage_change_7d\"] / 100))\n",
    "btt2_7d = \"{:.2%}\".format((btt2_response[\"data\"][\"3084\"][\"quotes\"][\"USD\"][\"percentage_change_7d\"] / 100))\n",
    "trx_7d = \"{:.2%}\".format((trx_response[\"data\"][\"1958\"][\"quotes\"][\"USD\"][\"percentage_change_7d\"] / 100))\n",
    "neo_7d = \"{:.2%}\".format((neo_response[\"data\"][\"1376\"][\"quotes\"][\"USD\"][\"percentage_change_7d\"] / 100))\n",
    "xvg_7d =  \"{:.2%}\".format((xvg_response[\"data\"][\"693\"][\"quotes\"][\"USD\"][\"percentage_change_7d\"] / 100))"
   ]
  },
  {
   "cell_type": "code",
   "execution_count": 34,
   "id": "94a41d43-0c7d-4844-a7e9-75f0c3d49715",
   "metadata": {},
   "outputs": [
    {
     "name": "stderr",
     "output_type": "stream",
     "text": [
      "/var/folders/3v/j3665vvd1qn2w9n50h1qqmqr0000gn/T/ipykernel_26202/8237800.py:3: SADeprecationWarning: The Engine.table_names() method is deprecated and will be removed in a future release.  Please refer to Inspector.get_table_names(). (deprecated since: 1.4)\n",
      "  engine.table_names()\n"
     ]
    },
    {
     "data": {
      "text/plain": [
       "['Crypto']"
      ]
     },
     "execution_count": 34,
     "metadata": {},
     "output_type": "execute_result"
    }
   ],
   "source": [
    "stocks_dataframe = pd.DataFrame({'Coins': [btc_name,eth_name,usdt_name,bnb_name,ada_name,xrp_name,sol_name,doge_name,dot_name, trx_name,btt2_name,uni_name, neo_name, xvg_name], 'Symbol': [btc_symbol,eth_symbol,usdt_symbol,bnb_symbol,ada_symbol,xrp_symbol,sol_symbol,doge_symbol,dot_symbol,trx_symbol,btt2_symbol, uni_symbol, neo_symbol,xvg_symbol],'Category': [btc_cat,eth_cat,usdt_cat,bnb_cat,ada_cat,xrp_cat,sol_cat,doge_cat,dot_cat,trx_cat,btt2_cat, uni_cat, neo_cat, xvg_cat], 'Price': [btc_price,eth_price,usdt_price,bnb_price,ada_price,xrp_price,sol_price,doge_price,dot_price,trx_price, btt2_price, uni_price, neo_price, xvg_price],'24Hr Volume': [btc_vol,eth_vol,usdt_vol,bnb_vol,ada_vol,xrp_vol,sol_vol,doge_vol,dot_vol,trx_vol, btt2_vol, uni_vol, neo_vol, xvg_vol], 'Market Caplization':[btc_cap,eth_cap,usdt_cap,bnb_cap,ada_cap,xrp_cap,sol_cap,doge_cap,dot_cap,trx_cap, btt2_cap, uni_cap, neo_cap, xvg_cap],'1hr % Change': [btc_1hr,eth_1hr,usdt_1hr,bnb_1hr,ada_1hr,xrp_1hr,sol_1hr,doge_1hr, dot_1hr,trx_1hr,btt2_1hr, uni_1hr, neo_1hr, xvg_1hr], '24hrs %Change': [btc_24hr,eth_24hr,usdt_24hr,bnb_24hr,ada_24hr,xrp_24hr,sol_24hr,doge_24hr,dot_24hr,trx_24hr,btt2_24hr, uni_24hr, neo_24hr, xvg_24hr],'7days %Change': [btc_7d,eth_7d,usdt_7d,bnb_7d,ada_7d,xrp_7d,sol_7d,doge_7d,dot_7d,trx_7d,btt2_7d, uni_7d, neo_7d, xvg_7d], 'Sharpe Ratio': [0.03511, -0.02513, -0.07216,0.16141,-0.51536,-0.39877,0.68934,-0.70023,-0.11434,0.45510,-1.04729,1.43817,-0.75020,-0.69200],'Variance': [0.00130,0.00186,0.00000,0.00188,0.00283,0.00255,0.00419,0.00322,0.00307,0.15813,0.00510,0.00215, 0.00317,0.00377] })\n",
    "stocks_dataframe.to_sql('Crypto', engine)\n",
    "engine.table_names()"
   ]
  },
  {
   "cell_type": "code",
   "execution_count": 35,
   "id": "b8399b4e-2475-4e27-8b72-eaa21b99b490",
   "metadata": {},
   "outputs": [
    {
     "data": {
      "text/plain": [
       "sqlalchemy.engine.cursor.LegacyCursorResult"
      ]
     },
     "execution_count": 35,
     "metadata": {},
     "output_type": "execute_result"
    }
   ],
   "source": [
    "query = \"\"\"\n",
    "SELECT \"Coins\" FROM Crypto;\n",
    "\"\"\"\n",
    "results = engine.execute(query)\n",
    "list(results)\n",
    "type(results)"
   ]
  },
  {
   "cell_type": "code",
   "execution_count": 36,
   "id": "babe5336-562c-4957-b05b-c8f72966664d",
   "metadata": {},
   "outputs": [
    {
     "data": {
      "text/html": [
       "<div>\n",
       "<style scoped>\n",
       "    .dataframe tbody tr th:only-of-type {\n",
       "        vertical-align: middle;\n",
       "    }\n",
       "\n",
       "    .dataframe tbody tr th {\n",
       "        vertical-align: top;\n",
       "    }\n",
       "\n",
       "    .dataframe thead th {\n",
       "        text-align: right;\n",
       "    }\n",
       "</style>\n",
       "<table border=\"1\" class=\"dataframe\">\n",
       "  <thead>\n",
       "    <tr style=\"text-align: right;\">\n",
       "      <th></th>\n",
       "      <th>Coins</th>\n",
       "      <th>Symbol</th>\n",
       "      <th>Category</th>\n",
       "      <th>Price</th>\n",
       "      <th>24Hr Volume</th>\n",
       "      <th>Market Caplization</th>\n",
       "      <th>1hr % Change</th>\n",
       "      <th>24hrs %Change</th>\n",
       "      <th>7days %Change</th>\n",
       "      <th>Sharpe Ratio</th>\n",
       "      <th>Variance</th>\n",
       "    </tr>\n",
       "  </thead>\n",
       "  <tbody>\n",
       "    <tr>\n",
       "      <th>0</th>\n",
       "      <td>Bitcoin</td>\n",
       "      <td>BTC</td>\n",
       "      <td>BTC</td>\n",
       "      <td>$29,913.00</td>\n",
       "      <td>$ 35,479,488,379</td>\n",
       "      <td>$ 570,625,072,389</td>\n",
       "      <td>-3.76%</td>\n",
       "      <td>0.99%</td>\n",
       "      <td>-6.13%</td>\n",
       "      <td>0.03511</td>\n",
       "      <td>0.00130</td>\n",
       "    </tr>\n",
       "    <tr>\n",
       "      <th>1</th>\n",
       "      <td>Ethereum</td>\n",
       "      <td>ETH</td>\n",
       "      <td>Altcoins</td>\n",
       "      <td>$1,771.70</td>\n",
       "      <td>$ 22,990,046,702</td>\n",
       "      <td>$ 213,964,874,793</td>\n",
       "      <td>-3.14%</td>\n",
       "      <td>0.79%</td>\n",
       "      <td>-8.87%</td>\n",
       "      <td>-0.02513</td>\n",
       "      <td>0.00186</td>\n",
       "    </tr>\n",
       "    <tr>\n",
       "      <th>2</th>\n",
       "      <td>Tether</td>\n",
       "      <td>USDT</td>\n",
       "      <td>Stablecoin</td>\n",
       "      <td>$1.00</td>\n",
       "      <td>$ 51,852,848,539</td>\n",
       "      <td>$ 72,884,990,010</td>\n",
       "      <td>-0.43%</td>\n",
       "      <td>-0.50%</td>\n",
       "      <td>-0.36%</td>\n",
       "      <td>-0.07216</td>\n",
       "      <td>0.00000</td>\n",
       "    </tr>\n",
       "    <tr>\n",
       "      <th>3</th>\n",
       "      <td>Binance Coin</td>\n",
       "      <td>BNB</td>\n",
       "      <td>Stablecoin</td>\n",
       "      <td>$283.99</td>\n",
       "      <td>$ 1,620,922,981</td>\n",
       "      <td>$ 46,346,663,414</td>\n",
       "      <td>-2.58%</td>\n",
       "      <td>-0.45%</td>\n",
       "      <td>-11.71%</td>\n",
       "      <td>0.16141</td>\n",
       "      <td>0.00188</td>\n",
       "    </tr>\n",
       "    <tr>\n",
       "      <th>4</th>\n",
       "      <td>Cardano</td>\n",
       "      <td>ADA</td>\n",
       "      <td>Altcoins</td>\n",
       "      <td>$0.62</td>\n",
       "      <td>$ 1,402,153,782</td>\n",
       "      <td>$ 21,088,644,811</td>\n",
       "      <td>-2.97%</td>\n",
       "      <td>5.13%</td>\n",
       "      <td>-1.21%</td>\n",
       "      <td>-0.51536</td>\n",
       "      <td>0.00283</td>\n",
       "    </tr>\n",
       "    <tr>\n",
       "      <th>5</th>\n",
       "      <td>XRP</td>\n",
       "      <td>XRP</td>\n",
       "      <td>Altcoins</td>\n",
       "      <td>$0.40</td>\n",
       "      <td>$ 1,465,589,595</td>\n",
       "      <td>$ 19,110,074,725</td>\n",
       "      <td>-2.58%</td>\n",
       "      <td>1.69%</td>\n",
       "      <td>-6.64%</td>\n",
       "      <td>-0.39877</td>\n",
       "      <td>0.00255</td>\n",
       "    </tr>\n",
       "    <tr>\n",
       "      <th>6</th>\n",
       "      <td>Solana</td>\n",
       "      <td>SOL</td>\n",
       "      <td>Altcoins</td>\n",
       "      <td>$38.46</td>\n",
       "      <td>$ 1,766,919,918</td>\n",
       "      <td>$ 13,127,724,880</td>\n",
       "      <td>-3.92%</td>\n",
       "      <td>-3.05%</td>\n",
       "      <td>-16.33%</td>\n",
       "      <td>0.68934</td>\n",
       "      <td>0.00419</td>\n",
       "    </tr>\n",
       "    <tr>\n",
       "      <th>7</th>\n",
       "      <td>Dogecoin</td>\n",
       "      <td>DOGE</td>\n",
       "      <td>Meme coin</td>\n",
       "      <td>$0.08</td>\n",
       "      <td>$ 374,261,458</td>\n",
       "      <td>$ 10,457,584,439</td>\n",
       "      <td>-2.07%</td>\n",
       "      <td>-0.27%</td>\n",
       "      <td>-7.72%</td>\n",
       "      <td>-0.70023</td>\n",
       "      <td>0.00322</td>\n",
       "    </tr>\n",
       "    <tr>\n",
       "      <th>8</th>\n",
       "      <td>Polkadot</td>\n",
       "      <td>DOT</td>\n",
       "      <td>Altcoins</td>\n",
       "      <td>$9.00</td>\n",
       "      <td>$ 304,706,000</td>\n",
       "      <td>$ 10,062,927,371</td>\n",
       "      <td>-3.04%</td>\n",
       "      <td>-1.21%</td>\n",
       "      <td>-13.87%</td>\n",
       "      <td>-0.11434</td>\n",
       "      <td>0.00307</td>\n",
       "    </tr>\n",
       "    <tr>\n",
       "      <th>9</th>\n",
       "      <td>TRON</td>\n",
       "      <td>TRX</td>\n",
       "      <td>Altcoins</td>\n",
       "      <td>$0.08</td>\n",
       "      <td>$ 966,402,661</td>\n",
       "      <td>$ 7,408,927,452</td>\n",
       "      <td>-2.81%</td>\n",
       "      <td>-0.11%</td>\n",
       "      <td>-5.17%</td>\n",
       "      <td>0.45510</td>\n",
       "      <td>0.15813</td>\n",
       "    </tr>\n",
       "    <tr>\n",
       "      <th>10</th>\n",
       "      <td>BitTorrent</td>\n",
       "      <td>BTT</td>\n",
       "      <td>Altcoins</td>\n",
       "      <td>$0.00</td>\n",
       "      <td>$ 1,041,869</td>\n",
       "      <td>$ 2,517,192,710</td>\n",
       "      <td>-2.34%</td>\n",
       "      <td>-0.08%</td>\n",
       "      <td>6.56%</td>\n",
       "      <td>-1.04729</td>\n",
       "      <td>0.00510</td>\n",
       "    </tr>\n",
       "    <tr>\n",
       "      <th>11</th>\n",
       "      <td>Uniswap</td>\n",
       "      <td>UNI</td>\n",
       "      <td>Altcoins</td>\n",
       "      <td>$5.10</td>\n",
       "      <td>$ 122,117,615</td>\n",
       "      <td>$ 2,326,593,811</td>\n",
       "      <td>-3.26%</td>\n",
       "      <td>0.38%</td>\n",
       "      <td>-10.55%</td>\n",
       "      <td>1.43817</td>\n",
       "      <td>0.00215</td>\n",
       "    </tr>\n",
       "    <tr>\n",
       "      <th>12</th>\n",
       "      <td>NEO</td>\n",
       "      <td>NEO</td>\n",
       "      <td>Altcoins</td>\n",
       "      <td>$11.50</td>\n",
       "      <td>$ 80,693,017</td>\n",
       "      <td>$ 813,135,130</td>\n",
       "      <td>-3.84%</td>\n",
       "      <td>0.20%</td>\n",
       "      <td>-0.97%</td>\n",
       "      <td>-0.75020</td>\n",
       "      <td>0.00317</td>\n",
       "    </tr>\n",
       "    <tr>\n",
       "      <th>13</th>\n",
       "      <td>Verge</td>\n",
       "      <td>XVG</td>\n",
       "      <td>Altcoins</td>\n",
       "      <td>$0.00</td>\n",
       "      <td>$ 1,648,412</td>\n",
       "      <td>$ 80,425,643</td>\n",
       "      <td>-0.74%</td>\n",
       "      <td>-7.28%</td>\n",
       "      <td>0.78%</td>\n",
       "      <td>-0.69200</td>\n",
       "      <td>0.00377</td>\n",
       "    </tr>\n",
       "  </tbody>\n",
       "</table>\n",
       "</div>"
      ],
      "text/plain": [
       "           Coins Symbol    Category       Price       24Hr Volume  \\\n",
       "0        Bitcoin    BTC         BTC  $29,913.00  $ 35,479,488,379   \n",
       "1       Ethereum    ETH    Altcoins   $1,771.70  $ 22,990,046,702   \n",
       "2         Tether   USDT  Stablecoin       $1.00  $ 51,852,848,539   \n",
       "3   Binance Coin    BNB  Stablecoin     $283.99   $ 1,620,922,981   \n",
       "4        Cardano    ADA    Altcoins       $0.62   $ 1,402,153,782   \n",
       "5            XRP    XRP    Altcoins       $0.40   $ 1,465,589,595   \n",
       "6         Solana    SOL    Altcoins      $38.46   $ 1,766,919,918   \n",
       "7       Dogecoin   DOGE   Meme coin       $0.08     $ 374,261,458   \n",
       "8       Polkadot    DOT    Altcoins       $9.00     $ 304,706,000   \n",
       "9           TRON    TRX    Altcoins       $0.08     $ 966,402,661   \n",
       "10    BitTorrent    BTT    Altcoins       $0.00       $ 1,041,869   \n",
       "11       Uniswap    UNI    Altcoins       $5.10     $ 122,117,615   \n",
       "12           NEO    NEO    Altcoins      $11.50      $ 80,693,017   \n",
       "13         Verge    XVG    Altcoins       $0.00       $ 1,648,412   \n",
       "\n",
       "   Market Caplization 1hr % Change 24hrs %Change 7days %Change  Sharpe Ratio  \\\n",
       "0   $ 570,625,072,389       -3.76%         0.99%        -6.13%       0.03511   \n",
       "1   $ 213,964,874,793       -3.14%         0.79%        -8.87%      -0.02513   \n",
       "2    $ 72,884,990,010       -0.43%        -0.50%        -0.36%      -0.07216   \n",
       "3    $ 46,346,663,414       -2.58%        -0.45%       -11.71%       0.16141   \n",
       "4    $ 21,088,644,811       -2.97%         5.13%        -1.21%      -0.51536   \n",
       "5    $ 19,110,074,725       -2.58%         1.69%        -6.64%      -0.39877   \n",
       "6    $ 13,127,724,880       -3.92%        -3.05%       -16.33%       0.68934   \n",
       "7    $ 10,457,584,439       -2.07%        -0.27%        -7.72%      -0.70023   \n",
       "8    $ 10,062,927,371       -3.04%        -1.21%       -13.87%      -0.11434   \n",
       "9     $ 7,408,927,452       -2.81%        -0.11%        -5.17%       0.45510   \n",
       "10    $ 2,517,192,710       -2.34%        -0.08%         6.56%      -1.04729   \n",
       "11    $ 2,326,593,811       -3.26%         0.38%       -10.55%       1.43817   \n",
       "12      $ 813,135,130       -3.84%         0.20%        -0.97%      -0.75020   \n",
       "13       $ 80,425,643       -0.74%        -7.28%         0.78%      -0.69200   \n",
       "\n",
       "    Variance  \n",
       "0    0.00130  \n",
       "1    0.00186  \n",
       "2    0.00000  \n",
       "3    0.00188  \n",
       "4    0.00283  \n",
       "5    0.00255  \n",
       "6    0.00419  \n",
       "7    0.00322  \n",
       "8    0.00307  \n",
       "9    0.15813  \n",
       "10   0.00510  \n",
       "11   0.00215  \n",
       "12   0.00317  \n",
       "13   0.00377  "
      ]
     },
     "execution_count": 36,
     "metadata": {},
     "output_type": "execute_result"
    }
   ],
   "source": [
    "stocks_dataframe\n"
   ]
  },
  {
   "cell_type": "code",
   "execution_count": 37,
   "id": "8c403f24-d2d0-4894-a0b6-96487dc3db91",
   "metadata": {},
   "outputs": [
    {
     "data": {
      "text/plain": [
       "pandas.core.frame.DataFrame"
      ]
     },
     "execution_count": 37,
     "metadata": {},
     "output_type": "execute_result"
    }
   ],
   "source": [
    "type(stocks_dataframe)"
   ]
  },
  {
   "cell_type": "code",
   "execution_count": 38,
   "id": "6fcb7cd9-ede5-4424-b470-24db13ba7914",
   "metadata": {},
   "outputs": [
    {
     "data": {
      "image/png": "[encoded data removed]",
      "text/plain": [
       "<Figure size 1440x72 with 1 Axes>"
      ]
     },
     "metadata": {},
     "output_type": "display_data"
    }
   ],
   "source": [
    "data = {\n",
    "        'BitTorrent': [320],\n",
    "        'Binance Coin': [800],\n",
    "        'TRON':[1200],\n",
    "        'XRP':[320],\n",
    "        'DOGE':[800],\n",
    "        'NEO':[320],\n",
    "        'Verge':[700],\n",
    "        'Cardano':[800]\n",
    "       }\n",
    "\n",
    "high_risk = pd.DataFrame(data,columns=['BitTorrent','Binance Coin','TRON'], index = ['Portfolio'])\n",
    "medium_risk = pd.DataFrame(data,columns=['XRP','Binance Coin','TRON','DOGE'], index = ['Portfolio'])\n",
    "low_risk = pd.DataFrame(data,columns=['NEO','Verge','TRON','DOGE','Cardano'], index = ['Portfolio'])\n",
    "\n",
    "\n",
    "\n",
    "high_risk .style.use('ggplot')\n",
    "high_risk .plot.barh(stacked=True, figsize=(20,1))\n",
    "\n",
    "\n",
    "\n",
    "plt.title('High Risk')\n",
    "plt.ylabel('Portfolio')\n",
    "plt.xlabel('Quantity')\n",
    "plt.show()\n",
    "\n"
   ]
  },
  {
   "cell_type": "code",
   "execution_count": 39,
   "id": "2ba13e5a-aa91-4cb9-9f71-27df363df4fe",
   "metadata": {},
   "outputs": [
    {
     "data": {
      "image/png": "[encoded data removed]",
      "text/plain": [
       "<Figure size 1296x144 with 1 Axes>"
      ]
     },
     "metadata": {},
     "output_type": "display_data"
    }
   ],
   "source": [
    "medium_risk .style.use('ggplot')\n",
    "medium_risk .plot.barh(stacked=True, figsize=(18,2))\n",
    "\n",
    "plt.title('Medium Risk')\n",
    "plt.ylabel('Portfolio')\n",
    "plt.xlabel('Quantity')\n",
    "plt.show()"
   ]
  },
  {
   "cell_type": "code",
   "execution_count": 40,
   "id": "5cac1b87-f2ce-40a4-805f-9b35b21297f2",
   "metadata": {},
   "outputs": [
    {
     "data": {
      "image/png": "[encoded data removed]",
      "text/plain": [
       "<Figure size 1440x72 with 1 Axes>"
      ]
     },
     "metadata": {},
     "output_type": "display_data"
    }
   ],
   "source": [
    "low_risk .style.use('ggplot')\n",
    "low_risk .plot.barh(stacked=True, figsize=(20,1))\n",
    "\n",
    "plt.title('Low Risk')\n",
    "plt.ylabel('Portfolio')\n",
    "plt.xlabel('Quantity')\n",
    "plt.show()"
   ]
  },
  {
   "cell_type": "code",
   "execution_count": 41,
   "id": "904cd70c-d75f-4fff-9a6f-b8cebb27762a",
   "metadata": {},
   "outputs": [
    {
     "data": {
      "text/html": [
       "<div>\n",
       "<style scoped>\n",
       "    .dataframe tbody tr th:only-of-type {\n",
       "        vertical-align: middle;\n",
       "    }\n",
       "\n",
       "    .dataframe tbody tr th {\n",
       "        vertical-align: top;\n",
       "    }\n",
       "\n",
       "    .dataframe thead th {\n",
       "        text-align: right;\n",
       "    }\n",
       "</style>\n",
       "<table border=\"1\" class=\"dataframe\">\n",
       "  <thead>\n",
       "    <tr style=\"text-align: right;\">\n",
       "      <th></th>\n",
       "      <th>Open</th>\n",
       "      <th>High</th>\n",
       "      <th>Low</th>\n",
       "      <th>Close</th>\n",
       "      <th>Adj Close</th>\n",
       "      <th>Volume</th>\n",
       "      <th>Daily Return</th>\n",
       "    </tr>\n",
       "    <tr>\n",
       "      <th>Date</th>\n",
       "      <th></th>\n",
       "      <th></th>\n",
       "      <th></th>\n",
       "      <th></th>\n",
       "      <th></th>\n",
       "      <th></th>\n",
       "      <th></th>\n",
       "    </tr>\n",
       "  </thead>\n",
       "  <tbody>\n",
       "    <tr>\n",
       "      <th>2021-06-02</th>\n",
       "      <td>1.736103</td>\n",
       "      <td>1.803849</td>\n",
       "      <td>1.719255</td>\n",
       "      <td>1.752824</td>\n",
       "      <td>1.752824</td>\n",
       "      <td>3453620094</td>\n",
       "      <td>0.010417</td>\n",
       "    </tr>\n",
       "    <tr>\n",
       "      <th>2021-06-03</th>\n",
       "      <td>1.754643</td>\n",
       "      <td>1.888650</td>\n",
       "      <td>1.717762</td>\n",
       "      <td>1.840471</td>\n",
       "      <td>1.840471</td>\n",
       "      <td>3443770332</td>\n",
       "      <td>0.050003</td>\n",
       "    </tr>\n",
       "    <tr>\n",
       "      <th>2021-06-04</th>\n",
       "      <td>1.846715</td>\n",
       "      <td>1.848485</td>\n",
       "      <td>1.609734</td>\n",
       "      <td>1.710908</td>\n",
       "      <td>1.710908</td>\n",
       "      <td>4583062567</td>\n",
       "      <td>-0.070397</td>\n",
       "    </tr>\n",
       "    <tr>\n",
       "      <th>2021-06-05</th>\n",
       "      <td>1.709916</td>\n",
       "      <td>1.783177</td>\n",
       "      <td>1.611715</td>\n",
       "      <td>1.659009</td>\n",
       "      <td>1.659009</td>\n",
       "      <td>2969362191</td>\n",
       "      <td>-0.030334</td>\n",
       "    </tr>\n",
       "    <tr>\n",
       "      <th>2021-06-06</th>\n",
       "      <td>1.656461</td>\n",
       "      <td>1.706524</td>\n",
       "      <td>1.647702</td>\n",
       "      <td>1.678248</td>\n",
       "      <td>1.678248</td>\n",
       "      <td>1748045655</td>\n",
       "      <td>0.011597</td>\n",
       "    </tr>\n",
       "    <tr>\n",
       "      <th>...</th>\n",
       "      <td>...</td>\n",
       "      <td>...</td>\n",
       "      <td>...</td>\n",
       "      <td>...</td>\n",
       "      <td>...</td>\n",
       "      <td>...</td>\n",
       "      <td>...</td>\n",
       "    </tr>\n",
       "    <tr>\n",
       "      <th>2022-05-28</th>\n",
       "      <td>0.458176</td>\n",
       "      <td>0.467449</td>\n",
       "      <td>0.449708</td>\n",
       "      <td>0.464764</td>\n",
       "      <td>0.464764</td>\n",
       "      <td>448858644</td>\n",
       "      <td>0.020322</td>\n",
       "    </tr>\n",
       "    <tr>\n",
       "      <th>2022-05-29</th>\n",
       "      <td>0.464732</td>\n",
       "      <td>0.481841</td>\n",
       "      <td>0.457380</td>\n",
       "      <td>0.481126</td>\n",
       "      <td>0.481126</td>\n",
       "      <td>444269488</td>\n",
       "      <td>0.035205</td>\n",
       "    </tr>\n",
       "    <tr>\n",
       "      <th>2022-05-30</th>\n",
       "      <td>0.481134</td>\n",
       "      <td>0.574956</td>\n",
       "      <td>0.478083</td>\n",
       "      <td>0.570073</td>\n",
       "      <td>0.570073</td>\n",
       "      <td>1185015742</td>\n",
       "      <td>0.184873</td>\n",
       "    </tr>\n",
       "    <tr>\n",
       "      <th>2022-05-31</th>\n",
       "      <td>0.570000</td>\n",
       "      <td>0.682313</td>\n",
       "      <td>0.569636</td>\n",
       "      <td>0.625254</td>\n",
       "      <td>0.625254</td>\n",
       "      <td>3269050143</td>\n",
       "      <td>0.096796</td>\n",
       "    </tr>\n",
       "    <tr>\n",
       "      <th>2022-06-01</th>\n",
       "      <td>0.625417</td>\n",
       "      <td>0.629977</td>\n",
       "      <td>0.540809</td>\n",
       "      <td>0.552750</td>\n",
       "      <td>0.552750</td>\n",
       "      <td>1404107650</td>\n",
       "      <td>-0.115959</td>\n",
       "    </tr>\n",
       "  </tbody>\n",
       "</table>\n",
       "<p>365 rows × 7 columns</p>\n",
       "</div>"
      ],
      "text/plain": [
       "                Open      High       Low     Close  Adj Close      Volume  \\\n",
       "Date                                                                        \n",
       "2021-06-02  1.736103  1.803849  1.719255  1.752824   1.752824  3453620094   \n",
       "2021-06-03  1.754643  1.888650  1.717762  1.840471   1.840471  3443770332   \n",
       "2021-06-04  1.846715  1.848485  1.609734  1.710908   1.710908  4583062567   \n",
       "2021-06-05  1.709916  1.783177  1.611715  1.659009   1.659009  2969362191   \n",
       "2021-06-06  1.656461  1.706524  1.647702  1.678248   1.678248  1748045655   \n",
       "...              ...       ...       ...       ...        ...         ...   \n",
       "2022-05-28  0.458176  0.467449  0.449708  0.464764   0.464764   448858644   \n",
       "2022-05-29  0.464732  0.481841  0.457380  0.481126   0.481126   444269488   \n",
       "2022-05-30  0.481134  0.574956  0.478083  0.570073   0.570073  1185015742   \n",
       "2022-05-31  0.570000  0.682313  0.569636  0.625254   0.625254  3269050143   \n",
       "2022-06-01  0.625417  0.629977  0.540809  0.552750   0.552750  1404107650   \n",
       "\n",
       "            Daily Return  \n",
       "Date                      \n",
       "2021-06-02      0.010417  \n",
       "2021-06-03      0.050003  \n",
       "2021-06-04     -0.070397  \n",
       "2021-06-05     -0.030334  \n",
       "2021-06-06      0.011597  \n",
       "...                  ...  \n",
       "2022-05-28      0.020322  \n",
       "2022-05-29      0.035205  \n",
       "2022-05-30      0.184873  \n",
       "2022-05-31      0.096796  \n",
       "2022-06-01     -0.115959  \n",
       "\n",
       "[365 rows x 7 columns]"
      ]
     },
     "metadata": {},
     "output_type": "display_data"
    }
   ],
   "source": [
    "display(ada_df)"
   ]
  },
  {
   "cell_type": "code",
   "execution_count": 42,
   "id": "f1ae60fb-c5a7-43b9-85d4-9b19651c5706",
   "metadata": {},
   "outputs": [
    {
     "name": "stdout",
     "output_type": "stream",
     "text": [
      "                Open      High       Low     Close  Adj Close      Volume  \\\n",
      "Date                                                                        \n",
      "2021-06-02  1.812257  1.883412  1.793849  1.830865   1.830865  4763189129   \n",
      "2021-06-03  1.832718  1.971143  1.794999  1.922590   1.922590  4753262285   \n",
      "2021-06-04  1.928925  1.931376  1.683732  1.788160   1.788160  6190463930   \n",
      "2021-06-05  1.787150  1.862990  1.686027  1.734605   1.734605  4225875105   \n",
      "2021-06-06  1.732025  1.784039  1.723097  1.755755   1.755755  2689572410   \n",
      "...              ...       ...       ...       ...        ...         ...   \n",
      "2022-05-28  0.538399  0.549893  0.528886  0.546019   0.546019  1344780162   \n",
      "2022-05-29  0.545987  0.564001  0.536251  0.561633   0.561633  1188613978   \n",
      "2022-05-30  0.561639  0.659194  0.558391  0.653332   0.653332  2115409607   \n",
      "2022-05-31  0.653250  0.766504  0.649288  0.709445   0.709445  4252888253   \n",
      "2022-06-01  0.709589  0.720916  0.622989  0.636224   0.636224  3162965384   \n",
      "\n",
      "            Daily Return  \n",
      "Date                      \n",
      "2021-06-02      0.035438  \n",
      "2021-06-03      0.102258  \n",
      "2021-06-04     -0.129664  \n",
      "2021-06-05     -0.051771  \n",
      "2021-06-06      0.036876  \n",
      "...                  ...  \n",
      "2022-05-28      0.028174  \n",
      "2022-05-29      0.025999  \n",
      "2022-05-30      0.219056  \n",
      "2022-05-31      0.107990  \n",
      "2022-06-01     -0.124476  \n",
      "\n",
      "[365 rows x 7 columns]\n"
     ]
    }
   ],
   "source": [
    "high_risk_plot = ada_df + trx_df\n",
    "print(high_risk_plot)"
   ]
  },
  {
   "cell_type": "code",
   "execution_count": 43,
   "id": "a2aa4783-2292-4eb0-bc4a-b06c040834a3",
   "metadata": {},
   "outputs": [
    {
     "data": {
      "text/plain": [
       "<AxesSubplot:xlabel='Date'>"
      ]
     },
     "execution_count": 43,
     "metadata": {},
     "output_type": "execute_result"
    },
    {
     "data": {
      "image/png": "[encoded data removed]",
      "text/plain": [
       "<Figure size 1440x720 with 1 Axes>"
      ]
     },
     "metadata": {},
     "output_type": "display_data"
    }
   ],
   "source": [
    "merged_df = pd.merge(btt2_df,trx_df,how='outer',on=['Date'])\n",
    "merged_df.plot(figsize=(20,10))"
   ]
  },
  {
   "cell_type": "code",
   "execution_count": 44,
   "id": "716f3803-3c4f-4824-8565-f0af059e8584",
   "metadata": {},
   "outputs": [],
   "source": [
    "dfs = [bnb_df,trx_df, btt2_df]\n",
    "df_final = ft.reduce(lambda left, right: pd.merge(left, right, on='Date'), dfs)"
   ]
  },
  {
   "cell_type": "code",
   "execution_count": 45,
   "id": "19ee92b2-41a9-470d-aa86-873d90e54dda",
   "metadata": {},
   "outputs": [
    {
     "data": {
      "text/plain": [
       "<AxesSubplot:xlabel='Date'>"
      ]
     },
     "execution_count": 45,
     "metadata": {},
     "output_type": "execute_result"
    },
    {
     "data": {
      "image/png": "[encoded data removed]",
      "text/plain": [
       "<Figure size 1440x720 with 1 Axes>"
      ]
     },
     "metadata": {},
     "output_type": "display_data"
    }
   ],
   "source": [
    "df_final.plot(figsize=(20,10))"
   ]
  },
  {
   "cell_type": "code",
   "execution_count": 46,
   "id": "a445bed4-3c17-45b9-bdef-4025a2fb9d02",
   "metadata": {},
   "outputs": [],
   "source": [
    "#merged_df.groupby(\"Date\").plot(x=\"USD\", y=\"price\")"
   ]
  },
  {
   "cell_type": "code",
   "execution_count": 1,
   "id": "7bd4260d-bd87-4bf3-8fda-bc2c17669259",
   "metadata": {},
   "outputs": [],
   "source": [
    "#df['perc_ret'] = (1 + df.Daily_rets).cumprod() - 1 "
   ]
  },
  {
   "cell_type": "code",
   "execution_count": null,
   "id": "abf640c6-49e5-4467-abaf-bebb3dc6a133",
   "metadata": {},
   "outputs": [],
   "source": []
  }
 ],
 "metadata": {
  "kernelspec": {
   "display_name": "Python 3 (ipykernel)",
   "language": "python",
   "name": "python3"
  },
  "language_info": {
   "codemirror_mode": {
    "name": "ipython",
    "version": 3
   },
   "file_extension": ".py",
   "mimetype": "text/x-python",
   "name": "python",
   "nbconvert_exporter": "python",
   "pygments_lexer": "ipython3",
   "version": "3.9.7"
  }
 },
 "nbformat": 4,
 "nbformat_minor": 5
}
