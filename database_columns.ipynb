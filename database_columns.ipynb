{
 "cells": [
  {
   "cell_type": "code",
   "execution_count": 89,
   "id": "cfccc533-1781-4978-9a09-1d61a730815c",
   "metadata": {},
   "outputs": [],
   "source": [
    "import pandas as pd\n",
    "import numpy as np\n",
    "import sqlalchemy\n",
    "import requests\n",
    "import locale\n",
    "import json\n",
    "import numpy as np\n",
    "import datetime as dt\n",
    "import matplotlib.pyplot as plt\n",
    "import time\n",
    "import statistics\n",
    "import pandas_datareader.data as pdr\n",
    "\n"
   ]
  },
  {
   "cell_type": "code",
   "execution_count": null,
   "id": "d2337910-e2fa-4d80-ad36-3eeb30fa00d6",
   "metadata": {},
   "outputs": [],
   "source": [
    "# Create a temporary sqlite database\n",
    "database_connection_string = 'sqlite:///'\n",
    "\n",
    "# Create an engine to interact with the database\n",
    "engine = sqlalchemy.create_engine(database_connection_string)"
   ]
  },
  {
   "cell_type": "code",
   "execution_count": 14,
   "id": "7740e510-4832-438e-bbdc-310651b33925",
   "metadata": {},
   "outputs": [],
   "source": [
    "def get_data(tickers, start_date, end_date):\n",
    "    \n",
    "    \"\"\"Read in daily price(adjusted close) of asset from CSV files for a given set of dates.\"\"\"\n",
    "    \n",
    "    # download daily price data for each of the stocks in the portfolio\n",
    "    df = pdr.get_data_yahoo(stocks, start=start_date, end = end_date)['Adj Close']\n",
    "    df.sort_index(inplace = True)\n",
    "    \n",
    "    return df"
   ]
  },
  {
   "cell_type": "code",
   "execution_count": 15,
   "id": "678afd08-3ea7-415f-bd17-1d9de4b8d726",
   "metadata": {},
   "outputs": [],
   "source": [
    "stocks = ['BTC-USD','ETH-USD','USDT-USD','USDC-USD','BNB-USD','ADA-USD','XRP-USD','BUSD-USD','SOL-USD','HEX-USD','DOGE-USD']"
   ]
  },
  {
   "cell_type": "code",
   "execution_count": 45,
   "id": "01583c68-12d0-4d33-a0b6-94fbacf21b55",
   "metadata": {},
   "outputs": [
    {
     "name": "stdout",
     "output_type": "stream",
     "text": [
      "Symbols          BTC-USD      ETH-USD  USDT-USD  USDC-USD     BNB-USD  \\\n",
      "Date                                                                    \n",
      "2022-05-25  29562.361328  1944.827881  0.998976  0.999821  325.734802   \n",
      "2022-05-26  29267.224609  1803.913330  0.998907  0.999930  304.963928   \n",
      "2022-05-27  28627.574219  1724.922852  0.998863  1.000403  300.972046   \n",
      "2022-05-28  28814.900391  1757.941772  0.999042  1.000150  300.890808   \n",
      "2022-05-31  31873.703125  1954.046997  0.999351  1.000246  322.244263   \n",
      "\n",
      "Symbols      ADA-USD   XRP-USD  BUSD-USD    SOL-USD   HEX-USD  DOGE-USD  \n",
      "Date                                                                     \n",
      "2022-05-25  0.513877  0.405785  0.999034  47.982426  0.078441  0.082985  \n",
      "2022-05-26  0.480883  0.393170  1.000228  43.491211  0.067300  0.078252  \n",
      "2022-05-27  0.455507  0.381787  1.000368  40.981346  0.062862  0.081335  \n",
      "2022-05-28  0.455911  0.385426  1.001823  41.253616  0.062552  0.081945  \n",
      "2022-05-31  0.635564  0.423728  0.999934  46.107307  0.081030  0.086288  \n"
     ]
    }
   ],
   "source": [
    "crypto_prices = get_data(stocks, '06/01/2021', '05/31/2022' )\n",
    "#print(crypto_prices.head())\n",
    "print(crypto_prices.tail())"
   ]
  },
  {
   "cell_type": "code",
   "execution_count": 46,
   "id": "b6381408-951e-4375-b6ae-801c42d433bb",
   "metadata": {},
   "outputs": [],
   "source": [
    "# Next, we'll define a function for calculating daily returns for our coins\n",
    "def calc_daily_returns(df):\n",
    "    return (df.pct_change())"
   ]
  },
  {
   "cell_type": "code",
   "execution_count": 47,
   "id": "8f90a004-6483-43d0-9ea4-bf6a58971f1e",
   "metadata": {},
   "outputs": [
    {
     "name": "stdout",
     "output_type": "stream",
     "text": [
      "Symbols      BTC-USD   ETH-USD  USDT-USD  USDC-USD   BNB-USD   ADA-USD  \\\n",
      "Date                                                                     \n",
      "2022-05-25 -0.003144 -0.017259 -0.000131 -0.000358 -0.007479 -0.014096   \n",
      "2022-05-26 -0.009984 -0.072456 -0.000069  0.000109 -0.063766 -0.064206   \n",
      "2022-05-27 -0.021856 -0.043788 -0.000044  0.000473 -0.013090 -0.052770   \n",
      "2022-05-28  0.006544  0.019142  0.000179 -0.000253 -0.000270  0.000887   \n",
      "2022-05-31  0.106154  0.111554  0.000309  0.000096  0.070967  0.394052   \n",
      "\n",
      "Symbols      XRP-USD  BUSD-USD   SOL-USD   HEX-USD  DOGE-USD  \n",
      "Date                                                          \n",
      "2022-05-25 -0.007164 -0.000533 -0.033652 -0.043659 -0.007796  \n",
      "2022-05-26 -0.031088  0.001195 -0.093601 -0.142030 -0.057034  \n",
      "2022-05-27 -0.028952  0.000140 -0.057710 -0.065944  0.039398  \n",
      "2022-05-28  0.009532  0.001454  0.006644 -0.004931  0.007500  \n",
      "2022-05-31  0.099376 -0.001885  0.117655  0.295406  0.052998  \n"
     ]
    }
   ],
   "source": [
    "crypto_daily_rets = calc_daily_returns(crypto_prices)\n",
    "print(crypto_daily_rets.tail())"
   ]
  },
  {
   "cell_type": "code",
   "execution_count": 81,
   "id": "70ed3f64-7272-43d4-86a4-fa0cb3f73062",
   "metadata": {},
   "outputs": [],
   "source": [
    "# Define a function for calculating mean daily returns for our coins\n",
    "def calc_mean_daily_returns(daily_returns):\n",
    "    return (daily_returns.mean(skipna=True, level=None, numeric_only=None))"
   ]
  },
  {
   "cell_type": "code",
   "execution_count": 82,
   "id": "69c909eb-718b-4537-b11d-0c51477dcb07",
   "metadata": {},
   "outputs": [
    {
     "name": "stdout",
     "output_type": "stream",
     "text": [
      "Symbols\n",
      "BTC-USD     2.667043e-04\n",
      "ETH-USD     1.168775e-04\n",
      "USDT-USD   -1.976836e-06\n",
      "USDC-USD    7.399150e-07\n",
      "BNB-USD     6.349338e-04\n",
      "ADA-USD    -1.259343e-03\n",
      "XRP-USD    -1.106899e-03\n",
      "BUSD-USD   -6.367098e-07\n",
      "SOL-USD     3.195526e-03\n",
      "HEX-USD     4.139889e-03\n",
      "DOGE-USD   -2.362573e-03\n",
      "dtype: float64\n"
     ]
    }
   ],
   "source": [
    "crypto_mean_daily_rets = calc_mean_daily_returns(crypto_daily_rets)\n",
    "print (crypto_mean_daily_rets)\n",
    "#round(crypto_mean)"
   ]
  },
  {
   "cell_type": "code",
   "execution_count": 83,
   "id": "ec7d3faf-3e7d-40a8-9271-d11525717cc2",
   "metadata": {},
   "outputs": [],
   "source": [
    "# Define a function for creating covariance matrices\n",
    "def create_covariance_matrix(daily_returns):\n",
    "    return daily_returns.cov()"
   ]
  },
  {
   "cell_type": "code",
   "execution_count": 87,
   "id": "3a23eee2-30bf-4dd8-b4bc-ac8ec65f08f6",
   "metadata": {},
   "outputs": [
    {
     "name": "stdout",
     "output_type": "stream",
     "text": [
      "Symbols        BTC-USD       ETH-USD      USDT-USD      USDC-USD  \\\n",
      "Symbols                                                            \n",
      "BTC-USD   1.314095e-03  1.334255e-03 -2.969365e-07 -1.643082e-06   \n",
      "ETH-USD   1.334255e-03  1.870664e-03  3.175280e-07 -2.214729e-06   \n",
      "USDT-USD -2.969365e-07  3.175280e-07  2.381254e-07  1.082507e-07   \n",
      "USDC-USD -1.643082e-06 -2.214729e-06  1.082507e-07  2.596381e-07   \n",
      "BNB-USD   1.223179e-03  1.568584e-03  1.416719e-06 -6.350824e-07   \n",
      "ADA-USD   1.435770e-03  1.779524e-03  1.246969e-06 -1.427183e-06   \n",
      "XRP-USD   1.338055e-03  1.668335e-03  8.355281e-07 -2.306515e-06   \n",
      "BUSD-USD -2.835025e-06 -4.260968e-06  6.939095e-08  1.439556e-07   \n",
      "SOL-USD   1.421874e-03  1.961212e-03  2.363024e-06 -1.544662e-06   \n",
      "HEX-USD   7.565070e-04  8.669508e-04  7.386972e-07 -1.651967e-06   \n",
      "DOGE-USD  1.389303e-03  1.728458e-03  2.365299e-06 -1.535754e-06   \n",
      "\n",
      "Symbols        BNB-USD   ADA-USD       XRP-USD      BUSD-USD   SOL-USD  \\\n",
      "Symbols                                                                  \n",
      "BTC-USD   1.223179e-03  0.001436  1.338055e-03 -2.835025e-06  0.001422   \n",
      "ETH-USD   1.568584e-03  0.001780  1.668335e-03 -4.260968e-06  0.001961   \n",
      "USDT-USD  1.416719e-06  0.000001  8.355281e-07  6.939095e-08  0.000002   \n",
      "USDC-USD -6.350824e-07 -0.000001 -2.306515e-06  1.439556e-07 -0.000002   \n",
      "BNB-USD   1.896036e-03  0.001751  1.668187e-03 -4.972730e-06  0.001840   \n",
      "ADA-USD   1.750590e-03  0.003116  2.104387e-03 -3.633985e-06  0.002287   \n",
      "XRP-USD   1.668187e-03  0.002104  2.577859e-03 -4.544883e-06  0.001924   \n",
      "BUSD-USD -4.972730e-06 -0.000004 -4.544883e-06  7.672344e-07 -0.000004   \n",
      "SOL-USD   1.840469e-03  0.002287  1.924297e-03 -4.205272e-06  0.004207   \n",
      "HEX-USD   7.964120e-04  0.001379  1.067486e-03 -7.887995e-06  0.001439   \n",
      "DOGE-USD  1.774851e-03  0.001981  2.030639e-03 -6.702954e-06  0.002058   \n",
      "\n",
      "Symbols        HEX-USD  DOGE-USD  \n",
      "Symbols                           \n",
      "BTC-USD   7.565070e-04  0.001389  \n",
      "ETH-USD   8.669508e-04  0.001728  \n",
      "USDT-USD  7.386972e-07  0.000002  \n",
      "USDC-USD -1.651967e-06 -0.000002  \n",
      "BNB-USD   7.964120e-04  0.001775  \n",
      "ADA-USD   1.379098e-03  0.001981  \n",
      "XRP-USD   1.067486e-03  0.002031  \n",
      "BUSD-USD -7.887995e-06 -0.000007  \n",
      "SOL-USD   1.438849e-03  0.002058  \n",
      "HEX-USD   6.350163e-03  0.001033  \n",
      "DOGE-USD  1.033294e-03  0.003246  \n"
     ]
    }
   ],
   "source": [
    "crypto_cov_matrix = create_covariance_matrix(crypto_daily_rets)\n",
    "print(crypto_cov_matrix)"
   ]
  },
  {
   "cell_type": "code",
   "execution_count": 96,
   "id": "9341846d-3383-4f29-ac13-813ec32a2a32",
   "metadata": {},
   "outputs": [
    {
     "name": "stdout",
     "output_type": "stream",
     "text": [
      "Symbols          BTC-USD      ETH-USD  USDT-USD  USDC-USD     BNB-USD  \\\n",
      "Date                                                                    \n",
      "2021-06-01  36684.925781  2633.518311  1.000109  1.000025  362.794647   \n",
      "2021-06-02  37575.179688  2706.125000  1.000550  1.000277  401.262329   \n",
      "2021-06-03  39208.765625  2855.126465  1.000571  1.000242  427.807922   \n",
      "2021-06-04  36894.406250  2688.195068  1.001038  1.000749  391.395325   \n",
      "2021-06-05  35551.957031  2630.576904  1.000313  1.000184  390.431854   \n",
      "...                  ...          ...       ...       ...         ...   \n",
      "2022-05-25  29562.361328  1944.827881  0.998976  0.999821  325.734802   \n",
      "2022-05-26  29267.224609  1803.913330  0.998907  0.999930  304.963928   \n",
      "2022-05-27  28627.574219  1724.922852  0.998863  1.000403  300.972046   \n",
      "2022-05-28  28814.900391  1757.941772  0.999042  1.000150  300.890808   \n",
      "2022-05-31  31873.703125  1954.046997  0.999351  1.000246  322.244263   \n",
      "\n",
      "Symbols      ADA-USD   XRP-USD  BUSD-USD    SOL-USD   HEX-USD  DOGE-USD  \n",
      "Date                                                                     \n",
      "2021-06-01  1.734753  1.011001  1.000303  30.985260  0.054346  0.370077  \n",
      "2021-06-02  1.752824  1.024400  1.000353  33.956318  0.055444  0.423374  \n",
      "2021-06-03  1.840471  1.045321  1.000321  39.470905  0.054931  0.399963  \n",
      "2021-06-04  1.710908  0.970196  1.000801  37.415070  0.060161  0.376323  \n",
      "2021-06-05  1.659009  0.923286  1.000210  39.585400  0.057680  0.372177  \n",
      "...              ...       ...       ...        ...       ...       ...  \n",
      "2022-05-25  0.513877  0.405785  0.999034  47.982426  0.078441  0.082985  \n",
      "2022-05-26  0.480883  0.393170  1.000228  43.491211  0.067300  0.078252  \n",
      "2022-05-27  0.455507  0.381787  1.000368  40.981346  0.062862  0.081335  \n",
      "2022-05-28  0.455911  0.385426  1.001823  41.253616  0.062552  0.081945  \n",
      "2022-05-31  0.635564  0.423728  0.999934  46.107307  0.081030  0.086288  \n",
      "\n",
      "[363 rows x 11 columns]\n"
     ]
    }
   ],
   "source": [
    "cs = crypto_prices\n",
    "print(cs)\n",
    "#statistics.variance(cs)"
   ]
  },
  {
   "cell_type": "code",
   "execution_count": 86,
   "id": "a7b8355b-52fb-49c9-90e5-1e67cd48e3ae",
   "metadata": {},
   "outputs": [],
   "source": [
    "# The Free Crypto API Call endpoint URLs for the held cryptocurrency assets\n",
    "\n",
    "btc_url = \"https://api.alternative.me/v2/ticker/Bitcoin/?convert=USD\"\n",
    "eth_url = \"https://api.alternative.me/v2/ticker/Ethereum/?convert=USD\"\n",
    "xrp_url = \"https://api.alternative.me/v2/ticker/Ripple/?convert=USD\"\n",
    "ada_url = \"https://api.alternative.me/v2/ticker/Cardano/?convert=USD\"\n",
    "doge_url = \"https://api.alternative.me/v2/ticker/Dogecoin/?convert=USD\"\n",
    "sol_url = \"https://api.alternative.me/v2/ticker/Solana/?convert=USD\"\n",
    "dot_url = \"https://api.alternative.me/v2/ticker/Polkadot/?convert=USD\""
   ]
  },
  {
   "cell_type": "code",
   "execution_count": 21,
   "id": "1c0fe9b4-0f2c-4cb2-90b7-d3d4b45e0dc3",
   "metadata": {},
   "outputs": [],
   "source": [
    "btc_response = requests.get(btc_url).json()\n",
    "xrp_response = requests.get(xrp_url).json()\n",
    "ada_response = requests.get(ada_url).json()\n",
    "doge_response = requests.get(doge_url).json()\n",
    "sol_response = requests.get(sol_url).json()\n",
    "dot_response = requests.get(dot_url).json()\n",
    "\n",
    "\n",
    "#print(json.dumps(btc_response, indent=4, sort_keys=True))\n",
    "#print(json.dumps(xrp_response, indent=4, sort_keys=True))\n",
    "#print(json.dumps(ada_response, indent=4, sort_keys=True))\n",
    "#print(json.dumps(doge_response, indent=4, sort_keys=True))\n",
    "#print(json.dumps(sol_response, indent=4, sort_keys=True))\n",
    "#print(json.dumps(dot_response, indent=4, sort_keys=True))\n",
    "\n",
    "\n",
    "# Crypto names\n",
    "btc_name = btc_response[\"data\"][\"1\"][\"name\"]\n",
    "xrp_name = xrp_response[\"data\"][\"52\"][\"name\"]\n",
    "ada_name = ada_response[\"data\"][\"2010\"][\"name\"]\n",
    "doge_name = doge_response[\"data\"][\"74\"][\"name\"]\n",
    "sol_name = sol_response[\"data\"][\"11733\"][\"name\"]\n",
    "dot_name = dot_response[\"data\"][\"11517\"][\"name\"]\n",
    "\n",
    "# Crypto Symbol\n",
    "\n",
    "btc_symbol = btc_response[\"data\"][\"1\"][\"symbol\"]\n",
    "xrp_symbol = xrp_response[\"data\"][\"52\"][\"symbol\"]\n",
    "ada_symbol = ada_response[\"data\"][\"2010\"][\"symbol\"]\n",
    "doge_symbol = doge_response[\"data\"][\"74\"][\"symbol\"]\n",
    "sol_symbol = sol_response[\"data\"][\"11733\"][\"symbol\"]\n",
    "dot_symbol = dot_response[\"data\"][\"11517\"][\"symbol\"]\n",
    "\n",
    "# Crypto Category\n",
    "\n",
    "btc_cat = 'BTC'\n",
    "xrp_cat = 'altcoins'\n",
    "ada_cat = 'altcoins'\n",
    "doge_cat = 'meme coin'\n",
    "sol_cat = 'altcoins'\n",
    "dot_cat = 'altcoins'\n",
    "\n",
    "# Crypto price\n",
    "\n",
    "btc_price = round(btc_response[\"data\"][\"1\"][\"quotes\"][\"USD\"][\"price\"],2)\n",
    "xrp_price = round(xrp_response[\"data\"][\"52\"][\"quotes\"][\"USD\"][\"price\"],2)\n",
    "ada_price = round(ada_response[\"data\"][\"2010\"][\"quotes\"][\"USD\"][\"price\"],2)\n",
    "doge_price = round(doge_response[\"data\"][\"74\"][\"quotes\"][\"USD\"][\"price\"],2)\n",
    "sol_price = round(sol_response[\"data\"][\"11733\"][\"quotes\"][\"USD\"][\"price\"],2)\n",
    "dot_price = round(dot_response[\"data\"][\"11517\"][\"quotes\"][\"USD\"][\"price\"],2)\n",
    "\n",
    "# 24hr Volume\n",
    "\n",
    "btc_vol = f\"$ \"\"{:,}\".format(btc_response[\"data\"][\"1\"][\"quotes\"][\"USD\"][\"volume_24h\"])\n",
    "xrp_vol = f\"$ \"\"{:,}\".format(xrp_response[\"data\"][\"52\"][\"quotes\"][\"USD\"][\"volume_24h\"])\n",
    "ada_vol = f\"$ \"\"{:,}\".format(ada_response[\"data\"][\"2010\"][\"quotes\"][\"USD\"][\"volume_24h\"])\n",
    "doge_vol = f\"$ \"\"{:,}\".format(doge_response[\"data\"][\"74\"][\"quotes\"][\"USD\"][\"volume_24h\"])\n",
    "sol_vol = f\"$ \"\"{:,}\".format(sol_response[\"data\"][\"11733\"][\"quotes\"][\"USD\"][\"volume_24h\"])\n",
    "dot_vol = f\"$ \"\"{:,}\".format(dot_response[\"data\"][\"11517\"][\"quotes\"][\"USD\"][\"volume_24h\"])\n",
    "\n",
    "# Market Cap\n",
    "\n",
    "btc_cap = f\"$ \"\"{:,}\".format(btc_response[\"data\"][\"1\"][\"quotes\"][\"USD\"][\"market_cap\"])\n",
    "xrp_cap = f\"$ \"\"{:,}\".format(xrp_response[\"data\"][\"52\"][\"quotes\"][\"USD\"][\"market_cap\"])\n",
    "ada_cap = f\"$ \"\"{:,}\".format(ada_response[\"data\"][\"2010\"][\"quotes\"][\"USD\"][\"market_cap\"])\n",
    "doge_cap =f\"$ \" \"{:,}\".format(doge_response[\"data\"][\"74\"][\"quotes\"][\"USD\"][\"market_cap\"])\n",
    "sol_cap = f\"$ \"\"{:,}\".format(sol_response[\"data\"][\"11733\"][\"quotes\"][\"USD\"][\"market_cap\"])\n",
    "dot_cap = f\"$ \"\"{:,}\".format(dot_response[\"data\"][\"11517\"][\"quotes\"][\"USD\"][\"market_cap\"])\n",
    "\n",
    "# percent_change_1h\n",
    "\n",
    "btc_1hr = \"{:.2%}\".format((btc_response[\"data\"][\"1\"][\"quotes\"][\"USD\"][\"percentage_change_1h\"] / 100))\n",
    "xrp_1hr = \"{:.2%}\".format((xrp_response[\"data\"][\"52\"][\"quotes\"][\"USD\"][\"percentage_change_1h\"] / 100))\n",
    "ada_1hr = \"{:.2%}\".format((ada_response[\"data\"][\"2010\"][\"quotes\"][\"USD\"][\"percentage_change_1h\"] / 100))\n",
    "doge_1hr = \"{:.2%}\".format((doge_response[\"data\"][\"74\"][\"quotes\"][\"USD\"][\"percentage_change_1h\"] / 100))\n",
    "sol_1hr = \"{:.2%}\".format((sol_response[\"data\"][\"11733\"][\"quotes\"][\"USD\"][\"percentage_change_1h\"] / 100))\n",
    "dot_1hr = \"{:.2%}\".format((dot_response[\"data\"][\"11517\"][\"quotes\"][\"USD\"][\"percentage_change_1h\"] / 100))\n",
    "\n",
    "# percent_change_24h\n",
    "\n",
    "btc_24hr = \"{:.2%}\".format((btc_response[\"data\"][\"1\"][\"quotes\"][\"USD\"][\"percentage_change_24h\"] / 100))\n",
    "xrp_24hr = \"{:.2%}\".format((xrp_response[\"data\"][\"52\"][\"quotes\"][\"USD\"][\"percentage_change_24h\"] / 100))\n",
    "ada_24hr = \"{:.2%}\".format((ada_response[\"data\"][\"2010\"][\"quotes\"][\"USD\"][\"percentage_change_24h\"] / 100))\n",
    "doge_24hr= \"{:.2%}\".format((doge_response[\"data\"][\"74\"][\"quotes\"][\"USD\"][\"percentage_change_24h\"] / 100))\n",
    "sol_24hr = \"{:.2%}\".format((sol_response[\"data\"][\"11733\"][\"quotes\"][\"USD\"][\"percentage_change_24h\"] / 100))\n",
    "dot_24hr = \"{:.2%}\".format((dot_response[\"data\"][\"11517\"][\"quotes\"][\"USD\"][\"percentage_change_24h\"] / 100))\n",
    "\n",
    "# percent_change_7d\n",
    "\n",
    "btc_7d =  \"{:.2%}\".format((btc_response[\"data\"][\"1\"][\"quotes\"][\"USD\"][\"percentage_change_7d\"] / 100))\n",
    "xrp_7d = \"{:.2%}\".format((xrp_response[\"data\"][\"52\"][\"quotes\"][\"USD\"][\"percentage_change_7d\"] / 100))\n",
    "ada_7d = \"{:.2%}\".format((ada_response[\"data\"][\"2010\"][\"quotes\"][\"USD\"][\"percentage_change_7d\"] / 100))\n",
    "doge_7d = \"{:.2%}\".format((doge_response[\"data\"][\"74\"][\"quotes\"][\"USD\"][\"percentage_change_7d\"] / 100))\n",
    "sol_7d = \"{:.2%}\".format((sol_response[\"data\"][\"11733\"][\"quotes\"][\"USD\"][\"percentage_change_7d\"] / 100))\n",
    "dot_7d = \"{:.2%}\".format((dot_response[\"data\"][\"11517\"][\"quotes\"][\"USD\"][\"percentage_change_7d\"] / 100))\n",
    "\n",
    "#round((btc_7d),2)\n",
    "btc_new_price = \"{:,}\".format(btc_price)\n",
    "    \n"
   ]
  },
  {
   "cell_type": "code",
   "execution_count": 22,
   "id": "7645987e-adf8-461d-929f-2404d28f2b12",
   "metadata": {},
   "outputs": [
    {
     "name": "stderr",
     "output_type": "stream",
     "text": [
      "/var/folders/3v/j3665vvd1qn2w9n50h1qqmqr0000gn/T/ipykernel_10168/1929082829.py:3: SADeprecationWarning: The Engine.table_names() method is deprecated and will be removed in a future release.  Please refer to Inspector.get_table_names(). (deprecated since: 1.4)\n",
      "  engine.table_names()\n"
     ]
    },
    {
     "data": {
      "text/plain": [
       "['Crypto']"
      ]
     },
     "execution_count": 22,
     "metadata": {},
     "output_type": "execute_result"
    }
   ],
   "source": [
    "stocks_dataframe = pd.DataFrame({'Coins': [btc_name,1,1,1,1,xrp_name,ada_name,doge_name,dot_name,sol_name], 'Symbol': [btc_symbol,1,1,1,1,xrp_symbol,ada_symbol,doge_symbol,dot_symbol,sol_symbol],'Category': [btc_cat,1,1,1,1,xrp_cat,ada_cat,doge_cat,dot_cat,sol_cat], 'Price': [btc_new_price,1,1,1,1,xrp_price,ada_price,doge_price,dot_price,sol_price],'24Hr Volume': [btc_vol,1,1,1,1,xrp_vol,ada_vol,doge_vol,dot_vol,sol_vol], 'Market Caplization':[btc_cap,1,1,1,1,xrp_cap,ada_cap,doge_cap,dot_cap,sol_cap],'1hr % Change': [btc_1hr,1,1,1,1,xrp_1hr,ada_1hr,doge_1hr,dot_1hr,sol_1hr], '24hrs %Change': [btc_24hr,1,1,1,1,xrp_24hr,ada_24hr,doge_24hr,dot_24hr,sol_24hr],'7days %Change': [btc_7d,1,1,1,1,xrp_7d,ada_7d,doge_7d,dot_7d,sol_7d], 'Sharpe Ratio': [btc_name, 77, 3,4,5,6,7,8,9,0],'Variance': [btc_name, 77, 3,4,5,6,7,8,9,0] })\n",
    "stocks_dataframe.to_sql('Crypto', engine)\n",
    "engine.table_names()"
   ]
  },
  {
   "cell_type": "code",
   "execution_count": 23,
   "id": "7b935a7b-f5e4-4c57-b1d3-1b9b18ed7ca6",
   "metadata": {},
   "outputs": [
    {
     "data": {
      "text/plain": [
       "[('Bitcoin',),\n",
       " ('1',),\n",
       " ('1',),\n",
       " ('1',),\n",
       " ('1',),\n",
       " ('XRP',),\n",
       " ('Cardano',),\n",
       " ('Dogecoin',),\n",
       " ('Polkadot',),\n",
       " ('Solana',)]"
      ]
     },
     "execution_count": 23,
     "metadata": {},
     "output_type": "execute_result"
    }
   ],
   "source": [
    "query = \"\"\"\n",
    "SELECT \"Coins\" FROM Crypto;\n",
    "\"\"\"\n",
    "results = engine.execute(query)\n",
    "list(results)"
   ]
  },
  {
   "cell_type": "code",
   "execution_count": 24,
   "id": "7e6e4075-25ca-41bd-a395-a98e81ecfa82",
   "metadata": {},
   "outputs": [
    {
     "ename": "SyntaxError",
     "evalue": "invalid syntax (1518162677.py, line 1)",
     "output_type": "error",
     "traceback": [
      "\u001b[0;36m  Input \u001b[0;32mIn [24]\u001b[0;36m\u001b[0m\n\u001b[0;31m    Sharpe_Ratio =\u001b[0m\n\u001b[0m                   ^\u001b[0m\n\u001b[0;31mSyntaxError\u001b[0m\u001b[0;31m:\u001b[0m invalid syntax\n"
     ]
    }
   ],
   "source": [
    "Sharpe_Ratio = "
   ]
  },
  {
   "cell_type": "code",
   "execution_count": 25,
   "id": "94564aa3-a295-4c4b-ab61-0e99802f4c16",
   "metadata": {},
   "outputs": [
    {
     "data": {
      "text/html": [
       "<div>\n",
       "<style scoped>\n",
       "    .dataframe tbody tr th:only-of-type {\n",
       "        vertical-align: middle;\n",
       "    }\n",
       "\n",
       "    .dataframe tbody tr th {\n",
       "        vertical-align: top;\n",
       "    }\n",
       "\n",
       "    .dataframe thead th {\n",
       "        text-align: right;\n",
       "    }\n",
       "</style>\n",
       "<table border=\"1\" class=\"dataframe\">\n",
       "  <thead>\n",
       "    <tr style=\"text-align: right;\">\n",
       "      <th></th>\n",
       "      <th>Coins</th>\n",
       "      <th>Symbol</th>\n",
       "      <th>Category</th>\n",
       "      <th>Price</th>\n",
       "      <th>24Hr Volume</th>\n",
       "      <th>Market Caplization</th>\n",
       "      <th>1hr % Change</th>\n",
       "      <th>24hrs %Change</th>\n",
       "      <th>7days %Change</th>\n",
       "      <th>Sharpe Ratio</th>\n",
       "      <th>Variance</th>\n",
       "    </tr>\n",
       "  </thead>\n",
       "  <tbody>\n",
       "    <tr>\n",
       "      <th>0</th>\n",
       "      <td>Bitcoin</td>\n",
       "      <td>BTC</td>\n",
       "      <td>BTC</td>\n",
       "      <td>31,849.0</td>\n",
       "      <td>$ 30,116,686,176</td>\n",
       "      <td>$ 606,885,427,331</td>\n",
       "      <td>0.40%</td>\n",
       "      <td>0.27%</td>\n",
       "      <td>9.21%</td>\n",
       "      <td>Bitcoin</td>\n",
       "      <td>Bitcoin</td>\n",
       "    </tr>\n",
       "    <tr>\n",
       "      <th>1</th>\n",
       "      <td>1</td>\n",
       "      <td>1</td>\n",
       "      <td>1</td>\n",
       "      <td>1</td>\n",
       "      <td>1</td>\n",
       "      <td>1</td>\n",
       "      <td>1</td>\n",
       "      <td>1</td>\n",
       "      <td>1</td>\n",
       "      <td>77</td>\n",
       "      <td>77</td>\n",
       "    </tr>\n",
       "    <tr>\n",
       "      <th>2</th>\n",
       "      <td>1</td>\n",
       "      <td>1</td>\n",
       "      <td>1</td>\n",
       "      <td>1</td>\n",
       "      <td>1</td>\n",
       "      <td>1</td>\n",
       "      <td>1</td>\n",
       "      <td>1</td>\n",
       "      <td>1</td>\n",
       "      <td>3</td>\n",
       "      <td>3</td>\n",
       "    </tr>\n",
       "    <tr>\n",
       "      <th>3</th>\n",
       "      <td>1</td>\n",
       "      <td>1</td>\n",
       "      <td>1</td>\n",
       "      <td>1</td>\n",
       "      <td>1</td>\n",
       "      <td>1</td>\n",
       "      <td>1</td>\n",
       "      <td>1</td>\n",
       "      <td>1</td>\n",
       "      <td>4</td>\n",
       "      <td>4</td>\n",
       "    </tr>\n",
       "    <tr>\n",
       "      <th>4</th>\n",
       "      <td>1</td>\n",
       "      <td>1</td>\n",
       "      <td>1</td>\n",
       "      <td>1</td>\n",
       "      <td>1</td>\n",
       "      <td>1</td>\n",
       "      <td>1</td>\n",
       "      <td>1</td>\n",
       "      <td>1</td>\n",
       "      <td>5</td>\n",
       "      <td>5</td>\n",
       "    </tr>\n",
       "    <tr>\n",
       "      <th>5</th>\n",
       "      <td>XRP</td>\n",
       "      <td>XRP</td>\n",
       "      <td>altcoins</td>\n",
       "      <td>0.42</td>\n",
       "      <td>$ 1,749,382,505</td>\n",
       "      <td>$ 20,514,146,592</td>\n",
       "      <td>0.42%</td>\n",
       "      <td>1.14%</td>\n",
       "      <td>4.54%</td>\n",
       "      <td>6</td>\n",
       "      <td>6</td>\n",
       "    </tr>\n",
       "    <tr>\n",
       "      <th>6</th>\n",
       "      <td>Cardano</td>\n",
       "      <td>ADA</td>\n",
       "      <td>altcoins</td>\n",
       "      <td>0.63</td>\n",
       "      <td>$ 2,798,609,686</td>\n",
       "      <td>$ 21,450,336,912</td>\n",
       "      <td>3.61%</td>\n",
       "      <td>11.75%</td>\n",
       "      <td>23.18%</td>\n",
       "      <td>7</td>\n",
       "      <td>7</td>\n",
       "    </tr>\n",
       "    <tr>\n",
       "      <th>7</th>\n",
       "      <td>Dogecoin</td>\n",
       "      <td>DOGE</td>\n",
       "      <td>meme coin</td>\n",
       "      <td>0.09</td>\n",
       "      <td>$ 631,497,172</td>\n",
       "      <td>$ 11,495,257,392</td>\n",
       "      <td>0.09%</td>\n",
       "      <td>-1.36%</td>\n",
       "      <td>3.30%</td>\n",
       "      <td>8</td>\n",
       "      <td>8</td>\n",
       "    </tr>\n",
       "    <tr>\n",
       "      <th>8</th>\n",
       "      <td>Polkadot</td>\n",
       "      <td>DOT</td>\n",
       "      <td>altcoins</td>\n",
       "      <td>10.53</td>\n",
       "      <td>$ 547,967,609</td>\n",
       "      <td>$ 11,783,356,001</td>\n",
       "      <td>0.40%</td>\n",
       "      <td>-0.37%</td>\n",
       "      <td>6.15%</td>\n",
       "      <td>9</td>\n",
       "      <td>9</td>\n",
       "    </tr>\n",
       "    <tr>\n",
       "      <th>9</th>\n",
       "      <td>Solana</td>\n",
       "      <td>SOL</td>\n",
       "      <td>altcoins</td>\n",
       "      <td>46.05</td>\n",
       "      <td>$ 1,512,143,994</td>\n",
       "      <td>$ 15,640,848,383</td>\n",
       "      <td>0.63%</td>\n",
       "      <td>-3.07%</td>\n",
       "      <td>-6.26%</td>\n",
       "      <td>0</td>\n",
       "      <td>0</td>\n",
       "    </tr>\n",
       "  </tbody>\n",
       "</table>\n",
       "</div>"
      ],
      "text/plain": [
       "      Coins Symbol   Category     Price       24Hr Volume Market Caplization  \\\n",
       "0   Bitcoin    BTC        BTC  31,849.0  $ 30,116,686,176  $ 606,885,427,331   \n",
       "1         1      1          1         1                 1                  1   \n",
       "2         1      1          1         1                 1                  1   \n",
       "3         1      1          1         1                 1                  1   \n",
       "4         1      1          1         1                 1                  1   \n",
       "5       XRP    XRP   altcoins      0.42   $ 1,749,382,505   $ 20,514,146,592   \n",
       "6   Cardano    ADA   altcoins      0.63   $ 2,798,609,686   $ 21,450,336,912   \n",
       "7  Dogecoin   DOGE  meme coin      0.09     $ 631,497,172   $ 11,495,257,392   \n",
       "8  Polkadot    DOT   altcoins     10.53     $ 547,967,609   $ 11,783,356,001   \n",
       "9    Solana    SOL   altcoins     46.05   $ 1,512,143,994   $ 15,640,848,383   \n",
       "\n",
       "  1hr % Change 24hrs %Change 7days %Change Sharpe Ratio Variance  \n",
       "0        0.40%         0.27%         9.21%      Bitcoin  Bitcoin  \n",
       "1            1             1             1           77       77  \n",
       "2            1             1             1            3        3  \n",
       "3            1             1             1            4        4  \n",
       "4            1             1             1            5        5  \n",
       "5        0.42%         1.14%         4.54%            6        6  \n",
       "6        3.61%        11.75%        23.18%            7        7  \n",
       "7        0.09%        -1.36%         3.30%            8        8  \n",
       "8        0.40%        -0.37%         6.15%            9        9  \n",
       "9        0.63%        -3.07%        -6.26%            0        0  "
      ]
     },
     "execution_count": 25,
     "metadata": {},
     "output_type": "execute_result"
    }
   ],
   "source": [
    "stocks_dataframe\n",
    "  "
   ]
  },
  {
   "cell_type": "code",
   "execution_count": null,
   "id": "0d89ad14-24ba-4253-a1cc-226d52fee95f",
   "metadata": {},
   "outputs": [],
   "source": []
  },
  {
   "cell_type": "code",
   "execution_count": null,
   "id": "f0941a13-4eb3-468e-8415-5606df3c79c9",
   "metadata": {},
   "outputs": [],
   "source": []
  },
  {
   "cell_type": "code",
   "execution_count": null,
   "id": "1d557849-2386-481c-8fe9-9a0d73efe1a7",
   "metadata": {},
   "outputs": [],
   "source": []
  },
  {
   "cell_type": "code",
   "execution_count": null,
   "id": "d17b57c0-7f4d-480d-980b-3f67de8420bd",
   "metadata": {},
   "outputs": [],
   "source": []
  }
 ],
 "metadata": {
  "kernelspec": {
   "display_name": "Python 3 (ipykernel)",
   "language": "python",
   "name": "python3"
  },
  "language_info": {
   "codemirror_mode": {
    "name": "ipython",
    "version": 3
   },
   "file_extension": ".py",
   "mimetype": "text/x-python",
   "name": "python",
   "nbconvert_exporter": "python",
   "pygments_lexer": "ipython3",
   "version": "3.9.7"
  }
 },
 "nbformat": 4,
 "nbformat_minor": 5
}
