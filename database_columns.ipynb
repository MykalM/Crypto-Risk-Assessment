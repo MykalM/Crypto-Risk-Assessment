{
 "cells": [
  {
   "cell_type": "code",
   "execution_count": 1,
   "id": "caf253d0-b344-469f-add6-360252788f88",
   "metadata": {},
   "outputs": [
    {
     "ename": "ModuleNotFoundError",
     "evalue": "No module named 'pandas_datareader'",
     "output_type": "error",
     "traceback": [
      "\u001b[1;31m---------------------------------------------------------------------------\u001b[0m",
      "\u001b[1;31mModuleNotFoundError\u001b[0m                       Traceback (most recent call last)",
      "\u001b[1;32m~\\AppData\\Local\\Temp\\ipykernel_9816\\1204571386.py\u001b[0m in \u001b[0;36m<module>\u001b[1;34m\u001b[0m\n\u001b[0;32m     10\u001b[0m \u001b[1;32mimport\u001b[0m \u001b[0mtime\u001b[0m\u001b[1;33m\u001b[0m\u001b[1;33m\u001b[0m\u001b[0m\n\u001b[0;32m     11\u001b[0m \u001b[1;32mimport\u001b[0m \u001b[0mstatistics\u001b[0m\u001b[1;33m\u001b[0m\u001b[1;33m\u001b[0m\u001b[0m\n\u001b[1;32m---> 12\u001b[1;33m \u001b[1;32mimport\u001b[0m \u001b[0mpandas_datareader\u001b[0m\u001b[1;33m.\u001b[0m\u001b[0mdata\u001b[0m \u001b[1;32mas\u001b[0m \u001b[0mpdr\u001b[0m\u001b[1;33m\u001b[0m\u001b[1;33m\u001b[0m\u001b[0m\n\u001b[0m",
      "\u001b[1;31mModuleNotFoundError\u001b[0m: No module named 'pandas_datareader'"
     ]
    }
   ],
   "source": [
    "import pandas as pd\n",
    "import numpy as np\n",
    "import sqlalchemy\n",
    "import requests\n",
    "import locale\n",
    "import json\n",
    "import numpy as np\n",
    "import datetime as dt\n",
    "import matplotlib.pyplot as plt\n",
    "import time\n",
    "import statistics\n",
    "import pandas_datareader.data as pdr"
   ]
  },
  {
   "cell_type": "code",
   "execution_count": null,
   "id": "8ded8987-7057-4f4e-ae9b-4abbaa050a74",
   "metadata": {},
   "outputs": [],
   "source": [
    "# Create a temporary sqlite database\n",
    "database_connection_string = 'sqlite:///'\n",
    "\n",
    "# Create an engine to interact with the database\n",
    "engine = sqlalchemy.create_engine(database_connection_string)"
   ]
  },
  {
   "cell_type": "code",
   "execution_count": null,
   "id": "cfb41386-8a49-49f1-88fd-d1005fcf4087",
   "metadata": {},
   "outputs": [],
   "source": [
    "def get_data(tickers, start_date, end_date):\n",
    "    \n",
    "    \"\"\"Read in daily price(adjusted close) of asset from CSV files for a given set of dates.\"\"\"\n",
    "    \n",
    "    # download daily price data for each of the stocks in the portfolio\n",
    "    df = pdr.get_data_yahoo(stocks, start=start_date, end = end_date)['Adj Close']\n",
    "    df.sort_index(inplace = True)\n",
    "    \n",
    "    return df"
   ]
  },
  {
   "cell_type": "code",
   "execution_count": null,
   "id": "db3de4a4-1126-4ee3-ad94-e2850ccb3b12",
   "metadata": {},
   "outputs": [],
   "source": [
    "stocks = ['BTC-USD','ETH-USD','USDT-USD','BNB-USD','ADA-USD','XRP-USD','SOL-USD','DOGE-USD','DOT-USD','UNI-USD','USDC-USD','BUSD-USD','HEX-USD']"
   ]
  },
  {
   "cell_type": "code",
   "execution_count": null,
   "id": "a03ca83d-2893-4129-b421-b476283dec5b",
   "metadata": {},
   "outputs": [],
   "source": [
    "crypto_prices = get_data(stocks, '06/01/2021', '05/31/2022' )\n",
    "\n",
    "#print(crypto_prices.head())\n",
    "print(crypto_prices.tail())"
   ]
  },
  {
   "cell_type": "code",
   "execution_count": null,
   "id": "7974251b-476e-4cce-b523-5848d9135d10",
   "metadata": {},
   "outputs": [],
   "source": [
    "# Next, we'll define a function for calculating daily returns for our coins\n",
    "def calc_daily_returns(df):\n",
    "    return (df.pct_change())"
   ]
  },
  {
   "cell_type": "code",
   "execution_count": null,
   "id": "7fbee527-c17c-47f6-b2cd-a5c53b97b241",
   "metadata": {},
   "outputs": [],
   "source": [
    "crypto_daily_rets = calc_daily_returns(crypto_prices)\n",
    "print(crypto_daily_rets.tail())"
   ]
  },
  {
   "cell_type": "code",
   "execution_count": null,
   "id": "aa914bb5-9204-42b9-9db5-8b29c18659ed",
   "metadata": {},
   "outputs": [],
   "source": [
    "# Define a function for calculating mean daily returns for our coins\n",
    "def calc_mean_daily_returns(daily_returns):\n",
    "    return (daily_returns.mean(skipna=True, level=None, numeric_only=None))"
   ]
  },
  {
   "cell_type": "code",
   "execution_count": null,
   "id": "9122aa91-34ca-43a0-96e0-cedc62ea2076",
   "metadata": {},
   "outputs": [],
   "source": [
    "crypto_mean_daily_rets = calc_mean_daily_returns(crypto_daily_rets)\n",
    "print (crypto_mean_daily_rets)\n",
    "\n",
    "#round(crypto_mean)"
   ]
  },
  {
   "cell_type": "code",
   "execution_count": null,
   "id": "c2cca0eb-cc26-459e-b80c-5d06b0e4ef87",
   "metadata": {},
   "outputs": [],
   "source": [
    "# Define a function for creating covariance matrices\n",
    "def create_covariance_matrix(daily_returns):\n",
    "    return daily_returns.cov()"
   ]
  },
  {
   "cell_type": "code",
   "execution_count": null,
   "id": "3a36d528-2e54-4a22-b5b9-6b0264b944c1",
   "metadata": {},
   "outputs": [],
   "source": [
    "crypto_cov_matrix = create_covariance_matrix(crypto_daily_rets)\n",
    "print(crypto_cov_matrix)"
   ]
  },
  {
   "cell_type": "code",
   "execution_count": null,
   "id": "d7da0421-5b61-4a10-b2f0-ebde745cb15a",
   "metadata": {},
   "outputs": [],
   "source": [
    "cs = crypto_prices\n",
    "print(cs)\n",
    "#statistics.variance(cs)"
   ]
  },
  {
   "cell_type": "code",
   "execution_count": null,
   "id": "e666322b-f1de-4661-b2e1-625db13ac863",
   "metadata": {},
   "outputs": [],
   "source": [
    "# The Free Crypto API Call endpoint URLs for the held cryptocurrency assets\n",
    "btc_url = \"https://api.alternative.me/v2/ticker/Bitcoin/?convert=USD\"\n",
    "eth_url = \"https://api.alternative.me/v2/ticker/Ethereum/?convert=USD\"\n",
    "usdt_url = \"https://api.alternative.me/v2/ticker/Tether/?convert=USD\"\n",
    "bnb_url = \"https://api.alternative.me/v2/ticker/BinanceCoin/?convert=USD\"\n",
    "ada_url = \"https://api.alternative.me/v2/ticker/Cardano/?convert=USD\"\n",
    "xrp_url = \"https://api.alternative.me/v2/ticker/Ripple/?convert=USD\"\n",
    "sol_url = \"https://api.alternative.me/v2/ticker/Solana/?convert=USD\"\n",
    "doge_url = \"https://api.alternative.me/v2/ticker/Dogecoin/?convert=USD\"\n",
    "dot_url = \"https://api.alternative.me/v2/ticker/Polkadot/?convert=USD\"\n",
    "uni_url = \"https://api.alternative.me/v2/ticker/Uniswap/?convert=USD\""
   ]
  },
  {
   "cell_type": "code",
   "execution_count": null,
   "id": "8bcdb60d-8b93-4d0d-a8a1-fc6652cbe113",
   "metadata": {},
   "outputs": [],
   "source": [
    "btc_response = requests.get(btc_url).json()\n",
    "eth_response= requests.get(eth_url).json()\n",
    "usdt_response= requests.get(usdt_url).json()\n",
    "bnb_response= requests.get(bnb_url).json()\n",
    "ada_response = requests.get(ada_url).json()\n",
    "xrp_response = requests.get(xrp_url).json()\n",
    "sol_response = requests.get(sol_url).json()\n",
    "doge_response = requests.get(doge_url).json()\n",
    "dot_response = requests.get(dot_url).json()\n",
    "uni_response= requests.get(uni_url).json()"
   ]
  },
  {
   "cell_type": "code",
   "execution_count": null,
   "id": "434ed8c3-a937-48e5-a9d8-2caa2222a5c5",
   "metadata": {},
   "outputs": [],
   "source": [
    "print(json.dumps(btc_response, indent=4, sort_keys=True))\n",
    "print(json.dumps(eth_response, indent=4, sort_keys=True))\n",
    "print(json.dumps(usdt_response, indent=4, sort_keys=True))\n",
    "print(json.dumps(bnb_response, indent=4, sort_keys=True))\n",
    "print(json.dumps(ada_response, indent=4, sort_keys=True))\n",
    "print(json.dumps(xrp_response, indent=4, sort_keys=True))\n",
    "print(json.dumps(sol_response, indent=4, sort_keys=True))\n",
    "print(json.dumps(doge_response, indent=4, sort_keys=True))\n",
    "print(json.dumps(dot_response, indent=4, sort_keys=True))\n",
    "print(json.dumps(uni_response, indent=4, sort_keys=True))"
   ]
  },
  {
   "cell_type": "code",
   "execution_count": null,
   "id": "8d0ff085-8575-4111-894d-eace7c11b411",
   "metadata": {},
   "outputs": [],
   "source": [
    "# Crypto names\n",
    "btc_name = btc_response[\"data\"][\"1\"][\"name\"]\n",
    "eth_name = eth_response[\"data\"][\"1027\"][\"name\"]\n",
    "usdt_name = usdt_response[\"data\"][\"825\"][\"name\"]\n",
    "bnb_name = bnb_response[\"data\"][\"1839\"][\"name\"]\n",
    "ada_name = ada_response[\"data\"][\"2010\"][\"name\"]\n",
    "xrp_name = xrp_response[\"data\"][\"52\"][\"name\"]\n",
    "sol_name = sol_response[\"data\"][\"11733\"][\"name\"]\n",
    "doge_name = doge_response[\"data\"][\"74\"][\"name\"]\n",
    "dot_name = dot_response[\"data\"][\"11517\"][\"name\"]\n",
    "uni_name = uni_response[\"data\"][\"11968\"][\"name\"]"
   ]
  },
  {
   "cell_type": "code",
   "execution_count": null,
   "id": "456da08b-c5f8-44aa-946a-a7567fc380db",
   "metadata": {},
   "outputs": [],
   "source": [
    "# Crypto Symbol\n",
    "btc_symbol = btc_response[\"data\"][\"1\"][\"symbol\"]\n",
    "eth_symbol = eth_response[\"data\"][\"1027\"][\"symbol\"]\n",
    "usdt_symbol = usdt_response[\"data\"][\"825\"][\"symbol\"]\n",
    "bnb_symbol = bnb_response[\"data\"][\"1839\"][\"symbol\"]\n",
    "ada_symbol = ada_response[\"data\"][\"2010\"][\"symbol\"]\n",
    "xrp_symbol = xrp_response[\"data\"][\"52\"][\"symbol\"]\n",
    "sol_symbol = sol_response[\"data\"][\"11733\"][\"symbol\"]\n",
    "doge_symbol = doge_response[\"data\"][\"74\"][\"symbol\"]\n",
    "dot_symbol = dot_response[\"data\"][\"11517\"][\"symbol\"]\n",
    "uni_symbol = uni_response[\"data\"][\"11968\"][\"symbol\"]"
   ]
  },
  {
   "cell_type": "code",
   "execution_count": null,
   "id": "a1a568af-aa63-4a8a-82ff-30aa2cde0614",
   "metadata": {},
   "outputs": [],
   "source": [
    "# Crypto Category\n",
    "btc_cat = 'BTC'\n",
    "eth_cat = \"Altcoins\"\n",
    "usdt_cat = \"Stablecoin\"\n",
    "bnb_cat = \"Stablecoin\"\n",
    "ada_cat = 'Altcoins'\n",
    "xrp_cat = 'Altcoins'\n",
    "sol_cat = 'Altcoins'\n",
    "doge_cat = 'Meme coin'\n",
    "dot_cat = 'Altcoins'\n",
    "uni_cat = \"Altcoins\""
   ]
  },
  {
   "cell_type": "code",
   "execution_count": null,
   "id": "aebef41b-f6a3-45f2-becc-5551bb3f6726",
   "metadata": {},
   "outputs": [],
   "source": [
    "# Crypto price\n",
    "btc_price = \"${:,.2f}\".format(btc_response[\"data\"][\"1\"][\"quotes\"][\"USD\"][\"price\"])\n",
    "eth_price = \"${:,.2f}\".format(eth_response[\"data\"][\"1027\"][\"quotes\"][\"USD\"][\"price\"])\n",
    "usdt_price = \"${:,.2f}\".format(usdt_response[\"data\"][\"825\"][\"quotes\"][\"USD\"][\"price\"])\n",
    "bnb_price = \"${:,.2f}\".format(bnb_response[\"data\"][\"1839\"][\"quotes\"][\"USD\"][\"price\"])\n",
    "ada_price = \"${:,.2f}\".format(ada_response[\"data\"][\"2010\"][\"quotes\"][\"USD\"][\"price\"])\n",
    "xrp_price = \"${:,.2f}\".format(xrp_response[\"data\"][\"52\"][\"quotes\"][\"USD\"][\"price\"])\n",
    "sol_price = \"${:,.2f}\".format(sol_response[\"data\"][\"11733\"][\"quotes\"][\"USD\"][\"price\"])\n",
    "doge_price = \"${:,.2f}\".format(doge_response[\"data\"][\"74\"][\"quotes\"][\"USD\"][\"price\"])\n",
    "dot_price = \"${:,.2f}\".format(dot_response[\"data\"][\"11517\"][\"quotes\"][\"USD\"][\"price\"])\n",
    "uni_price = \"${:,.2f}\".format(uni_response[\"data\"][\"11968\"][\"quotes\"][\"USD\"][\"price\"])"
   ]
  },
  {
   "cell_type": "code",
   "execution_count": null,
   "id": "f9bc7d50-46cb-46c2-b869-a888790f7725",
   "metadata": {},
   "outputs": [],
   "source": [
    "print(btc_price)"
   ]
  },
  {
   "cell_type": "code",
   "execution_count": null,
   "id": "b7d63ec5-4a94-4592-83b5-ef0742e6cc04",
   "metadata": {},
   "outputs": [],
   "source": [
    "# 24hr Volume\n",
    "btc_vol = f\"$ \"\"{:,}\".format(btc_response[\"data\"][\"1\"][\"quotes\"][\"USD\"][\"volume_24h\"])\n",
    "eth_vol = f\"$ \"\"{:,}\".format(eth_response[\"data\"][\"1027\"][\"quotes\"][\"USD\"][\"volume_24h\"])\n",
    "usdt_vol = f\"$ \"\"{:,}\".format(usdt_response[\"data\"][\"825\"][\"quotes\"][\"USD\"][\"volume_24h\"])\n",
    "bnb_vol = f\"$ \"\"{:,}\".format(bnb_response[\"data\"][\"1839\"][\"quotes\"][\"USD\"][\"volume_24h\"])\n",
    "ada_vol = f\"$ \"\"{:,}\".format(ada_response[\"data\"][\"2010\"][\"quotes\"][\"USD\"][\"volume_24h\"])\n",
    "xrp_vol = f\"$ \"\"{:,}\".format(xrp_response[\"data\"][\"52\"][\"quotes\"][\"USD\"][\"volume_24h\"])\n",
    "sol_vol = f\"$ \"\"{:,}\".format(sol_response[\"data\"][\"11733\"][\"quotes\"][\"USD\"][\"volume_24h\"])\n",
    "doge_vol = f\"$ \"\"{:,}\".format(doge_response[\"data\"][\"74\"][\"quotes\"][\"USD\"][\"volume_24h\"])\n",
    "dot_vol = f\"$ \"\"{:,}\".format(dot_response[\"data\"][\"11517\"][\"quotes\"][\"USD\"][\"volume_24h\"])\n",
    "uni_vol = f\"$ \"\"{:,}\".format(uni_response[\"data\"][\"11968\"][\"quotes\"][\"USD\"][\"volume_24h\"])"
   ]
  },
  {
   "cell_type": "code",
   "execution_count": null,
   "id": "1e28c47b-e744-4983-bcea-5ae98a4bb44c",
   "metadata": {},
   "outputs": [],
   "source": [
    "# Market Cap\n",
    "btc_cap = f\"$ \"\"{:,}\".format(btc_response[\"data\"][\"1\"][\"quotes\"][\"USD\"][\"market_cap\"])\n",
    "eth_cap = f\"$ \"\"{:,}\".format(eth_response[\"data\"][\"1027\"][\"quotes\"][\"USD\"][\"market_cap\"])\n",
    "usdt_cap = f\"$ \"\"{:,}\".format(usdt_response[\"data\"][\"825\"][\"quotes\"][\"USD\"][\"market_cap\"])\n",
    "bnb_cap = f\"$ \"\"{:,}\".format(bnb_response[\"data\"][\"1839\"][\"quotes\"][\"USD\"][\"market_cap\"])\n",
    "ada_cap = f\"$ \"\"{:,}\".format(ada_response[\"data\"][\"2010\"][\"quotes\"][\"USD\"][\"market_cap\"])\n",
    "xrp_cap = f\"$ \"\"{:,}\".format(xrp_response[\"data\"][\"52\"][\"quotes\"][\"USD\"][\"market_cap\"])\n",
    "sol_cap = f\"$ \"\"{:,}\".format(sol_response[\"data\"][\"11733\"][\"quotes\"][\"USD\"][\"market_cap\"])\n",
    "doge_cap =f\"$ \" \"{:,}\".format(doge_response[\"data\"][\"74\"][\"quotes\"][\"USD\"][\"market_cap\"])\n",
    "dot_cap = f\"$ \"\"{:,}\".format(dot_response[\"data\"][\"11517\"][\"quotes\"][\"USD\"][\"market_cap\"])\n",
    "uni_cap = f\"$ \"\"{:,}\".format(uni_response[\"data\"][\"11968\"][\"quotes\"][\"USD\"][\"market_cap\"])"
   ]
  },
  {
   "cell_type": "code",
   "execution_count": null,
   "id": "aac0cc4a-d92d-413b-ae0d-8ef40a40f726",
   "metadata": {},
   "outputs": [],
   "source": [
    "# percent_change_1h\n",
    "btc_1hr = \"{:.2%}\".format((btc_response[\"data\"][\"1\"][\"quotes\"][\"USD\"][\"percentage_change_1h\"] / 100))\n",
    "eth_1hr = \"{:.2%}\".format((eth_response[\"data\"][\"1027\"][\"quotes\"][\"USD\"][\"percentage_change_1h\"] / 100))\n",
    "usdt_1hr = \"{:.2%}\".format((usdt_response[\"data\"][\"825\"][\"quotes\"][\"USD\"][\"percentage_change_1h\"] / 100))\n",
    "bnb_1hr = \"{:.2%}\".format((bnb_response[\"data\"][\"1839\"][\"quotes\"][\"USD\"][\"percentage_change_1h\"] / 100))\n",
    "ada_1hr = \"{:.2%}\".format((ada_response[\"data\"][\"2010\"][\"quotes\"][\"USD\"][\"percentage_change_1h\"] / 100))\n",
    "xrp_1hr = \"{:.2%}\".format((xrp_response[\"data\"][\"52\"][\"quotes\"][\"USD\"][\"percentage_change_1h\"] / 100))\n",
    "ada_1hr = \"{:.2%}\".format((ada_response[\"data\"][\"2010\"][\"quotes\"][\"USD\"][\"percentage_change_1h\"] / 100))\n",
    "sol_1hr = \"{:.2%}\".format((sol_response[\"data\"][\"11733\"][\"quotes\"][\"USD\"][\"percentage_change_1h\"] / 100))\n",
    "doge_1hr = \"{:.2%}\".format((doge_response[\"data\"][\"74\"][\"quotes\"][\"USD\"][\"percentage_change_1h\"] / 100))\n",
    "dot_1hr = \"{:.2%}\".format((dot_response[\"data\"][\"11517\"][\"quotes\"][\"USD\"][\"percentage_change_1h\"] / 100))\n",
    "uni_1hr = \"{:.2%}\".format((uni_response[\"data\"][\"11968\"][\"quotes\"][\"USD\"][\"percentage_change_1h\"] / 100))"
   ]
  },
  {
   "cell_type": "code",
   "execution_count": null,
   "id": "ac3f42b0-05a9-45e5-8a29-7129ff53e1e4",
   "metadata": {},
   "outputs": [],
   "source": [
    "# percent_change_24h\n",
    "btc_24hr = \"{:.2%}\".format((btc_response[\"data\"][\"1\"][\"quotes\"][\"USD\"][\"percentage_change_24h\"] / 100))\n",
    "eth_24hr = \"{:.2%}\".format((eth_response[\"data\"][\"1027\"][\"quotes\"][\"USD\"][\"percentage_change_24h\"] / 100))\n",
    "usdt_24hr = \"{:.2%}\".format((usdt_response[\"data\"][\"825\"][\"quotes\"][\"USD\"][\"percentage_change_24h\"] / 100))\n",
    "bnb_24hr = \"{:.2%}\".format((bnb_response[\"data\"][\"1839\"][\"quotes\"][\"USD\"][\"percentage_change_24h\"] / 100))\n",
    "ada_24hr = \"{:.2%}\".format((ada_response[\"data\"][\"2010\"][\"quotes\"][\"USD\"][\"percentage_change_24h\"] / 100))\n",
    "xrp_24hr = \"{:.2%}\".format((xrp_response[\"data\"][\"52\"][\"quotes\"][\"USD\"][\"percentage_change_24h\"] / 100))\n",
    "sol_24hr = \"{:.2%}\".format((sol_response[\"data\"][\"11733\"][\"quotes\"][\"USD\"][\"percentage_change_24h\"] / 100))\n",
    "doge_24hr= \"{:.2%}\".format((doge_response[\"data\"][\"74\"][\"quotes\"][\"USD\"][\"percentage_change_24h\"] / 100))\n",
    "dot_24hr = \"{:.2%}\".format((dot_response[\"data\"][\"11517\"][\"quotes\"][\"USD\"][\"percentage_change_24h\"] / 100))\n",
    "uni_24hr = \"{:.2%}\".format((uni_response[\"data\"][\"11968\"][\"quotes\"][\"USD\"][\"percentage_change_24h\"] / 100))"
   ]
  },
  {
   "cell_type": "code",
   "execution_count": null,
   "id": "863f0ad9-0873-4516-a21e-821d698be5b1",
   "metadata": {},
   "outputs": [],
   "source": [
    "# percent_change_7d\n",
    "btc_7d =  \"{:.2%}\".format((btc_response[\"data\"][\"1\"][\"quotes\"][\"USD\"][\"percentage_change_7d\"] / 100))\n",
    "eth_7d =  \"{:.2%}\".format((eth_response[\"data\"][\"1027\"][\"quotes\"][\"USD\"][\"percentage_change_7d\"] / 100))\n",
    "usdt_7d =  \"{:.2%}\".format((usdt_response[\"data\"][\"825\"][\"quotes\"][\"USD\"][\"percentage_change_7d\"] / 100))\n",
    "bnb_7d =  \"{:.2%}\".format((bnb_response[\"data\"][\"1839\"][\"quotes\"][\"USD\"][\"percentage_change_7d\"] / 100))\n",
    "ada_7d = \"{:.2%}\".format((ada_response[\"data\"][\"2010\"][\"quotes\"][\"USD\"][\"percentage_change_7d\"] / 100))\n",
    "xrp_7d = \"{:.2%}\".format((xrp_response[\"data\"][\"52\"][\"quotes\"][\"USD\"][\"percentage_change_7d\"] / 100))\n",
    "sol_7d = \"{:.2%}\".format((sol_response[\"data\"][\"11733\"][\"quotes\"][\"USD\"][\"percentage_change_7d\"] / 100))\n",
    "doge_7d = \"{:.2%}\".format((doge_response[\"data\"][\"74\"][\"quotes\"][\"USD\"][\"percentage_change_7d\"] / 100))\n",
    "dot_7d = \"{:.2%}\".format((dot_response[\"data\"][\"11517\"][\"quotes\"][\"USD\"][\"percentage_change_7d\"] / 100))\n",
    "uni_7d =  \"{:.2%}\".format((uni_response[\"data\"][\"11968\"][\"quotes\"][\"USD\"][\"percentage_change_7d\"] / 100))"
   ]
  },
  {
   "cell_type": "code",
   "execution_count": null,
   "id": "94a41d43-0c7d-4844-a7e9-75f0c3d49715",
   "metadata": {},
   "outputs": [],
   "source": [
    "stocks_dataframe = pd.DataFrame({'Coins': [btc_name,eth_name,usdt_name,bnb_name,ada_name,xrp_name,sol_name,doge_name,dot_name,uni_name], 'Symbol': [btc_symbol,eth_symbol,usdt_symbol,bnb_symbol,ada_symbol,xrp_symbol,sol_symbol,doge_symbol,dot_symbol,uni_symbol],'Category': [btc_cat,eth_cat,usdt_cat,bnb_cat,ada_cat,xrp_cat,sol_cat,doge_cat,dot_cat,uni_cat], 'Price': [btc_price,eth_price,usdt_price,bnb_price,ada_price,xrp_price,sol_price,doge_price,dot_price,uni_price],'24Hr Volume': [btc_vol,eth_vol,usdt_vol,bnb_vol,ada_vol,xrp_vol,sol_vol,doge_vol,dot_vol,uni_vol], 'Market Caplization':[btc_cap,eth_cap,usdt_cap,bnb_cap,ada_cap,xrp_cap,sol_cap,doge_cap,dot_cap,uni_cap],'1hr % Change': [btc_1hr,eth_1hr,usdt_1hr,bnb_1hr,ada_1hr,xrp_1hr,sol_1hr,dot_1hr,doge_1hr,uni_1hr], '24hrs %Change': [btc_24hr,eth_24hr,usdt_24hr,bnb_24hr,ada_24hr,xrp_24hr,sol_24hr,doge_24hr,dot_24hr,uni_24hr],'7days %Change': [btc_7d,eth_7d,usdt_7d,bnb_7d,ada_7d,xrp_7d,sol_7d,doge_7d,dot_7d,uni_7d], 'Sharpe Ratio': [btc_name, 77, 3,4,5,6,7,8,9,0],'Variance': [btc_name, 77, 3,4,5,6,7,8,9,0] })\n",
    "stocks_dataframe.to_sql('Crypto', engine)\n",
    "engine.table_names()"
   ]
  },
  {
   "cell_type": "code",
   "execution_count": null,
   "id": "b8399b4e-2475-4e27-8b72-eaa21b99b490",
   "metadata": {},
   "outputs": [],
   "source": [
    "query = \"\"\"\n",
    "SELECT \"Coins\" FROM Crypto;\n",
    "\"\"\"\n",
    "results = engine.execute(query)\n",
    "list(results)"
   ]
  },
  {
   "cell_type": "code",
   "execution_count": null,
   "id": "babe5336-562c-4957-b05b-c8f72966664d",
   "metadata": {},
   "outputs": [],
   "source": [
    "stocks_dataframe"
   ]
  }
 ],
 "metadata": {
  "kernelspec": {
   "display_name": "Python 3 (ipykernel)",
   "language": "python",
   "name": "python3"
  },
  "language_info": {
   "codemirror_mode": {
    "name": "ipython",
    "version": 3
   },
   "file_extension": ".py",
   "mimetype": "text/x-python",
   "name": "python",
   "nbconvert_exporter": "python",
   "pygments_lexer": "ipython3",
   "version": "3.7.13"
  }
 },
 "nbformat": 4,
 "nbformat_minor": 5
}
