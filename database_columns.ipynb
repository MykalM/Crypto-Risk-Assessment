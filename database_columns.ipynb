{
 "cells": [
  {
   "cell_type": "code",
   "execution_count": 1,
   "id": "caf253d0-b344-469f-add6-360252788f88",
   "metadata": {},
   "outputs": [],
   "source": [
    "import pandas as pd\n",
    "import numpy as np\n",
    "import sqlalchemy\n",
    "import requests\n",
    "import locale\n",
    "import json"
   ]
  },
  {
   "cell_type": "code",
   "execution_count": 2,
   "id": "8ded8987-7057-4f4e-ae9b-4abbaa050a74",
   "metadata": {},
   "outputs": [],
   "source": [
    "# Create a temporary sqlite database\n",
    "database_connection_string = 'sqlite:///'\n",
    "\n",
    "# Create an engine to interact with the database\n",
    "engine = sqlalchemy.create_engine(database_connection_string)"
   ]
  },
  {
   "cell_type": "code",
   "execution_count": 3,
   "id": "e666322b-f1de-4661-b2e1-625db13ac863",
   "metadata": {},
   "outputs": [],
   "source": [
    "# The Free Crypto API Call endpoint URLs for the held cryptocurrency assets\n",
    "btc_url = \"https://api.alternative.me/v2/ticker/Bitcoin/?convert=USD\"\n",
    "eth_url = \"https://api.alternative.me/v2/ticker/Ethereum/?convert=USD\"\n",
    "usdt_url = \"https://api.alternative.me/v2/ticker/Tether/?convert=USD\"\n",
    "uni_url = \"https://api.alternative.me/v2/ticker/Uniswap/?convert=USD\"\n",
    "bnb_url = \"https://api.alternative.me/v2/ticker/BinanceCoin/?convert=USD\"\n",
    "xrp_url = \"https://api.alternative.me/v2/ticker/Ripple/?convert=USD\"\n",
    "ada_url = \"https://api.alternative.me/v2/ticker/Cardano/?convert=USD\"\n",
    "doge_url = \"https://api.alternative.me/v2/ticker/Dogecoin/?convert=USD\"\n",
    "sol_url = \"https://api.alternative.me/v2/ticker/Solana/?convert=USD\"\n",
    "dot_url = \"https://api.alternative.me/v2/ticker/Polkadot/?convert=USD\""
   ]
  },
  {
   "cell_type": "code",
   "execution_count": 4,
   "id": "8bcdb60d-8b93-4d0d-a8a1-fc6652cbe113",
   "metadata": {},
   "outputs": [],
   "source": [
    "btc_response = requests.get(btc_url).json()\n",
    "eth_response= requests.get(eth_url).json()\n",
    "usdt_response= requests.get(usdt_url).json()\n",
    "uni_response= requests.get(uni_url).json()\n",
    "bnb_response= requests.get(bnb_url).json()\n",
    "xrp_response = requests.get(xrp_url).json()\n",
    "ada_response = requests.get(ada_url).json()\n",
    "doge_response = requests.get(doge_url).json()\n",
    "sol_response = requests.get(sol_url).json()\n",
    "dot_response = requests.get(dot_url).json()"
   ]
  },
  {
   "cell_type": "code",
   "execution_count": 5,
   "id": "434ed8c3-a937-48e5-a9d8-2caa2222a5c5",
   "metadata": {},
   "outputs": [
    {
     "name": "stdout",
     "output_type": "stream",
     "text": [
      "{\n",
      "    \"data\": {\n",
      "        \"1\": {\n",
      "            \"circulating_supply\": 19054862,\n",
      "            \"id\": 1,\n",
      "            \"last_updated\": 1654037982,\n",
      "            \"max_supply\": 21000000,\n",
      "            \"name\": \"Bitcoin\",\n",
      "            \"quotes\": {\n",
      "                \"USD\": {\n",
      "                    \"market_cap\": 606761601085,\n",
      "                    \"percent_change_1h\": 0.330790660433505,\n",
      "                    \"percent_change_24h\": 0.519781051474918,\n",
      "                    \"percent_change_7d\": 9.2412560007374,\n",
      "                    \"percentage_change_1h\": 0.330790660433505,\n",
      "                    \"percentage_change_24h\": 0.519781051474918,\n",
      "                    \"percentage_change_7d\": 9.2412560007374,\n",
      "                    \"price\": 31858.0,\n",
      "                    \"volume_24h\": 30235027587\n",
      "                }\n",
      "            },\n",
      "            \"rank\": 1,\n",
      "            \"symbol\": \"BTC\",\n",
      "            \"total_supply\": 19054862,\n",
      "            \"website_slug\": \"bitcoin\"\n",
      "        }\n",
      "    },\n",
      "    \"metadata\": {\n",
      "        \"error\": null,\n",
      "        \"num_cryptocurrencies\": 3116,\n",
      "        \"timestamp\": 1654037982\n",
      "    }\n",
      "}\n"
     ]
    }
   ],
   "source": [
    "print(json.dumps(btc_response, indent=4, sort_keys=True))\n",
    "#print(json.dumps(eth_response, indent=4, sort_keys=True))\n",
    "#print(json.dumps(usdt_response, indent=4, sort_keys=True))\n",
    "#print(json.dumps(uni_response, indent=4, sort_keys=True))\n",
    "#print(json.dumps(bnb_response, indent=4, sort_keys=True))\n",
    "#print(json.dumps(xrp_response, indent=4, sort_keys=True))\n",
    "#print(json.dumps(ada_response, indent=4, sort_keys=True))\n",
    "#print(json.dumps(doge_response, indent=4, sort_keys=True))\n",
    "#print(json.dumps(sol_response, indent=4, sort_keys=True))\n",
    "#print(json.dumps(dot_response, indent=4, sort_keys=True))"
   ]
  },
  {
   "cell_type": "code",
   "execution_count": 6,
   "id": "8d0ff085-8575-4111-894d-eace7c11b411",
   "metadata": {},
   "outputs": [
    {
     "ename": "KeyError",
     "evalue": "'XXX'",
     "output_type": "error",
     "traceback": [
      "\u001b[1;31m---------------------------------------------------------------------------\u001b[0m",
      "\u001b[1;31mKeyError\u001b[0m                                  Traceback (most recent call last)",
      "\u001b[1;32m~\\AppData\\Local\\Temp\\ipykernel_20172\\594370679.py\u001b[0m in \u001b[0;36m<module>\u001b[1;34m\u001b[0m\n\u001b[0;32m      3\u001b[0m \u001b[0meth_name\u001b[0m \u001b[1;33m=\u001b[0m \u001b[0meth_response\u001b[0m\u001b[1;33m[\u001b[0m\u001b[1;34m\"data\"\u001b[0m\u001b[1;33m]\u001b[0m\u001b[1;33m[\u001b[0m\u001b[1;34m\"1027\"\u001b[0m\u001b[1;33m]\u001b[0m\u001b[1;33m[\u001b[0m\u001b[1;34m\"name\"\u001b[0m\u001b[1;33m]\u001b[0m\u001b[1;33m\u001b[0m\u001b[1;33m\u001b[0m\u001b[0m\n\u001b[0;32m      4\u001b[0m \u001b[0musdt_name\u001b[0m \u001b[1;33m=\u001b[0m \u001b[0musdt_response\u001b[0m\u001b[1;33m[\u001b[0m\u001b[1;34m\"data\"\u001b[0m\u001b[1;33m]\u001b[0m\u001b[1;33m[\u001b[0m\u001b[1;34m\"825\"\u001b[0m\u001b[1;33m]\u001b[0m\u001b[1;33m[\u001b[0m\u001b[1;34m\"name\"\u001b[0m\u001b[1;33m]\u001b[0m\u001b[1;33m\u001b[0m\u001b[1;33m\u001b[0m\u001b[0m\n\u001b[1;32m----> 5\u001b[1;33m \u001b[0musdc_name\u001b[0m \u001b[1;33m=\u001b[0m \u001b[0musdc_response\u001b[0m\u001b[1;33m[\u001b[0m\u001b[1;34m\"data\"\u001b[0m\u001b[1;33m]\u001b[0m\u001b[1;33m[\u001b[0m\u001b[1;34m\"XXX\"\u001b[0m\u001b[1;33m]\u001b[0m\u001b[1;33m[\u001b[0m\u001b[1;34m\"name\"\u001b[0m\u001b[1;33m]\u001b[0m\u001b[1;33m\u001b[0m\u001b[1;33m\u001b[0m\u001b[0m\n\u001b[0m\u001b[0;32m      6\u001b[0m \u001b[0mbnb_name\u001b[0m \u001b[1;33m=\u001b[0m \u001b[0mbnb_response\u001b[0m\u001b[1;33m[\u001b[0m\u001b[1;34m\"data\"\u001b[0m\u001b[1;33m]\u001b[0m\u001b[1;33m[\u001b[0m\u001b[1;34m\"1839\"\u001b[0m\u001b[1;33m]\u001b[0m\u001b[1;33m[\u001b[0m\u001b[1;34m\"name\"\u001b[0m\u001b[1;33m]\u001b[0m\u001b[1;33m\u001b[0m\u001b[1;33m\u001b[0m\u001b[0m\n\u001b[0;32m      7\u001b[0m \u001b[0mxrp_name\u001b[0m \u001b[1;33m=\u001b[0m \u001b[0mxrp_response\u001b[0m\u001b[1;33m[\u001b[0m\u001b[1;34m\"data\"\u001b[0m\u001b[1;33m]\u001b[0m\u001b[1;33m[\u001b[0m\u001b[1;34m\"52\"\u001b[0m\u001b[1;33m]\u001b[0m\u001b[1;33m[\u001b[0m\u001b[1;34m\"name\"\u001b[0m\u001b[1;33m]\u001b[0m\u001b[1;33m\u001b[0m\u001b[1;33m\u001b[0m\u001b[0m\n",
      "\u001b[1;31mKeyError\u001b[0m: 'XXX'"
     ]
    }
   ],
   "source": [
    "# Crypto names\n",
    "btc_name = btc_response[\"data\"][\"1\"][\"name\"]\n",
    "eth_name = eth_response[\"data\"][\"1027\"][\"name\"]\n",
    "usdt_name = usdt_response[\"data\"][\"825\"][\"name\"]\n",
    "uni_name = uni_response[\"data\"][\"11968\"][\"name\"]\n",
    "bnb_name = bnb_response[\"data\"][\"1839\"][\"name\"]\n",
    "xrp_name = xrp_response[\"data\"][\"52\"][\"name\"]\n",
    "ada_name = ada_response[\"data\"][\"2010\"][\"name\"]\n",
    "doge_name = doge_response[\"data\"][\"74\"][\"name\"]\n",
    "sol_name = sol_response[\"data\"][\"11733\"][\"name\"]\n",
    "dot_name = dot_response[\"data\"][\"11517\"][\"name\"]"
   ]
  },
  {
   "cell_type": "code",
   "execution_count": null,
   "id": "456da08b-c5f8-44aa-946a-a7567fc380db",
   "metadata": {},
   "outputs": [],
   "source": [
    "# Crypto Symbol\n",
    "btc_symbol = btc_response[\"data\"][\"1\"][\"symbol\"]\n",
    "eth_symbol = eth_response[\"data\"][\"1027\"][\"symbol\"]\n",
    "usdt_symbol = usdt_response[\"data\"][\"825\"][\"symbol\"]\n",
    "uni_symbol = uni_response[\"data\"][\"11968\"][\"symbol\"]\n",
    "bnb_symbol = bnb_response[\"data\"][\"1839\"][\"symbol\"]\n",
    "xrp_symbol = xrp_response[\"data\"][\"52\"][\"symbol\"]\n",
    "ada_symbol = ada_response[\"data\"][\"2010\"][\"symbol\"]\n",
    "doge_symbol = doge_response[\"data\"][\"74\"][\"symbol\"]\n",
    "sol_symbol = sol_response[\"data\"][\"11733\"][\"symbol\"]\n",
    "dot_symbol = dot_response[\"data\"][\"11517\"][\"symbol\"]"
   ]
  },
  {
   "cell_type": "code",
   "execution_count": null,
   "id": "a1a568af-aa63-4a8a-82ff-30aa2cde0614",
   "metadata": {},
   "outputs": [],
   "source": [
    "# Crypto Category\n",
    "btc_cat = 'BTC'\n",
    "eth_cat = \"altcoin\"\n",
    "usdt_cat = \"stablecoin\"\n",
    "uni_cat = \"altcoin\"\n",
    "bnb_cat = \"stablecoin\"\n",
    "xrp_cat = 'altcoins'\n",
    "ada_cat = 'altcoins'\n",
    "doge_cat = 'meme coin'\n",
    "sol_cat = 'altcoins'\n",
    "dot_cat = 'altcoins'"
   ]
  },
  {
   "cell_type": "code",
   "execution_count": null,
   "id": "aebef41b-f6a3-45f2-becc-5551bb3f6726",
   "metadata": {},
   "outputs": [],
   "source": [
    "# Crypto price\n",
    "btc_price = round(btc_response[\"data\"][\"1\"][\"quotes\"][\"USD\"][\"price\"],2)\n",
    "eth_price = round(eth_response[\"data\"][\"1027\"][\"quotes\"][\"USD\"][\"price\"],2)\n",
    "usdt_price = round(usdt_response[\"data\"][\"825\"][\"quotes\"][\"USD\"][\"price\"],2)\n",
    "uni_price = round(uni_response[\"data\"][\"11968\"][\"quotes\"][\"USD\"][\"price\"],2)\n",
    "bnb_price = round(bnb_response[\"data\"][\"1839\"][\"quotes\"][\"USD\"][\"price\"],2)\n",
    "xrp_price = round(xrp_response[\"data\"][\"52\"][\"quotes\"][\"USD\"][\"price\"],2)\n",
    "ada_price = round(ada_response[\"data\"][\"2010\"][\"quotes\"][\"USD\"][\"price\"],2)\n",
    "doge_price = round(doge_response[\"data\"][\"74\"][\"quotes\"][\"USD\"][\"price\"],2)\n",
    "sol_price = round(sol_response[\"data\"][\"11733\"][\"quotes\"][\"USD\"][\"price\"],2)\n",
    "dot_price = round(dot_response[\"data\"][\"11517\"][\"quotes\"][\"USD\"][\"price\"],2)"
   ]
  },
  {
   "cell_type": "code",
   "execution_count": null,
   "id": "b7d63ec5-4a94-4592-83b5-ef0742e6cc04",
   "metadata": {},
   "outputs": [],
   "source": [
    "# 24hr Volume\n",
    "btc_vol = f\"$ \"\"{:,}\".format(btc_response[\"data\"][\"1\"][\"quotes\"][\"USD\"][\"volume_24h\"])\n",
    "eth_vol = f\"$ \"\"{:,}\".format(eth_response[\"data\"][\"1027\"][\"quotes\"][\"USD\"][\"volume_24h\"])\n",
    "usdt_vol = f\"$ \"\"{:,}\".format(usdt_response[\"data\"][\"825\"][\"quotes\"][\"USD\"][\"volume_24h\"])\n",
    "uni_vol = f\"$ \"\"{:,}\".format(uni_response[\"data\"][\"11968\"][\"quotes\"][\"USD\"][\"volume_24h\"])\n",
    "bnb_vol = f\"$ \"\"{:,}\".format(bnb_response[\"data\"][\"1839\"][\"quotes\"][\"USD\"][\"volume_24h\"])\n",
    "xrp_vol = f\"$ \"\"{:,}\".format(xrp_response[\"data\"][\"52\"][\"quotes\"][\"USD\"][\"volume_24h\"])\n",
    "ada_vol = f\"$ \"\"{:,}\".format(ada_response[\"data\"][\"2010\"][\"quotes\"][\"USD\"][\"volume_24h\"])\n",
    "doge_vol = f\"$ \"\"{:,}\".format(doge_response[\"data\"][\"74\"][\"quotes\"][\"USD\"][\"volume_24h\"])\n",
    "sol_vol = f\"$ \"\"{:,}\".format(sol_response[\"data\"][\"11733\"][\"quotes\"][\"USD\"][\"volume_24h\"])\n",
    "dot_vol = f\"$ \"\"{:,}\".format(dot_response[\"data\"][\"11517\"][\"quotes\"][\"USD\"][\"volume_24h\"])"
   ]
  },
  {
   "cell_type": "code",
   "execution_count": null,
   "id": "1e28c47b-e744-4983-bcea-5ae98a4bb44c",
   "metadata": {},
   "outputs": [],
   "source": [
    "# Market Cap\n",
    "btc_cap = f\"$ \"\"{:,}\".format(btc_response[\"data\"][\"1\"][\"quotes\"][\"USD\"][\"market_cap\"])\n",
    "eth_vol = f\"$ \"\"{:,}\".format(eth_response[\"data\"][\"1027\"][\"quotes\"][\"USD\"][\"market_cap\"])\n",
    "usdt_vol = f\"$ \"\"{:,}\".format(usdt_response[\"data\"][\"825\"][\"quotes\"][\"USD\"][\"market_cap\"])\n",
    "uni_vol = f\"$ \"\"{:,}\".format(uni_response[\"data\"][\"11968\"][\"quotes\"][\"USD\"][\"market_cap\"])\n",
    "bnb_vol = f\"$ \"\"{:,}\".format(bnb_response[\"data\"][\"1839\"][\"quotes\"][\"USD\"][\"market_cap\"])\n",
    "xrp_cap = f\"$ \"\"{:,}\".format(xrp_response[\"data\"][\"52\"][\"quotes\"][\"USD\"][\"market_cap\"])\n",
    "ada_cap = f\"$ \"\"{:,}\".format(ada_response[\"data\"][\"2010\"][\"quotes\"][\"USD\"][\"market_cap\"])\n",
    "doge_cap =f\"$ \" \"{:,}\".format(doge_response[\"data\"][\"74\"][\"quotes\"][\"USD\"][\"market_cap\"])\n",
    "sol_cap = f\"$ \"\"{:,}\".format(sol_response[\"data\"][\"11733\"][\"quotes\"][\"USD\"][\"market_cap\"])\n",
    "dot_cap = f\"$ \"\"{:,}\".format(dot_response[\"data\"][\"11517\"][\"quotes\"][\"USD\"][\"market_cap\"])"
   ]
  },
  {
   "cell_type": "code",
   "execution_count": null,
   "id": "aac0cc4a-d92d-413b-ae0d-8ef40a40f726",
   "metadata": {},
   "outputs": [],
   "source": [
    "# percent_change_1h\n",
    "btc_1hr = \"{:.2%}\".format((btc_response[\"data\"][\"1\"][\"quotes\"][\"USD\"][\"percentage_change_1h\"] / 100))\n",
    "eth_1hr = \"{:.2%}\".format((eth_response[\"data\"][\"1027\"][\"quotes\"][\"USD\"][\"percentage_change_1h\"] / 100))\n",
    "usdt_1hr = \"{:.2%}\".format((usdt_response[\"data\"][\"825\"][\"quotes\"][\"USD\"][\"percentage_change_1h\"] / 100))\n",
    "uni_1hr = \"{:.2%}\".format((uni_response[\"data\"][\"11968\"][\"quotes\"][\"USD\"][\"percentage_change_1h\"] / 100))\n",
    "bnb_1hr = \"{:.2%}\".format((bnb_response[\"data\"][\"1839\"][\"quotes\"][\"USD\"][\"percentage_change_1h\"] / 100))\n",
    "xrp_1hr = \"{:.2%}\".format((xrp_response[\"data\"][\"52\"][\"quotes\"][\"USD\"][\"percentage_change_1h\"] / 100))\n",
    "ada_1hr = \"{:.2%}\".format((ada_response[\"data\"][\"2010\"][\"quotes\"][\"USD\"][\"percentage_change_1h\"] / 100))\n",
    "doge_1hr = \"{:.2%}\".format((doge_response[\"data\"][\"74\"][\"quotes\"][\"USD\"][\"percentage_change_1h\"] / 100))\n",
    "sol_1hr = \"{:.2%}\".format((sol_response[\"data\"][\"11733\"][\"quotes\"][\"USD\"][\"percentage_change_1h\"] / 100))\n",
    "dot_1hr = \"{:.2%}\".format((dot_response[\"data\"][\"11517\"][\"quotes\"][\"USD\"][\"percentage_change_1h\"] / 100))"
   ]
  },
  {
   "cell_type": "code",
   "execution_count": null,
   "id": "ac3f42b0-05a9-45e5-8a29-7129ff53e1e4",
   "metadata": {},
   "outputs": [],
   "source": [
    "# percent_change_24h\n",
    "btc_24hr = \"{:.2%}\".format((btc_response[\"data\"][\"1\"][\"quotes\"][\"USD\"][\"percentage_change_24h\"] / 100))\n",
    "eth_24hr = \"{:.2%}\".format((eth_response[\"data\"][\"1027\"][\"quotes\"][\"USD\"][\"percentage_change_24h\"] / 100))\n",
    "usdt_24hr = \"{:.2%}\".format((usdt_response[\"data\"][\"825\"][\"quotes\"][\"USD\"][\"percentage_change_24h\"] / 100))\n",
    "uni_24hr = \"{:.2%}\".format((uni_response[\"data\"][\"11968\"][\"quotes\"][\"USD\"][\"percentage_change_24h\"] / 100))\n",
    "bnb_24hr = \"{:.2%}\".format((bnb_response[\"data\"][\"1839\"][\"quotes\"][\"USD\"][\"percentage_change_24h\"] / 100))\n",
    "xrp_24hr = \"{:.2%}\".format((xrp_response[\"data\"][\"52\"][\"quotes\"][\"USD\"][\"percentage_change_24h\"] / 100))\n",
    "ada_24hr = \"{:.2%}\".format((ada_response[\"data\"][\"2010\"][\"quotes\"][\"USD\"][\"percentage_change_24h\"] / 100))\n",
    "doge_24hr= \"{:.2%}\".format((doge_response[\"data\"][\"74\"][\"quotes\"][\"USD\"][\"percentage_change_24h\"] / 100))\n",
    "sol_24hr = \"{:.2%}\".format((sol_response[\"data\"][\"11733\"][\"quotes\"][\"USD\"][\"percentage_change_24h\"] / 100))\n",
    "dot_24hr = \"{:.2%}\".format((dot_response[\"data\"][\"11517\"][\"quotes\"][\"USD\"][\"percentage_change_24h\"] / 100))"
   ]
  },
  {
   "cell_type": "code",
   "execution_count": null,
   "id": "863f0ad9-0873-4516-a21e-821d698be5b1",
   "metadata": {},
   "outputs": [],
   "source": [
    "# percent_change_7d\n",
    "btc_7d =  \"{:.2%}\".format((btc_response[\"data\"][\"1\"][\"quotes\"][\"USD\"][\"percentage_change_7d\"] / 100))\n",
    "eth_7d =  \"{:.2%}\".format((eth_response[\"data\"][\"1027\"][\"quotes\"][\"USD\"][\"percentage_change_7d\"] / 100))\n",
    "usdt_7d =  \"{:.2%}\".format((usdt_response[\"data\"][\"825\"][\"quotes\"][\"USD\"][\"percentage_change_7d\"] / 100))\n",
    "uni_7d =  \"{:.2%}\".format((uni_response[\"data\"][\"11968\"][\"quotes\"][\"USD\"][\"percentage_change_7d\"] / 100))\n",
    "bnb_7d =  \"{:.2%}\".format((bnb_response[\"data\"][\"1839\"][\"quotes\"][\"USD\"][\"percentage_change_7d\"] / 100))\n",
    "xrp_7d = \"{:.2%}\".format((xrp_response[\"data\"][\"52\"][\"quotes\"][\"USD\"][\"percentage_change_7d\"] / 100))\n",
    "ada_7d = \"{:.2%}\".format((ada_response[\"data\"][\"2010\"][\"quotes\"][\"USD\"][\"percentage_change_7d\"] / 100))\n",
    "doge_7d = \"{:.2%}\".format((doge_response[\"data\"][\"74\"][\"quotes\"][\"USD\"][\"percentage_change_7d\"] / 100))\n",
    "sol_7d = \"{:.2%}\".format((sol_response[\"data\"][\"11733\"][\"quotes\"][\"USD\"][\"percentage_change_7d\"] / 100))\n",
    "dot_7d = \"{:.2%}\".format((dot_response[\"data\"][\"11517\"][\"quotes\"][\"USD\"][\"percentage_change_7d\"] / 100))"
   ]
  },
  {
   "cell_type": "code",
   "execution_count": null,
   "id": "388e8e87-a591-41e9-8898-e844a50c2df2",
   "metadata": {},
   "outputs": [],
   "source": [
    "#round((btc_7d),2)\n",
    "btc_new_price = \"{:,}\".format(btc_price)"
   ]
  },
  {
   "cell_type": "code",
   "execution_count": null,
   "id": "94a41d43-0c7d-4844-a7e9-75f0c3d49715",
   "metadata": {},
   "outputs": [],
   "source": []
  },
  {
   "cell_type": "code",
   "execution_count": null,
   "id": "b8399b4e-2475-4e27-8b72-eaa21b99b490",
   "metadata": {},
   "outputs": [],
   "source": []
  }
 ],
 "metadata": {
  "kernelspec": {
   "display_name": "Python 3 (ipykernel)",
   "language": "python",
   "name": "python3"
  },
  "language_info": {
   "codemirror_mode": {
    "name": "ipython",
    "version": 3
   },
   "file_extension": ".py",
   "mimetype": "text/x-python",
   "name": "python",
   "nbconvert_exporter": "python",
   "pygments_lexer": "ipython3",
   "version": "3.7.13"
  }
 },
 "nbformat": 4,
 "nbformat_minor": 5
}
