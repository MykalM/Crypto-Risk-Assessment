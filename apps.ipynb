{
 "cells": [
  {
   "cell_type": "code",
   "execution_count": 45,
   "id": "cfccc533-1781-4978-9a09-1d61a730815c",
   "metadata": {},
   "outputs": [],
   "source": [
    "import pandas as pd\n",
    "import requests\n",
    "# Import the required libraries and dependencies\n",
    "import questionary\n",
    "import import_ipynb\n",
    "import os\n",
    "import fire\n",
    "import argparse\n",
    "import click\n",
    "import time\n",
    "import requests\n",
    "import json\n",
    "import locale\n",
    "import urllib.parse\n",
    "import hashlib\n",
    "import hmac\n",
    "import base64\n",
    "#import app\n",
    "import krakenex\n",
    "from time import sleep\n",
    "import krakenex\n",
    "from pykrakenapi import KrakenAPI\n",
    "api = krakenex.API()\n",
    "k = KrakenAPI(api)\n",
    "\n",
    "from pycoingecko import CoinGeckoAPI\n",
    "cg = CoinGeckoAPI()\n",
    "\n",
    "from dotenv import load_dotenv\n",
    "# from MCForecastTools import MCSimulation\n",
    "\n",
    "\n",
    "%matplotlib inline"
   ]
  },
  {
   "cell_type": "code",
   "execution_count": 46,
   "id": "76386809-5b53-4c11-929c-0995ea4fc949",
   "metadata": {},
   "outputs": [
    {
     "data": {
      "text/plain": [
       "True"
      ]
     },
     "execution_count": 46,
     "metadata": {},
     "output_type": "execute_result"
    }
   ],
   "source": [
    "# Load the environment variables from the .env file\n",
    "#by calling the load_dotenv function\n",
    "load_dotenv()"
   ]
  },
  {
   "cell_type": "code",
   "execution_count": 47,
   "id": "b91618ae-d710-478b-a160-4384d50926cc",
   "metadata": {},
   "outputs": [],
   "source": [
    "api_key = os.getenv(\"API_KEY_KRAKEN\")\n",
    "api_sec = os.getenv(\"API_SEC_KRAKEN\")\n",
    "api_url = \"https://api.kraken.com\"\n"
   ]
  },
  {
   "cell_type": "code",
   "execution_count": 48,
   "id": "7171dce1-df21-4238-86e4-135078349c9e",
   "metadata": {},
   "outputs": [
    {
     "name": "stdout",
     "output_type": "stream",
     "text": [
      "51b6FJZPTY1qzkgS6SzK18XZyclYB/FVQ18V0AfvateucQ9a1AADHW1h\n",
      "p1xQNrAoynfMs0gRvFV0NO3pitwdmrUU6G/4KCdt6FtB0Q4B2klxzvJkMAEuGw+CjQs3jfkQdCwsmPSGlLxTtQ==\n"
     ]
    },
    {
     "data": {
      "text/plain": [
       "str"
      ]
     },
     "execution_count": 48,
     "metadata": {},
     "output_type": "execute_result"
    }
   ],
   "source": [
    "# Verify the Key and Secret Key\n",
    "print(os.environ.get('API_KEY_KRAKEN'))\n",
    "print(os.environ.get('API_SEC_KRAKEN'))\n",
    "type(api_key)\n",
    "type(api_sec)\n"
   ]
  },
  {
   "cell_type": "code",
   "execution_count": 49,
   "id": "6e062b2f-8c1a-429a-b95f-417452079ee1",
   "metadata": {},
   "outputs": [],
   "source": [
    "def get_kraken_signature(urlpath, data, secret):\n",
    "\n",
    "    postdata = urllib.parse.urlencode(data)\n",
    "    encoded = (str(data['nonce']) + postdata).encode()\n",
    "    message = urlpath.encode() + hashlib.sha256(encoded).digest()\n",
    "\n",
    "    mac = hmac.new(base64.b64decode(secret), message, hashlib.sha512)\n",
    "    sigdigest = base64.b64encode(mac.digest())\n",
    "    return sigdigest.decode()"
   ]
  },
  {
   "cell_type": "code",
   "execution_count": 50,
   "id": "eee6158f-94a0-435a-885b-d1ff9de2eccf",
   "metadata": {},
   "outputs": [],
   "source": [
    "# Attaches auth headers and returns results of a POST request\n",
    "def kraken_request(uri_path, data, api_key, api_sec):\n",
    "    headers = {}\n",
    "    headers['API-Key'] = api_key\n",
    "    # get_kraken_signature() as defined in the 'Authentication' section\n",
    "    headers['API-Sign'] = get_kraken_signature(uri_path, data, api_sec)             \n",
    "    req = requests.post((api_url + uri_path), headers=headers, data=data)\n",
    "    print(api_url + uri_path)\n",
    "    print(headers['API-Key'])\n",
    "    print(headers['API-Sign'])\n",
    "    return req"
   ]
  },
  {
   "cell_type": "code",
   "execution_count": 51,
   "id": "09bad0fe-2e90-475c-aba6-b79916965104",
   "metadata": {},
   "outputs": [],
   "source": [
    "supported_currencies = requests.get('https://api.coingecko.com/api/v3/simple/supported_vs_currencies').json()\n",
    "#Asset_Info\n",
    "#print(json.dumps(supported_currencies, indent=4, sort_keys=True))\n",
    "\n"
   ]
  },
  {
   "cell_type": "code",
   "execution_count": 52,
   "id": "d05111f6-3a1c-4410-ac63-8f120756c4f7",
   "metadata": {},
   "outputs": [
    {
     "data": {
      "text/html": [
       "<div>\n",
       "<style scoped>\n",
       "    .dataframe tbody tr th:only-of-type {\n",
       "        vertical-align: middle;\n",
       "    }\n",
       "\n",
       "    .dataframe tbody tr th {\n",
       "        vertical-align: top;\n",
       "    }\n",
       "\n",
       "    .dataframe thead th {\n",
       "        text-align: right;\n",
       "    }\n",
       "</style>\n",
       "<table border=\"1\" class=\"dataframe\">\n",
       "  <thead>\n",
       "    <tr style=\"text-align: right;\">\n",
       "      <th></th>\n",
       "      <th>XXBTZUSD</th>\n",
       "    </tr>\n",
       "  </thead>\n",
       "  <tbody>\n",
       "    <tr>\n",
       "      <th>a</th>\n",
       "      <td>[30689.10000, 1, 1.000]</td>\n",
       "    </tr>\n",
       "    <tr>\n",
       "      <th>b</th>\n",
       "      <td>[30687.80000, 1, 1.000]</td>\n",
       "    </tr>\n",
       "    <tr>\n",
       "      <th>c</th>\n",
       "      <td>[30690.30000, 0.28027290]</td>\n",
       "    </tr>\n",
       "    <tr>\n",
       "      <th>h</th>\n",
       "      <td>[30900.00000, 30900.00000]</td>\n",
       "    </tr>\n",
       "    <tr>\n",
       "      <th>l</th>\n",
       "      <td>[29281.80000, 29062.10000]</td>\n",
       "    </tr>\n",
       "    <tr>\n",
       "      <th>o</th>\n",
       "      <td>29450.50000</td>\n",
       "    </tr>\n",
       "    <tr>\n",
       "      <th>p</th>\n",
       "      <td>[30418.97709, 30307.22909]</td>\n",
       "    </tr>\n",
       "    <tr>\n",
       "      <th>t</th>\n",
       "      <td>[20037, 24056]</td>\n",
       "    </tr>\n",
       "    <tr>\n",
       "      <th>v</th>\n",
       "      <td>[3298.53467615, 3660.15061868]</td>\n",
       "    </tr>\n",
       "  </tbody>\n",
       "</table>\n",
       "</div>"
      ],
      "text/plain": [
       "                         XXBTZUSD\n",
       "a         [30689.10000, 1, 1.000]\n",
       "b         [30687.80000, 1, 1.000]\n",
       "c       [30690.30000, 0.28027290]\n",
       "h      [30900.00000, 30900.00000]\n",
       "l      [29281.80000, 29062.10000]\n",
       "o                     29450.50000\n",
       "p      [30418.97709, 30307.22909]\n",
       "t                  [20037, 24056]\n",
       "v  [3298.53467615, 3660.15061868]"
      ]
     },
     "execution_count": 52,
     "metadata": {},
     "output_type": "execute_result"
    }
   ],
   "source": [
    "ticker = k.get_ticker_information('BTCUSD')\n",
    "ticker.T"
   ]
  },
  {
   "cell_type": "code",
   "execution_count": 53,
   "id": "217d6d94-7685-477a-95f8-a22d711d0701",
   "metadata": {},
   "outputs": [
    {
     "data": {
      "text/plain": [
       "{'bitcoin': {'usd': 30719}}"
      ]
     },
     "execution_count": 53,
     "metadata": {},
     "output_type": "execute_result"
    }
   ],
   "source": [
    "cg.get_price(ids='bitcoin', vs_currencies='usd')"
   ]
  },
  {
   "cell_type": "code",
   "execution_count": 54,
   "id": "dfbb3a68-0ad5-4f96-9ed4-1a1ec1d351b5",
   "metadata": {},
   "outputs": [
    {
     "data": {
      "text/plain": [
       "{'bitcoin': {'usd': 30719},\n",
       " 'ethereum': {'usd': 1927.65},\n",
       " 'litecoin': {'usd': 66.94}}"
      ]
     },
     "execution_count": 54,
     "metadata": {},
     "output_type": "execute_result"
    }
   ],
   "source": [
    "cg.get_price(ids=['bitcoin', 'ethereum','litecoin'], vs_currencies='usd')"
   ]
  },
  {
   "cell_type": "code",
   "execution_count": 67,
   "id": "bfff7524-da8b-4fa3-8fbd-a55d7eca1dc0",
   "metadata": {},
   "outputs": [
    {
     "name": "stdout",
     "output_type": "stream",
     "text": [
      "[\n",
      "    {\n",
      "        \"id\": \"01coin\",\n",
      "        \"name\": \"01coin\",\n",
      "        \"symbol\": \"zoc\"\n",
      "    },\n",
      "    {\n",
      "        \"id\": \"0-5x-long-algorand-token\",\n",
      "        \"name\": \"0.5X Long Algorand\",\n",
      "        \"symbol\": \"algohalf\"\n",
      "    },\n",
      "    {\n",
      "        \"id\": \"0-5x-long-altcoin-index-token\",\n",
      "        \"name\": \"0.5X Long Altcoin Index\",\n",
      "        \"symbol\": \"althalf\"\n",
      "    },\n",
      "    {\n",
      "        \"id\": \"0-5x-long-ascendex-token-token\",\n",
      "        \"name\": \"0.5X Long AscendEx\",\n",
      "        \"symbol\": \"asdhalf\"\n",
      "    },\n",
      "    {\n",
      "        \"id\": \"0-5x-long-bitcoin-cash-token\",\n",
      "        \"name\": \"0.5X Long Bitcoin Cash\",\n",
      "        \"symbol\": \"bchhalf\"\n",
      "    },\n",
      "    {\n",
      "        \"id\": \"0-5x-long-bitcoin-token\",\n",
      "        \"name\": \"0.5X Long Bitcoin\",\n",
      "        \"symbol\": \"half\"\n",
      "    },\n",
      "    {\n",
      "        \"id\": \"0-5x-long-cardano-token\",\n",
      "        \"name\": \"0.5X Long Cardano\",\n",
      "        \"symbol\": \"adahalf\"\n",
      "    },\n",
      "    {\n",
      "        \"id\": \"0-5x-long-chainlink-token\",\n",
      "        \"name\": \"0.5X Long Chainlink\",\n",
      "        \"symbol\": \"linkhalf\"\n",
      "    },\n",
      "    {\n",
      "        \"id\": \"0-5x-long-cosmos-token\",\n",
      "        \"name\": \"0.5X Long Cosmos\",\n",
      "        \"symbol\": \"atomhalf\"\n",
      "    },\n",
      "    {\n",
      "        \"id\": \"0-5x-long-dogecoin-token\",\n",
      "        \"name\": \"0.5X Long Dogecoin\",\n",
      "        \"symbol\": \"dogehalf\"\n",
      "    }\n",
      "]\n"
     ]
    },
    {
     "data": {
      "text/plain": [
       "pykrakenapi.pykrakenapi.KrakenAPI"
      ]
     },
     "execution_count": 67,
     "metadata": {},
     "output_type": "execute_result"
    }
   ],
   "source": [
    "Coins_list = cg.get_coins_list()[0:10]\n",
    "print(json.dumps(Coins_list, indent=4, sort_keys=True))\n",
    "\n",
    "type(k)"
   ]
  },
  {
   "cell_type": "code",
   "execution_count": 56,
   "id": "93ab2034-d1d2-4892-b7fa-4d52add7ef34",
   "metadata": {},
   "outputs": [
    {
     "name": "stdout",
     "output_type": "stream",
     "text": [
      "API-Sign: Z0qFs0BeSK/35eX+y6Ez2/eZU/dZrcMYCYOmBwR2diikw7/nM7H6x/dNaVyQoH1mNf3z0unmBs0opk0AsUjWRg==\n"
     ]
    }
   ],
   "source": [
    "data = {\n",
    "    \"nonce\": \"1616492376594\", \n",
    "    \"ordertype\": \"limit\", \n",
    "    \"pair\": \"XBTUSD\",\n",
    "    \"price\": 37500, \n",
    "    \"type\": \"buy\",\n",
    "    \"volume\": 1.25\n",
    "}\n",
    "\n",
    "signature = get_kraken_signature(\"/0/private/AddOrder\", data, api_sec)\n",
    "print(\"API-Sign: {}\".format(signature))"
   ]
  },
  {
   "cell_type": "code",
   "execution_count": 57,
   "id": "9d5e427d-f28b-45d5-93b1-ee868e95af90",
   "metadata": {},
   "outputs": [
    {
     "name": "stdout",
     "output_type": "stream",
     "text": [
      "{\n",
      "    \"error\": [],\n",
      "    \"result\": {\n",
      "        \"rfc1123\": \"Mon, 30 May 22 18:12:50 +0000\",\n",
      "        \"unixtime\": 1653934370\n",
      "    }\n",
      "}\n"
     ]
    }
   ],
   "source": [
    "Get_Kraken_time = requests.get('https://api.kraken.com/0/public/Time')\n",
    "Kraken_time = Get_Kraken_time.json()\n",
    "print(json.dumps(Kraken_time, indent=4, sort_keys=True))\n",
    "\n"
   ]
  },
  {
   "cell_type": "code",
   "execution_count": 58,
   "id": "31b5d262-d90b-4c5a-9ffa-32a8f8e8e843",
   "metadata": {},
   "outputs": [
    {
     "name": "stdout",
     "output_type": "stream",
     "text": [
      "{\n",
      "    \"error\": [],\n",
      "    \"result\": {\n",
      "        \"status\": \"online\",\n",
      "        \"timestamp\": \"2022-05-30T18:12:51Z\"\n",
      "    }\n",
      "}\n"
     ]
    }
   ],
   "source": [
    "Get_Online_Offline = requests.get('https://api.kraken.com/0/public/SystemStatus')\n",
    "Online_Offline = Get_Online_Offline .json()\n",
    "print(json.dumps(Online_Offline, indent=4, sort_keys=True))"
   ]
  },
  {
   "cell_type": "code",
   "execution_count": 59,
   "id": "96726b5d-7cb9-439b-b7ad-0daaf5d7bfac",
   "metadata": {},
   "outputs": [
    {
     "name": "stdout",
     "output_type": "stream",
     "text": [
      "https://api.kraken.com/0/private/AddOrder\n",
      "51b6FJZPTY1qzkgS6SzK18XZyclYB/FVQ18V0AfvateucQ9a1AADHW1h\n",
      "74nsU/gGVY3hRMH0d9s83hfFFPbBiuiet4tWEljzzLP13Hc7mZzlnqo9e01+kO7GnxKVJ50ZUhUal6lU00vR2w==\n",
      "{'error': ['EGeneral:Internal error']}\n"
     ]
    }
   ],
   "source": [
    "# Construct the request and print the result\n",
    "resp1 = kraken_request('/0/private/AddOrder', {\n",
    "    \"nonce\": str(int(1000*time.time())),\n",
    "    \"ordertype\": \"limit\",\n",
    "    \"type\": \"buy\",\n",
    "    \"volume\": 1.25,\n",
    "    \"pair\": \"XBTUSD\",\n",
    "    \"price\": 27500\n",
    "}, api_key, api_sec)\n",
    "\n",
    "\n",
    "\n",
    "print(resp1.json())"
   ]
  },
  {
   "cell_type": "code",
   "execution_count": 60,
   "id": "96e6a1db-6f41-4798-8b65-3a3b98c95243",
   "metadata": {},
   "outputs": [
    {
     "name": "stdout",
     "output_type": "stream",
     "text": [
      "https://api.kraken.com/0/private/TradeBalance\n",
      "51b6FJZPTY1qzkgS6SzK18XZyclYB/FVQ18V0AfvateucQ9a1AADHW1h\n",
      "hk+LR+MoEf+nv/fCre1XYrCme6IuwTcYu23XdlC8IZWk58/7h5iBSrsnpNCy3/n19S3zeEnHC3/PZeCy3f638Q==\n",
      "{\n",
      "    \"error\": [],\n",
      "    \"result\": {\n",
      "        \"c\": \"0.0000\",\n",
      "        \"e\": \"0.0000\",\n",
      "        \"eb\": \"0.0000\",\n",
      "        \"m\": \"0.0000\",\n",
      "        \"mf\": \"0.0000\",\n",
      "        \"n\": \"0.0000\",\n",
      "        \"tb\": \"0.0000\",\n",
      "        \"v\": \"0.0000\"\n",
      "    }\n",
      "}\n"
     ]
    }
   ],
   "source": [
    "## Get Trade Balance\n",
    "# Construct the request and print the result\n",
    "\n",
    "Get_trade_balances = kraken_request('/0/private/TradeBalance', {\n",
    "    \"nonce\": str(int(1000*time.time())),\n",
    "    \"asset\": \"USD\"\n",
    "}, api_key, api_sec)\n",
    "\n",
    "Get_trade_balances = Get_trade_balances.json()\n",
    "print(json.dumps(Get_trade_balances, indent=4, sort_keys=True))"
   ]
  },
  {
   "cell_type": "code",
   "execution_count": 61,
   "id": "cce24035-f15d-4460-b847-6097f714383c",
   "metadata": {},
   "outputs": [
    {
     "name": "stdout",
     "output_type": "stream",
     "text": [
      "https://api.kraken.com/0/private/AddOrder\n",
      "51b6FJZPTY1qzkgS6SzK18XZyclYB/FVQ18V0AfvateucQ9a1AADHW1h\n",
      "oI7hgUNYNC5ryAw5VeZhNkCLjP8scmdVI/4+9PJDkaFGnKrEAW1HZdJxuzQqJWTUjRkagnkdB1T5OMviqUyxvg==\n"
     ]
    },
    {
     "data": {
      "text/plain": [
       "{'nonce': '1616492376594',\n",
       " 'ordertype': 'limit',\n",
       " 'pair': 'XBTUSD',\n",
       " 'price': 37500,\n",
       " 'type': 'buy',\n",
       " 'volume': 1.25}"
      ]
     },
     "metadata": {},
     "output_type": "display_data"
    },
    {
     "data": {
      "text/plain": [
       "'51b6FJZPTY1qzkgS6SzK18XZyclYB/FVQ18V0AfvateucQ9a1AADHW1h'"
      ]
     },
     "metadata": {},
     "output_type": "display_data"
    },
    {
     "data": {
      "text/plain": [
       "'p1xQNrAoynfMs0gRvFV0NO3pitwdmrUU6G/4KCdt6FtB0Q4B2klxzvJkMAEuGw+CjQs3jfkQdCwsmPSGlLxTtQ=='"
      ]
     },
     "metadata": {},
     "output_type": "display_data"
    },
    {
     "name": "stdout",
     "output_type": "stream",
     "text": [
      "{\n",
      "    \"error\": [\n",
      "        \"EGeneral:Internal error\"\n",
      "    ]\n",
      "}\n"
     ]
    }
   ],
   "source": [
    "# Attaches auth headers and returns results of a POST request\n",
    "\n",
    "# Construct the request and print the result\n",
    "Kraken_Add_Order = kraken_request('/0/private/AddOrder', {\n",
    "    \"nonce\": str(int(1000*time.time())),\n",
    "    \"ordertype\": \"limit\",\n",
    "    \"type\": \"buy\",\n",
    "    \"volume\": 1.25,\n",
    "    \"pair\": \"XBTUSD\",\n",
    "    \"price\": 27500\n",
    "}, api_key, api_sec)\n",
    "\n",
    "\n",
    "display(data)\n",
    "display(api_key)\n",
    "display(api_sec)\n",
    "\n",
    "Kraken_Add_Orders  = Kraken_Add_Order.json()\n",
    "print(json.dumps(Kraken_Add_Orders, indent=4, sort_keys=True))"
   ]
  },
  {
   "cell_type": "code",
   "execution_count": 62,
   "id": "800e7e4c-0716-4f6c-a12e-1a41f7fc80ea",
   "metadata": {},
   "outputs": [
    {
     "name": "stdout",
     "output_type": "stream",
     "text": [
      "https://api.kraken.com/0/private/AddOrder\n",
      "51b6FJZPTY1qzkgS6SzK18XZyclYB/FVQ18V0AfvateucQ9a1AADHW1h\n",
      "dZ5S9DxnRY1CEDbMmJvGYrK7UQBz0ZqZiulXBXiAOwAQcT0Siq1MVEuY3zUQ0P/8pjLbya5GTidRPhG4xNTZ9w==\n",
      "{'error': ['EGeneral:Internal error']}\n"
     ]
    }
   ],
   "source": [
    "# Construct the request and print the result\n",
    "AddOrder = kraken_request('/0/private/AddOrder', {\n",
    "    \"nonce\": str(int(1000*time.time())),\n",
    "    \"ordertype\": \"limit\",\n",
    "    \"type\": \"buy\",\n",
    "    \"volume\": 1.25,\n",
    "    \"pair\": \"XBTUSD\",\n",
    "    \"price\": 27500\n",
    "}, api_key, api_sec)\n",
    "\n",
    "print(AddOrder.json())"
   ]
  },
  {
   "cell_type": "code",
   "execution_count": 63,
   "id": "c131dbff-b2b5-4178-96e6-e2ea75edeb1d",
   "metadata": {},
   "outputs": [
    {
     "name": "stdout",
     "output_type": "stream",
     "text": [
      "https://api.kraken.com/0/private/Balance\n",
      "51b6FJZPTY1qzkgS6SzK18XZyclYB/FVQ18V0AfvateucQ9a1AADHW1h\n",
      "TbSoA1ccNHF/ZMesa1ADN00QWVBacWHfDuJK3fPSvwR5gAuqlVBary8c14tYJuq+Nita4UTwBSd3qlBo6jAVSw==\n",
      "{\n",
      "    \"error\": [],\n",
      "    \"result\": {}\n",
      "}\n"
     ]
    }
   ],
   "source": [
    "## Get Account Balance\n",
    "\n",
    "# Construct the request and print the result\n",
    "Get_Account_Balance = kraken_request('/0/private/Balance', {\n",
    "    \"nonce\": str(int(1000*time.time()))\n",
    "}, api_key, api_sec)\n",
    "\n",
    "Account_Balance = Get_Account_Balance.json()\n",
    "print(json.dumps(Account_Balance, indent=4, sort_keys=True)) \n"
   ]
  },
  {
   "cell_type": "code",
   "execution_count": 64,
   "id": "16efd7ae-8be4-4b4d-b409-2e9413ff0bc2",
   "metadata": {},
   "outputs": [],
   "source": [
    "# The Free Crypto API Call endpoint URLs for the held cryptocurrency assets\n",
    "btc_url = \"https://api.alternative.me/v2/ticker/Bitcoin/?convert=USD\"\n",
    "eth_url = \"https://api.alternative.me/v2/ticker/Ethereum/?convert=USD\""
   ]
  },
  {
   "cell_type": "code",
   "execution_count": null,
   "id": "e3cf6141-f6d1-4875-b045-d86d617fe3b7",
   "metadata": {},
   "outputs": [],
   "source": []
  },
  {
   "cell_type": "code",
   "execution_count": 65,
   "id": "3f606877-95c5-4566-84f8-d40e6b575fa7",
   "metadata": {},
   "outputs": [
    {
     "name": "stdout",
     "output_type": "stream",
     "text": [
      "{\n",
      "    \"data\": {\n",
      "        \"1\": {\n",
      "            \"circulating_supply\": 19053787,\n",
      "            \"id\": 1,\n",
      "            \"last_updated\": 1653934167,\n",
      "            \"max_supply\": 21000000,\n",
      "            \"name\": \"Bitcoin\",\n",
      "            \"quotes\": {\n",
      "                \"USD\": {\n",
      "                    \"market_cap\": 585715496587,\n",
      "                    \"percent_change_1h\": 0.189174608634593,\n",
      "                    \"percent_change_24h\": 5.00888930117943,\n",
      "                    \"percent_change_7d\": 1.1955078855983,\n",
      "                    \"percentage_change_1h\": 0.189174608634593,\n",
      "                    \"percentage_change_24h\": 5.00888930117943,\n",
      "                    \"percentage_change_7d\": 1.1955078855983,\n",
      "                    \"price\": 30714.0,\n",
      "                    \"volume_24h\": 26796699551\n",
      "                }\n",
      "            },\n",
      "            \"rank\": 1,\n",
      "            \"symbol\": \"BTC\",\n",
      "            \"total_supply\": 19053787,\n",
      "            \"website_slug\": \"bitcoin\"\n",
      "        }\n",
      "    },\n",
      "    \"metadata\": {\n",
      "        \"error\": null,\n",
      "        \"num_cryptocurrencies\": 3116,\n",
      "        \"timestamp\": 1653934167\n",
      "    }\n",
      "}\n"
     ]
    }
   ],
   "source": [
    "# Using the Python requests library, make an API call to access the current price of BTC\n",
    "btc_response = requests.get(btc_url).json()\n",
    "\n",
    "# Use the json.dumps function to review the response data from the API call\n",
    "# Use the indent and sort_keys parameters to make the response object readable\n",
    "print(json.dumps(btc_response, indent=4, sort_keys=True))"
   ]
  },
  {
   "cell_type": "code",
   "execution_count": 66,
   "id": "192146f9-5469-4859-9ed5-a9cecd6d156c",
   "metadata": {},
   "outputs": [
    {
     "name": "stdout",
     "output_type": "stream",
     "text": [
      "{\n",
      "    \"data\": {\n",
      "        \"1027\": {\n",
      "            \"circulating_supply\": 120984849,\n",
      "            \"id\": 1027,\n",
      "            \"last_updated\": 1653934174,\n",
      "            \"max_supply\": 0,\n",
      "            \"name\": \"Ethereum\",\n",
      "            \"quotes\": {\n",
      "                \"USD\": {\n",
      "                    \"market_cap\": 233339456960,\n",
      "                    \"percent_change_1h\": 0.5356377385171,\n",
      "                    \"percent_change_24h\": 7.00058057105278,\n",
      "                    \"percent_change_7d\": -5.79975540998392,\n",
      "                    \"percentage_change_1h\": 0.5356377385171,\n",
      "                    \"percentage_change_24h\": 7.00058057105278,\n",
      "                    \"percentage_change_7d\": -5.79975540998392,\n",
      "                    \"price\": 1927.95,\n",
      "                    \"volume_24h\": 15370246980\n",
      "                }\n",
      "            },\n",
      "            \"rank\": 2,\n",
      "            \"symbol\": \"ETH\",\n",
      "            \"total_supply\": 120984849,\n",
      "            \"website_slug\": \"ethereum\"\n",
      "        }\n",
      "    },\n",
      "    \"metadata\": {\n",
      "        \"error\": null,\n",
      "        \"num_cryptocurrencies\": 3116,\n",
      "        \"timestamp\": 1653934174\n",
      "    }\n",
      "}\n"
     ]
    }
   ],
   "source": [
    "# Using the Python requests library, make an API call to access the current price ETH\n",
    "eth_response = requests.get(eth_url).json()\n",
    "\n",
    "# Use the json.dumps function to review the response data from the API call\n",
    "# Use the indent and sort_keys parameters to make the response object readable\n",
    "print(json.dumps(eth_response, indent=4, sort_keys=True))"
   ]
  },
  {
   "cell_type": "code",
   "execution_count": null,
   "id": "27940eb4-2de1-463b-a7f2-a944852f5169",
   "metadata": {},
   "outputs": [],
   "source": []
  },
  {
   "cell_type": "code",
   "execution_count": null,
   "id": "ec14589a-f856-459d-b1cc-c4047121b1a1",
   "metadata": {},
   "outputs": [],
   "source": []
  }
 ],
 "metadata": {
  "kernelspec": {
   "display_name": "Python 3 (ipykernel)",
   "language": "python",
   "name": "python3"
  },
  "language_info": {
   "codemirror_mode": {
    "name": "ipython",
    "version": 3
   },
   "file_extension": ".py",
   "mimetype": "text/x-python",
   "name": "python",
   "nbconvert_exporter": "python",
   "pygments_lexer": "ipython3",
   "version": "3.9.7"
  }
 },
 "nbformat": 4,
 "nbformat_minor": 5
}
