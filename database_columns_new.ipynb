{
 "cells": [
  {
   "cell_type": "code",
   "execution_count": 1,
   "id": "caf253d0-b344-469f-add6-360252788f88",
   "metadata": {},
   "outputs": [],
   "source": [
    "import pandas as pd\n",
    "import numpy as np\n",
    "import sqlalchemy\n",
    "import requests\n",
    "import locale\n",
    "import json\n",
    "import numpy as np\n",
    "import datetime as dt\n",
    "import yfinance as yf\n",
    "import matplotlib.pyplot as plt\n",
    "from datetime import date\n",
    "import time\n",
    "import statistics\n",
    "import pandas_datareader.data as pdr"
   ]
  },
  {
   "cell_type": "code",
   "execution_count": 2,
   "id": "8ded8987-7057-4f4e-ae9b-4abbaa050a74",
   "metadata": {},
   "outputs": [],
   "source": [
    "# Create a temporary sqlite database\n",
    "database_connection_string = 'sqlite:///'\n",
    "\n",
    "# Create an engine to interact with the database\n",
    "engine = sqlalchemy.create_engine(database_connection_string)"
   ]
  },
  {
   "cell_type": "code",
   "execution_count": 3,
   "id": "7af42a1b-103b-42a9-916b-2b9848360381",
   "metadata": {},
   "outputs": [],
   "source": [
    "today = date.today()"
   ]
  },
  {
   "cell_type": "code",
   "execution_count": 4,
   "id": "cfb41386-8a49-49f1-88fd-d1005fcf4087",
   "metadata": {},
   "outputs": [],
   "source": [
    "def get_data(tickers, start_date, end_date):\n",
    "        \n",
    "    # download daily price data for each of the stocks in the portfolio\n",
    "    df = pdr.get_data_yahoo(stocks, start=start_date, end = end_date)['Adj Close']\n",
    "    df.sort_index(inplace = True)\n",
    "    \n",
    "    return df"
   ]
  },
  {
   "cell_type": "code",
   "execution_count": 5,
   "id": "db3de4a4-1126-4ee3-ad94-e2850ccb3b12",
   "metadata": {},
   "outputs": [],
   "source": [
    "stocks = ['BTC-USD','ETH-USD','USDT-USD','BNB-USD','ADA-USD','XRP-USD','SOL-USD','DOGE-USD','DOT-USD','UNI-USD','USDC-USD','BUSD-USD','HEX-USD']"
   ]
  },
  {
   "cell_type": "code",
   "execution_count": 6,
   "id": "a03ca83d-2893-4129-b421-b476283dec5b",
   "metadata": {},
   "outputs": [
    {
     "name": "stdout",
     "output_type": "stream",
     "text": [
      "Symbols          BTC-USD      ETH-USD  USDT-USD     BNB-USD   ADA-USD  \\\n",
      "Date                                                                    \n",
      "2022-05-29  29445.957031  1812.031006  0.999178  305.975067  0.481126   \n",
      "2022-05-30  31726.390625  1996.441284  0.999376  321.752899  0.570073   \n",
      "2022-05-31  31792.310547  1942.328003  0.999388  320.485107  0.625254   \n",
      "2022-06-01  29799.080078  1823.569336  0.999260  300.504059  0.552750   \n",
      "2022-06-02  30523.326172  1835.599609  0.999368  307.960846  0.586519   \n",
      "\n",
      "Symbols      XRP-USD    SOL-USD  DOGE-USD  DOT-USD   UNI-USD  USDC-USD  \\\n",
      "Date                                                                     \n",
      "2022-05-29  0.389016  44.909615  0.082686      NaN  0.000147  1.000586   \n",
      "2022-05-30  0.418175  47.179443  0.087871      NaN  0.000159  1.000099   \n",
      "2022-05-31  0.421867  45.767841  0.085865      NaN  0.000159  1.000210   \n",
      "2022-06-01  0.398085  40.269669  0.081056      NaN  0.000149  1.000130   \n",
      "2022-06-02  0.405596  40.950073  0.082909  9.91159  0.000153  1.000168   \n",
      "\n",
      "Symbols     BUSD-USD   HEX-USD  \n",
      "Date                            \n",
      "2022-05-29  1.001082  0.070337  \n",
      "2022-05-30  1.001566  0.083603  \n",
      "2022-05-31  1.000010  0.081287  \n",
      "2022-06-01  1.000759  0.067077  \n",
      "2022-06-02  1.001219  0.069077  \n"
     ]
    }
   ],
   "source": [
    "start_crypto_dates = ('06/01/2021') \n",
    "end_crypto_dates = (today)\n",
    "crypto_prices = get_data(stocks,start_crypto_dates,end_crypto_dates)\n",
    "\n",
    "#print(crypto_prices.head())\n",
    "print(crypto_prices.tail())"
   ]
  },
  {
   "cell_type": "code",
   "execution_count": 7,
   "id": "996c5c32-5e44-495a-a3bb-66529de06562",
   "metadata": {},
   "outputs": [],
   "source": [
    "def get_historical_data(ticker, start_date):\n",
    "    # Pull Historical Data\n",
    "    data = yf.download(ticker, start=start_date)\n",
    "    # Calculate Daily Returns\n",
    "    data['Daily Return'] = data['Adj Close'].pct_change()   \n",
    "    return data.dropna()"
   ]
  },
  {
   "cell_type": "code",
   "execution_count": 8,
   "id": "20ee6c19-0df8-44ab-a5bb-3e42b76fe613",
   "metadata": {},
   "outputs": [],
   "source": [
    "def std_dev(data):\n",
    "    # Get number of observations\n",
    "    n = len(data)\n",
    "    # Calculate mean\n",
    "    mean = sum(data) / n\n",
    "    # Calculate deviations from the mean\n",
    "    deviations = sum([(x - mean)**2 for x in data])\n",
    "    # Calculate Variance & Standard Deviation\n",
    "    variance = deviations / (n - 1)\n",
    "    s = variance**(1/2)\n",
    "    return s"
   ]
  },
  {
   "cell_type": "code",
   "execution_count": 9,
   "id": "346d6d8d-8d2a-4040-a7ac-9a572bfc0e59",
   "metadata": {},
   "outputs": [],
   "source": [
    "# Sharpe Ratio From Scratch\n",
    "def annualize_sharpe_ratio(data, risk_free_rate=0.0):\n",
    "    # Calculate Average Daily Return\n",
    "    mean_daily_return = sum(data) / len(data)\n",
    "    # Calculate Standard Deviation\n",
    "    s = std_dev(data)\n",
    "    # Calculate Daily Sharpe Ratio\n",
    "    daily_sharpe_ratio = (mean_daily_return - risk_free_rate) / s\n",
    "    # Annualize Daily Sharpe Ratio\n",
    "    sharpe_ratio = 252**(1/2) * daily_sharpe_ratio\n",
    "    \n",
    "    return sharpe_ratio"
   ]
  },
  {
   "cell_type": "code",
   "execution_count": 10,
   "id": "a3aafed0-7b52-4f9f-a62d-f42de39340a0",
   "metadata": {},
   "outputs": [],
   "source": [
    "# Sharpe Ratio From Scratch\n",
    "def daily_sharpe_ratio(data, risk_free_rate=0.0):\n",
    "    # Calculate Average Daily Return\n",
    "    mean_daily_return = sum(data) / len(data)\n",
    "    # Calculate Standard Deviation\n",
    "    s = std_dev(data)\n",
    "    # Calculate Daily Sharpe Ratio\n",
    "    daily_sharpe_ratio = (mean_daily_return - risk_free_rate) / s\n",
    "    # Annualize Daily Sharpe Ratio\n",
    "    sharpe_ratio = 252**(1/2) * daily_sharpe_ratio\n",
    "    \n",
    "    return daily_sharpe_ratio"
   ]
  },
  {
   "cell_type": "code",
   "execution_count": 11,
   "id": "6d5f06ae-3295-49f5-8cf9-2b53dd7764e5",
   "metadata": {},
   "outputs": [
    {
     "data": {
      "text/plain": [
       "['BTC-USD',\n",
       " 'ETH-USD',\n",
       " 'USDT-USD',\n",
       " 'BNB-USD',\n",
       " 'ADA-USD',\n",
       " 'XRP-USD',\n",
       " 'SOL-USD',\n",
       " 'DOGE-USD',\n",
       " 'DOT-USD',\n",
       " 'UNI-USD',\n",
       " 'USDC-USD',\n",
       " 'BUSD-USD',\n",
       " 'HEX-USD']"
      ]
     },
     "metadata": {},
     "output_type": "display_data"
    },
    {
     "data": {
      "text/plain": [
       "list"
      ]
     },
     "execution_count": 11,
     "metadata": {},
     "output_type": "execute_result"
    }
   ],
   "source": [
    "display(stocks)\n",
    "type (stocks)\n"
   ]
  },
  {
   "cell_type": "code",
   "execution_count": 47,
   "id": "b7108e5b-5ec4-42fe-9353-7b8f0bba54fc",
   "metadata": {},
   "outputs": [
    {
     "name": "stdout",
     "output_type": "stream",
     "text": [
      "[*********************100%***********************]  1 of 1 completed\n",
      "[*********************100%***********************]  1 of 1 completed\n",
      "[*********************100%***********************]  1 of 1 completed\n"
     ]
    }
   ],
   "source": [
    "btc_sr = get_historical_data('BTC-USD',start_date='2021-01-01')\n",
    "eth_sr = get_historical_data('ETH-USD',start_date='2022-01-01')\n",
    "usdt_sr = get_historical_data('USDT-USD',start_date='2021-06-01')"
   ]
  },
  {
   "cell_type": "code",
   "execution_count": 48,
   "id": "6001cecf-6e92-42cf-8b54-a97daf657cd5",
   "metadata": {},
   "outputs": [
    {
     "data": {
      "text/plain": [
       "0.3439014590710716"
      ]
     },
     "metadata": {},
     "output_type": "display_data"
    },
    {
     "data": {
      "text/plain": [
       "-0.06498152117616063"
      ]
     },
     "execution_count": 48,
     "metadata": {},
     "output_type": "execute_result"
    }
   ],
   "source": [
    "display (annualize_sharpe_ratio(btc_sr['Daily Return']))\n",
    "annualize_sharpe_ratio(usdt_sr['Daily Return'])"
   ]
  },
  {
   "cell_type": "code",
   "execution_count": 14,
   "id": "e4d9030b-7ea9-4e72-9bd7-9bc1d9659806",
   "metadata": {},
   "outputs": [
    {
     "data": {
      "text/plain": [
       "-0.01946057028975582"
      ]
     },
     "execution_count": 14,
     "metadata": {},
     "output_type": "execute_result"
    }
   ],
   "source": [
    "sharpe_ratio_BTC = daily_sharpe_ratio(btc_sr['Daily Return'])\n",
    "sharpe_ratio_ETH = daily_sharpe_ratio(eth_sr['Daily Return'])\n",
    "sharpe_ratio_USDT = daily_sharpe_ratio(usdt_sr['Daily Return'])\n",
    "sharpe_ratio_USDT\n",
    "\n"
   ]
  },
  {
   "cell_type": "code",
   "execution_count": 15,
   "id": "7974251b-476e-4cce-b523-5848d9135d10",
   "metadata": {},
   "outputs": [],
   "source": [
    "# Next, we'll define a function for calculating daily returns for our coins\n",
    "def calc_daily_returns(df):\n",
    "    return (df.pct_change())"
   ]
  },
  {
   "cell_type": "code",
   "execution_count": 16,
   "id": "7fbee527-c17c-47f6-b2cd-a5c53b97b241",
   "metadata": {},
   "outputs": [
    {
     "name": "stdout",
     "output_type": "stream",
     "text": [
      "Symbols      BTC-USD   ETH-USD  USDT-USD   BNB-USD   ADA-USD   XRP-USD  \\\n",
      "Date                                                                     \n",
      "2022-05-29  0.021900  0.030769  0.000176 -0.005979  0.035205  0.006971   \n",
      "2022-05-30  0.077445  0.101770  0.000198  0.051566  0.184873  0.074956   \n",
      "2022-05-31  0.002078 -0.027105  0.000012 -0.003940  0.096796  0.008829   \n",
      "2022-06-01 -0.062695 -0.061142 -0.000128 -0.062346 -0.115959 -0.056373   \n",
      "2022-06-02  0.024304  0.006597  0.000108  0.024814  0.061093  0.018868   \n",
      "\n",
      "Symbols      SOL-USD  DOGE-USD   DOT-USD   UNI-USD  USDC-USD  BUSD-USD  \\\n",
      "Date                                                                     \n",
      "2022-05-29  0.012774  0.010350  0.000000  0.013793  0.000436 -0.000740   \n",
      "2022-05-30  0.050542  0.062707  0.000000  0.081633 -0.000487  0.000484   \n",
      "2022-05-31 -0.029920 -0.022829  0.000000  0.000000  0.000111 -0.001554   \n",
      "2022-06-01 -0.120132 -0.056007  0.000000 -0.062893 -0.000080  0.000749   \n",
      "2022-06-02  0.016896  0.022858 -0.127385  0.024386  0.000038  0.000460   \n",
      "\n",
      "Symbols      HEX-USD  \n",
      "Date                  \n",
      "2022-05-29 -0.135282  \n",
      "2022-05-30  0.188606  \n",
      "2022-05-31 -0.027702  \n",
      "2022-06-01 -0.174813  \n",
      "2022-06-02  0.029819  \n"
     ]
    }
   ],
   "source": [
    "crypto_daily_rets = calc_daily_returns(crypto_prices)\n",
    "print(crypto_daily_rets.tail())"
   ]
  },
  {
   "cell_type": "code",
   "execution_count": 17,
   "id": "fed96ffe-33de-4701-9f17-a453a27c6746",
   "metadata": {},
   "outputs": [
    {
     "data": {
      "text/plain": [
       "Symbols\n",
       "BTC-USD     0.004050\n",
       "ETH-USD    -0.001163\n",
       "USDT-USD   -0.003929\n",
       "BNB-USD     0.011712\n",
       "ADA-USD    -0.029218\n",
       "XRP-USD    -0.024059\n",
       "SOL-USD     0.044075\n",
       "DOGE-USD   -0.042939\n",
       "DOT-USD    -0.012360\n",
       "UNI-USD     0.090640\n",
       "USDC-USD    0.001023\n",
       "BUSD-USD    0.003305\n",
       "HEX-USD     0.046800\n",
       "dtype: float64"
      ]
     },
     "metadata": {},
     "output_type": "display_data"
    },
    {
     "data": {
      "text/plain": [
       "pandas.core.series.Series"
      ]
     },
     "execution_count": 17,
     "metadata": {},
     "output_type": "execute_result"
    }
   ],
   "source": [
    "# Calculating Sharpe Ratio Any Sharpe Ratio above 1.00 generally means the portfolio or stock is acceptable to hold because you are receiving an excess return per unit of risk.\n",
    "Sharpe_Ratio = crypto_daily_rets.mean() / crypto_daily_rets.std()\n",
    "display(Sharpe_Ratio)\n",
    "type(Sharpe_Ratio)"
   ]
  },
  {
   "cell_type": "code",
   "execution_count": 18,
   "id": "46f09340-964b-4cd2-93db-5a1f14a4bc4e",
   "metadata": {},
   "outputs": [
    {
     "data": {
      "text/plain": [
       "[0.004050029723450235,\n",
       " -0.001163074159829727,\n",
       " -0.0039290915809694045,\n",
       " 0.011712084147079591,\n",
       " -0.02921826201686846,\n",
       " -0.02405903419376819,\n",
       " 0.04407513534418283,\n",
       " -0.04293865830022385,\n",
       " -0.012359819675972545,\n",
       " 0.09064001698150156,\n",
       " 0.0010226950242389434,\n",
       " 0.003304545218286936,\n",
       " 0.046800393657985905]"
      ]
     },
     "execution_count": 18,
     "metadata": {},
     "output_type": "execute_result"
    }
   ],
   "source": [
    "# converting to list\n",
    "Crypto_list = Sharpe_Ratio.tolist()\n",
    "Crypto_list"
   ]
  },
  {
   "cell_type": "code",
   "execution_count": 19,
   "id": "63c2a9ab-91c8-42e1-90ed-e61705c0d258",
   "metadata": {},
   "outputs": [
    {
     "name": "stdout",
     "output_type": "stream",
     "text": [
      "           0\n",
      "0   0.004050\n",
      "1  -0.001163\n",
      "2  -0.003929\n",
      "3   0.011712\n",
      "4  -0.029218\n",
      "5  -0.024059\n",
      "6   0.044075\n",
      "7  -0.042939\n",
      "8  -0.012360\n",
      "9   0.090640\n",
      "10  0.001023\n",
      "11  0.003305\n",
      "12  0.046800\n"
     ]
    }
   ],
   "source": [
    "df = pd.DataFrame (Crypto_list)\n",
    "#df.columns = ['product_name', 'price','3','4','5','6','7','8','9','10','11','12','13']\n",
    "print (df)"
   ]
  },
  {
   "cell_type": "code",
   "execution_count": 20,
   "id": "8c1b83dd-ee70-4037-a05f-638dccc76a58",
   "metadata": {},
   "outputs": [
    {
     "data": {
      "text/plain": [
       "Symbols\n",
       "BTC-USD     0.064292\n",
       "ETH-USD    -0.018463\n",
       "USDT-USD   -0.062372\n",
       "BNB-USD     0.185924\n",
       "ADA-USD    -0.463826\n",
       "XRP-USD    -0.381925\n",
       "SOL-USD     0.699671\n",
       "DOGE-USD   -0.681630\n",
       "DOT-USD    -0.196206\n",
       "UNI-USD     1.438866\n",
       "USDC-USD    0.016235\n",
       "BUSD-USD    0.052458\n",
       "HEX-USD     0.742933\n",
       "dtype: float64"
      ]
     },
     "metadata": {},
     "output_type": "display_data"
    }
   ],
   "source": [
    "# Annualized Sharpe Ratio\n",
    "A_Sharpe_Ratio = (252**0.5)*Sharpe_Ratio\n",
    "display(A_Sharpe_Ratio)"
   ]
  },
  {
   "cell_type": "code",
   "execution_count": 21,
   "id": "aa914bb5-9204-42b9-9db5-8b29c18659ed",
   "metadata": {},
   "outputs": [],
   "source": [
    "# Define a function for calculating mean daily returns for our coins\n",
    "def calc_mean_daily_returns(daily_returns):\n",
    "    return (daily_returns.mean(skipna=True, level=None, numeric_only=None))"
   ]
  },
  {
   "cell_type": "code",
   "execution_count": 22,
   "id": "9122aa91-34ca-43a0-96e0-cedc62ea2076",
   "metadata": {},
   "outputs": [
    {
     "name": "stdout",
     "output_type": "stream",
     "text": [
      "Symbols\n",
      "BTC-USD     1.459706e-04\n",
      "ETH-USD    -5.015297e-05\n",
      "USDT-USD   -1.906682e-06\n",
      "BNB-USD     5.081989e-04\n",
      "ADA-USD    -1.553254e-03\n",
      "XRP-USD    -1.214409e-03\n",
      "SOL-USD     2.854305e-03\n",
      "DOGE-USD   -2.438451e-03\n",
      "DOT-USD    -6.896913e-04\n",
      "UNI-USD     3.604403e-02\n",
      "USDC-USD    5.194577e-07\n",
      "BUSD-USD    2.880736e-06\n",
      "HEX-USD     3.778018e-03\n",
      "dtype: float64\n"
     ]
    }
   ],
   "source": [
    "crypto_mean_daily_rets = calc_mean_daily_returns(crypto_daily_rets)\n",
    "print (crypto_mean_daily_rets)\n",
    "\n",
    "#round(crypto_mean)"
   ]
  },
  {
   "cell_type": "code",
   "execution_count": 23,
   "id": "c2cca0eb-cc26-459e-b80c-5d06b0e4ef87",
   "metadata": {},
   "outputs": [],
   "source": [
    "# Define a function for creating covariance matrices\n",
    "def create_covariance_matrix(daily_returns):\n",
    "    return daily_returns.cov()"
   ]
  },
  {
   "cell_type": "code",
   "execution_count": 24,
   "id": "3a36d528-2e54-4a22-b5b9-6b0264b944c1",
   "metadata": {},
   "outputs": [
    {
     "name": "stdout",
     "output_type": "stream",
     "text": [
      "Symbols        BTC-USD       ETH-USD      USDT-USD       BNB-USD   ADA-USD  \\\n",
      "Symbols                                                                      \n",
      "BTC-USD   1.299016e-03  1.321454e-03 -3.025744e-07  1.212562e-03  0.001372   \n",
      "ETH-USD   1.321454e-03  1.859424e-03  3.098494e-07  1.556069e-03  0.001708   \n",
      "USDT-USD -3.025744e-07  3.098494e-07  2.354899e-07  1.403889e-06  0.000001   \n",
      "BNB-USD   1.212562e-03  1.556069e-03  1.403889e-06  1.882778e-03  0.001705   \n",
      "ADA-USD   1.371550e-03  1.708240e-03  1.086029e-06  1.704512e-03  0.002826   \n",
      "XRP-USD   1.321729e-03  1.650229e-03  8.117063e-07  1.652544e-03  0.002036   \n",
      "SOL-USD   1.406933e-03  1.946048e-03  2.344558e-06  1.832019e-03  0.002200   \n",
      "DOGE-USD  1.383311e-03  1.722700e-03  2.357908e-06  1.765299e-03  0.001950   \n",
      "DOT-USD   1.236528e-03  1.597652e-03 -1.053385e-06  1.598972e-03  0.001623   \n",
      "UNI-USD   1.143378e-03  8.969902e-04 -3.608148e-06  1.703180e-03  0.003235   \n",
      "USDC-USD -1.713122e-06 -2.312851e-06  1.069995e-07 -7.234160e-07 -0.000002   \n",
      "BUSD-USD -2.304823e-06 -3.567240e-06  6.980158e-08 -4.461280e-06 -0.000002   \n",
      "HEX-USD   7.319597e-04  8.565743e-04  7.005955e-07  8.102861e-04  0.001198   \n",
      "\n",
      "Symbols        XRP-USD   SOL-USD  DOGE-USD   DOT-USD       UNI-USD  \\\n",
      "Symbols                                                              \n",
      "BTC-USD   1.321729e-03  0.001407  0.001383  0.001237  1.143378e-03   \n",
      "ETH-USD   1.650229e-03  0.001946  0.001723  0.001598  8.969902e-04   \n",
      "USDT-USD  8.117063e-07  0.000002  0.000002 -0.000001 -3.608148e-06   \n",
      "BNB-USD   1.652544e-03  0.001832  0.001765  0.001599  1.703180e-03   \n",
      "ADA-USD   2.036215e-03  0.002200  0.001950  0.001623  3.234619e-03   \n",
      "XRP-USD   2.547848e-03  0.001903  0.002016  0.001690  2.334540e-03   \n",
      "SOL-USD   1.902967e-03  0.004194  0.002050  0.001849  1.886593e-03   \n",
      "DOGE-USD  2.015940e-03  0.002050  0.003225  0.001673  2.176381e-03   \n",
      "DOT-USD   1.690239e-03  0.001849  0.001673  0.003114  9.101597e-04   \n",
      "UNI-USD   2.334540e-03  0.001887  0.002176  0.000910  1.581345e-01   \n",
      "USDC-USD -2.383840e-06 -0.000002 -0.000002 -0.000002 -1.563945e-05   \n",
      "BUSD-USD -4.012449e-06 -0.000003 -0.000006 -0.000004  8.623982e-07   \n",
      "HEX-USD   1.049131e-03  0.001479  0.001043  0.000506  1.638432e-04   \n",
      "\n",
      "Symbols       USDC-USD      BUSD-USD       HEX-USD  \n",
      "Symbols                                             \n",
      "BTC-USD  -1.713122e-06 -2.304823e-06  7.319597e-04  \n",
      "ETH-USD  -2.312851e-06 -3.567240e-06  8.565743e-04  \n",
      "USDT-USD  1.069995e-07  6.980158e-08  7.005955e-07  \n",
      "BNB-USD  -7.234160e-07 -4.461280e-06  8.102861e-04  \n",
      "ADA-USD  -1.672124e-06 -1.875227e-06  1.197821e-03  \n",
      "XRP-USD  -2.383840e-06 -4.012449e-06  1.049131e-03  \n",
      "SOL-USD  -1.643269e-06 -3.318060e-06  1.478892e-03  \n",
      "DOGE-USD -1.596000e-06 -6.279218e-06  1.042697e-03  \n",
      "DOT-USD  -1.860083e-06 -3.641048e-06  5.060399e-04  \n",
      "UNI-USD  -1.563945e-05  8.623982e-07  1.638432e-04  \n",
      "USDC-USD  2.579931e-07  1.407548e-07 -2.297872e-06  \n",
      "BUSD-USD  1.407548e-07  7.599476e-07 -4.777285e-06  \n",
      "HEX-USD  -2.297872e-06 -4.777285e-06  6.516721e-03  \n"
     ]
    }
   ],
   "source": [
    "crypto_cov_matrix = create_covariance_matrix(crypto_daily_rets)\n",
    "print(crypto_cov_matrix)"
   ]
  },
  {
   "cell_type": "code",
   "execution_count": 25,
   "id": "d7da0421-5b61-4a10-b2f0-ebde745cb15a",
   "metadata": {},
   "outputs": [
    {
     "name": "stdout",
     "output_type": "stream",
     "text": [
      "Symbols          BTC-USD      ETH-USD  USDT-USD     BNB-USD   ADA-USD  \\\n",
      "Date                                                                    \n",
      "2021-06-01  36684.925781  2633.518311  1.000109  362.794647  1.734753   \n",
      "2021-06-02  37575.179688  2706.125000  1.000550  401.262329  1.752824   \n",
      "2021-06-03  39208.765625  2855.126465  1.000571  427.807922  1.840471   \n",
      "2021-06-04  36894.406250  2688.195068  1.001038  391.395325  1.710908   \n",
      "2021-06-05  35551.957031  2630.576904  1.000313  390.431854  1.659009   \n",
      "...                  ...          ...       ...         ...       ...   \n",
      "2022-05-29  29445.957031  1812.031006  0.999178  305.975067  0.481126   \n",
      "2022-05-30  31726.390625  1996.441284  0.999376  321.752899  0.570073   \n",
      "2022-05-31  31792.310547  1942.328003  0.999388  320.485107  0.625254   \n",
      "2022-06-01  29799.080078  1823.569336  0.999260  300.504059  0.552750   \n",
      "2022-06-02  30523.326172  1835.599609  0.999368  307.960846  0.586519   \n",
      "\n",
      "Symbols      XRP-USD    SOL-USD  DOGE-USD    DOT-USD   UNI-USD  USDC-USD  \\\n",
      "Date                                                                       \n",
      "2021-06-01  1.011001  30.985260  0.370077  22.810846  0.000770  1.000025   \n",
      "2021-06-02  1.024400  33.956318  0.423374  25.957727  0.000790  1.000277   \n",
      "2021-06-03  1.045321  39.470905  0.399963  27.013458  0.001724  1.000242   \n",
      "2021-06-04  0.970196  37.415070  0.376323  25.008299  0.002953  1.000749   \n",
      "2021-06-05  0.923286  39.585400  0.372177  23.816771  0.001564  1.000184   \n",
      "...              ...        ...       ...        ...       ...       ...   \n",
      "2022-05-29  0.389016  44.909615  0.082686        NaN  0.000147  1.000586   \n",
      "2022-05-30  0.418175  47.179443  0.087871        NaN  0.000159  1.000099   \n",
      "2022-05-31  0.421867  45.767841  0.085865        NaN  0.000159  1.000210   \n",
      "2022-06-01  0.398085  40.269669  0.081056        NaN  0.000149  1.000130   \n",
      "2022-06-02  0.405596  40.950073  0.082909   9.911590  0.000153  1.000168   \n",
      "\n",
      "Symbols     BUSD-USD   HEX-USD  \n",
      "Date                            \n",
      "2021-06-01  1.000303  0.054346  \n",
      "2021-06-02  1.000353  0.055444  \n",
      "2021-06-03  1.000321  0.054931  \n",
      "2021-06-04  1.000801  0.060161  \n",
      "2021-06-05  1.000210  0.057680  \n",
      "...              ...       ...  \n",
      "2022-05-29  1.001082  0.070337  \n",
      "2022-05-30  1.001566  0.083603  \n",
      "2022-05-31  1.000010  0.081287  \n",
      "2022-06-01  1.000759  0.067077  \n",
      "2022-06-02  1.001219  0.069077  \n",
      "\n",
      "[367 rows x 13 columns]\n"
     ]
    }
   ],
   "source": [
    "cs = crypto_prices\n",
    "print(cs)\n",
    "#statistics.variance(cs)"
   ]
  },
  {
   "cell_type": "code",
   "execution_count": 26,
   "id": "e666322b-f1de-4661-b2e1-625db13ac863",
   "metadata": {},
   "outputs": [],
   "source": [
    "# The Free Crypto API Call endpoint URLs for the held cryptocurrency assets\n",
    "btc_url = \"https://api.alternative.me/v2/ticker/Bitcoin/?convert=USD\"\n",
    "eth_url = \"https://api.alternative.me/v2/ticker/Ethereum/?convert=USD\"\n",
    "usdt_url = \"https://api.alternative.me/v2/ticker/Tether/?convert=USD\"\n",
    "bnb_url = \"https://api.alternative.me/v2/ticker/BinanceCoin/?convert=USD\"\n",
    "ada_url = \"https://api.alternative.me/v2/ticker/Cardano/?convert=USD\"\n",
    "xrp_url = \"https://api.alternative.me/v2/ticker/Ripple/?convert=USD\"\n",
    "sol_url = \"https://api.alternative.me/v2/ticker/Solana/?convert=USD\"\n",
    "doge_url = \"https://api.alternative.me/v2/ticker/Dogecoin/?convert=USD\"\n",
    "dot_url = \"https://api.alternative.me/v2/ticker/Polkadot/?convert=USD\"\n",
    "uni_url = \"https://api.alternative.me/v2/ticker/Uniswap/?convert=USD\""
   ]
  },
  {
   "cell_type": "code",
   "execution_count": 27,
   "id": "8bcdb60d-8b93-4d0d-a8a1-fc6652cbe113",
   "metadata": {},
   "outputs": [],
   "source": [
    "btc_response = requests.get(btc_url).json()\n",
    "eth_response= requests.get(eth_url).json()\n",
    "usdt_response= requests.get(usdt_url).json()\n",
    "bnb_response= requests.get(bnb_url).json()\n",
    "ada_response = requests.get(ada_url).json()\n",
    "xrp_response = requests.get(xrp_url).json()\n",
    "sol_response = requests.get(sol_url).json()\n",
    "doge_response = requests.get(doge_url).json()\n",
    "dot_response = requests.get(dot_url).json()\n",
    "uni_response= requests.get(uni_url).json()"
   ]
  },
  {
   "cell_type": "code",
   "execution_count": 28,
   "id": "434ed8c3-a937-48e5-a9d8-2caa2222a5c5",
   "metadata": {},
   "outputs": [],
   "source": [
    "#print(json.dumps(btc_response, indent=4, sort_keys=True))\n",
    "#print(json.dumps(eth_response, indent=4, sort_keys=True))\n",
    "#print(json.dumps(usdt_response, indent=4, sort_keys=True))\n",
    "#print(json.dumps(bnb_response, indent=4, sort_keys=True))\n",
    "#print(json.dumps(ada_response, indent=4, sort_keys=True))\n",
    "#print(json.dumps(xrp_response, indent=4, sort_keys=True))\n",
    "#print(json.dumps(sol_response, indent=4, sort_keys=True))\n",
    "#print(json.dumps(doge_response, indent=4, sort_keys=True))\n",
    "#print(json.dumps(dot_response, indent=4, sort_keys=True))\n",
    "#print(json.dumps(uni_response, indent=4, sort_keys=True))"
   ]
  },
  {
   "cell_type": "code",
   "execution_count": 29,
   "id": "8d0ff085-8575-4111-894d-eace7c11b411",
   "metadata": {},
   "outputs": [],
   "source": [
    "# Crypto names\n",
    "btc_name = btc_response[\"data\"][\"1\"][\"name\"]\n",
    "eth_name = eth_response[\"data\"][\"1027\"][\"name\"]\n",
    "usdt_name = usdt_response[\"data\"][\"825\"][\"name\"]\n",
    "bnb_name = bnb_response[\"data\"][\"1839\"][\"name\"]\n",
    "ada_name = ada_response[\"data\"][\"2010\"][\"name\"]\n",
    "xrp_name = xrp_response[\"data\"][\"52\"][\"name\"]\n",
    "sol_name = sol_response[\"data\"][\"11733\"][\"name\"]\n",
    "doge_name = doge_response[\"data\"][\"74\"][\"name\"]\n",
    "dot_name = dot_response[\"data\"][\"11517\"][\"name\"]\n",
    "uni_name = uni_response[\"data\"][\"11968\"][\"name\"]"
   ]
  },
  {
   "cell_type": "code",
   "execution_count": 30,
   "id": "456da08b-c5f8-44aa-946a-a7567fc380db",
   "metadata": {},
   "outputs": [],
   "source": [
    "# Crypto Symbol\n",
    "btc_symbol = btc_response[\"data\"][\"1\"][\"symbol\"]\n",
    "eth_symbol = eth_response[\"data\"][\"1027\"][\"symbol\"]\n",
    "usdt_symbol = usdt_response[\"data\"][\"825\"][\"symbol\"]\n",
    "bnb_symbol = bnb_response[\"data\"][\"1839\"][\"symbol\"]\n",
    "ada_symbol = ada_response[\"data\"][\"2010\"][\"symbol\"]\n",
    "xrp_symbol = xrp_response[\"data\"][\"52\"][\"symbol\"]\n",
    "sol_symbol = sol_response[\"data\"][\"11733\"][\"symbol\"]\n",
    "doge_symbol = doge_response[\"data\"][\"74\"][\"symbol\"]\n",
    "dot_symbol = dot_response[\"data\"][\"11517\"][\"symbol\"]\n",
    "uni_symbol = uni_response[\"data\"][\"11968\"][\"symbol\"]"
   ]
  },
  {
   "cell_type": "code",
   "execution_count": 31,
   "id": "a1a568af-aa63-4a8a-82ff-30aa2cde0614",
   "metadata": {},
   "outputs": [],
   "source": [
    "# Crypto Category\n",
    "btc_cat = 'BTC'\n",
    "eth_cat = \"Altcoins\"\n",
    "usdt_cat = \"Stablecoin\"\n",
    "bnb_cat = \"Stablecoin\"\n",
    "ada_cat = 'Altcoins'\n",
    "xrp_cat = 'Altcoins'\n",
    "sol_cat = 'Altcoins'\n",
    "doge_cat = 'Meme coin'\n",
    "dot_cat = 'Altcoins'\n",
    "uni_cat = \"Altcoins\""
   ]
  },
  {
   "cell_type": "code",
   "execution_count": 32,
   "id": "aebef41b-f6a3-45f2-becc-5551bb3f6726",
   "metadata": {},
   "outputs": [],
   "source": [
    "# Crypto price\n",
    "btc_price = \"${:,.2f}\".format(btc_response[\"data\"][\"1\"][\"quotes\"][\"USD\"][\"price\"])\n",
    "eth_price = \"${:,.2f}\".format(eth_response[\"data\"][\"1027\"][\"quotes\"][\"USD\"][\"price\"])\n",
    "usdt_price = \"${:,.2f}\".format(usdt_response[\"data\"][\"825\"][\"quotes\"][\"USD\"][\"price\"])\n",
    "bnb_price = \"${:,.2f}\".format(bnb_response[\"data\"][\"1839\"][\"quotes\"][\"USD\"][\"price\"])\n",
    "ada_price = \"${:,.2f}\".format(ada_response[\"data\"][\"2010\"][\"quotes\"][\"USD\"][\"price\"])\n",
    "xrp_price = \"${:,.2f}\".format(xrp_response[\"data\"][\"52\"][\"quotes\"][\"USD\"][\"price\"])\n",
    "sol_price = \"${:,.2f}\".format(sol_response[\"data\"][\"11733\"][\"quotes\"][\"USD\"][\"price\"])\n",
    "doge_price = \"${:,.2f}\".format(doge_response[\"data\"][\"74\"][\"quotes\"][\"USD\"][\"price\"])\n",
    "dot_price = \"${:,.2f}\".format(dot_response[\"data\"][\"11517\"][\"quotes\"][\"USD\"][\"price\"])\n",
    "uni_price = \"${:,.2f}\".format(uni_response[\"data\"][\"11968\"][\"quotes\"][\"USD\"][\"price\"])"
   ]
  },
  {
   "cell_type": "code",
   "execution_count": 33,
   "id": "f9bc7d50-46cb-46c2-b869-a888790f7725",
   "metadata": {},
   "outputs": [
    {
     "name": "stdout",
     "output_type": "stream",
     "text": [
      "$30,562.00\n"
     ]
    }
   ],
   "source": [
    "print(btc_price)"
   ]
  },
  {
   "cell_type": "code",
   "execution_count": 34,
   "id": "b7d63ec5-4a94-4592-83b5-ef0742e6cc04",
   "metadata": {},
   "outputs": [],
   "source": [
    "# 24hr Volume\n",
    "btc_vol = f\"$ \"\"{:,}\".format(btc_response[\"data\"][\"1\"][\"quotes\"][\"USD\"][\"volume_24h\"])\n",
    "eth_vol = f\"$ \"\"{:,}\".format(eth_response[\"data\"][\"1027\"][\"quotes\"][\"USD\"][\"volume_24h\"])\n",
    "usdt_vol = f\"$ \"\"{:,}\".format(usdt_response[\"data\"][\"825\"][\"quotes\"][\"USD\"][\"volume_24h\"])\n",
    "bnb_vol = f\"$ \"\"{:,}\".format(bnb_response[\"data\"][\"1839\"][\"quotes\"][\"USD\"][\"volume_24h\"])\n",
    "ada_vol = f\"$ \"\"{:,}\".format(ada_response[\"data\"][\"2010\"][\"quotes\"][\"USD\"][\"volume_24h\"])\n",
    "xrp_vol = f\"$ \"\"{:,}\".format(xrp_response[\"data\"][\"52\"][\"quotes\"][\"USD\"][\"volume_24h\"])\n",
    "sol_vol = f\"$ \"\"{:,}\".format(sol_response[\"data\"][\"11733\"][\"quotes\"][\"USD\"][\"volume_24h\"])\n",
    "doge_vol = f\"$ \"\"{:,}\".format(doge_response[\"data\"][\"74\"][\"quotes\"][\"USD\"][\"volume_24h\"])\n",
    "dot_vol = f\"$ \"\"{:,}\".format(dot_response[\"data\"][\"11517\"][\"quotes\"][\"USD\"][\"volume_24h\"])\n",
    "uni_vol = f\"$ \"\"{:,}\".format(uni_response[\"data\"][\"11968\"][\"quotes\"][\"USD\"][\"volume_24h\"])"
   ]
  },
  {
   "cell_type": "code",
   "execution_count": 35,
   "id": "1e28c47b-e744-4983-bcea-5ae98a4bb44c",
   "metadata": {},
   "outputs": [],
   "source": [
    "# Market Cap\n",
    "btc_cap = f\"$ \"\"{:,}\".format(btc_response[\"data\"][\"1\"][\"quotes\"][\"USD\"][\"market_cap\"])\n",
    "eth_cap = f\"$ \"\"{:,}\".format(eth_response[\"data\"][\"1027\"][\"quotes\"][\"USD\"][\"market_cap\"])\n",
    "usdt_cap = f\"$ \"\"{:,}\".format(usdt_response[\"data\"][\"825\"][\"quotes\"][\"USD\"][\"market_cap\"])\n",
    "bnb_cap = f\"$ \"\"{:,}\".format(bnb_response[\"data\"][\"1839\"][\"quotes\"][\"USD\"][\"market_cap\"])\n",
    "ada_cap = f\"$ \"\"{:,}\".format(ada_response[\"data\"][\"2010\"][\"quotes\"][\"USD\"][\"market_cap\"])\n",
    "xrp_cap = f\"$ \"\"{:,}\".format(xrp_response[\"data\"][\"52\"][\"quotes\"][\"USD\"][\"market_cap\"])\n",
    "sol_cap = f\"$ \"\"{:,}\".format(sol_response[\"data\"][\"11733\"][\"quotes\"][\"USD\"][\"market_cap\"])\n",
    "doge_cap =f\"$ \" \"{:,}\".format(doge_response[\"data\"][\"74\"][\"quotes\"][\"USD\"][\"market_cap\"])\n",
    "dot_cap = f\"$ \"\"{:,}\".format(dot_response[\"data\"][\"11517\"][\"quotes\"][\"USD\"][\"market_cap\"])\n",
    "uni_cap = f\"$ \"\"{:,}\".format(uni_response[\"data\"][\"11968\"][\"quotes\"][\"USD\"][\"market_cap\"])"
   ]
  },
  {
   "cell_type": "code",
   "execution_count": 36,
   "id": "aac0cc4a-d92d-413b-ae0d-8ef40a40f726",
   "metadata": {},
   "outputs": [],
   "source": [
    "# percent_change_1h\n",
    "btc_1hr = \"{:.2%}\".format((btc_response[\"data\"][\"1\"][\"quotes\"][\"USD\"][\"percentage_change_1h\"] / 100))\n",
    "eth_1hr = \"{:.2%}\".format((eth_response[\"data\"][\"1027\"][\"quotes\"][\"USD\"][\"percentage_change_1h\"] / 100))\n",
    "usdt_1hr = \"{:.2%}\".format((usdt_response[\"data\"][\"825\"][\"quotes\"][\"USD\"][\"percentage_change_1h\"] / 100))\n",
    "bnb_1hr = \"{:.2%}\".format((bnb_response[\"data\"][\"1839\"][\"quotes\"][\"USD\"][\"percentage_change_1h\"] / 100))\n",
    "ada_1hr = \"{:.2%}\".format((ada_response[\"data\"][\"2010\"][\"quotes\"][\"USD\"][\"percentage_change_1h\"] / 100))\n",
    "xrp_1hr = \"{:.2%}\".format((xrp_response[\"data\"][\"52\"][\"quotes\"][\"USD\"][\"percentage_change_1h\"] / 100))\n",
    "ada_1hr = \"{:.2%}\".format((ada_response[\"data\"][\"2010\"][\"quotes\"][\"USD\"][\"percentage_change_1h\"] / 100))\n",
    "sol_1hr = \"{:.2%}\".format((sol_response[\"data\"][\"11733\"][\"quotes\"][\"USD\"][\"percentage_change_1h\"] / 100))\n",
    "doge_1hr = \"{:.2%}\".format((doge_response[\"data\"][\"74\"][\"quotes\"][\"USD\"][\"percentage_change_1h\"] / 100))\n",
    "dot_1hr = \"{:.2%}\".format((dot_response[\"data\"][\"11517\"][\"quotes\"][\"USD\"][\"percentage_change_1h\"] / 100))\n",
    "uni_1hr = \"{:.2%}\".format((uni_response[\"data\"][\"11968\"][\"quotes\"][\"USD\"][\"percentage_change_1h\"] / 100))"
   ]
  },
  {
   "cell_type": "code",
   "execution_count": 37,
   "id": "ac3f42b0-05a9-45e5-8a29-7129ff53e1e4",
   "metadata": {},
   "outputs": [],
   "source": [
    "# percent_change_24h\n",
    "btc_24hr = \"{:.2%}\".format((btc_response[\"data\"][\"1\"][\"quotes\"][\"USD\"][\"percentage_change_24h\"] / 100))\n",
    "eth_24hr = \"{:.2%}\".format((eth_response[\"data\"][\"1027\"][\"quotes\"][\"USD\"][\"percentage_change_24h\"] / 100))\n",
    "usdt_24hr = \"{:.2%}\".format((usdt_response[\"data\"][\"825\"][\"quotes\"][\"USD\"][\"percentage_change_24h\"] / 100))\n",
    "bnb_24hr = \"{:.2%}\".format((bnb_response[\"data\"][\"1839\"][\"quotes\"][\"USD\"][\"percentage_change_24h\"] / 100))\n",
    "ada_24hr = \"{:.2%}\".format((ada_response[\"data\"][\"2010\"][\"quotes\"][\"USD\"][\"percentage_change_24h\"] / 100))\n",
    "xrp_24hr = \"{:.2%}\".format((xrp_response[\"data\"][\"52\"][\"quotes\"][\"USD\"][\"percentage_change_24h\"] / 100))\n",
    "sol_24hr = \"{:.2%}\".format((sol_response[\"data\"][\"11733\"][\"quotes\"][\"USD\"][\"percentage_change_24h\"] / 100))\n",
    "doge_24hr= \"{:.2%}\".format((doge_response[\"data\"][\"74\"][\"quotes\"][\"USD\"][\"percentage_change_24h\"] / 100))\n",
    "dot_24hr = \"{:.2%}\".format((dot_response[\"data\"][\"11517\"][\"quotes\"][\"USD\"][\"percentage_change_24h\"] / 100))\n",
    "uni_24hr = \"{:.2%}\".format((uni_response[\"data\"][\"11968\"][\"quotes\"][\"USD\"][\"percentage_change_24h\"] / 100))"
   ]
  },
  {
   "cell_type": "code",
   "execution_count": 38,
   "id": "863f0ad9-0873-4516-a21e-821d698be5b1",
   "metadata": {},
   "outputs": [],
   "source": [
    "# percent_change_7d\n",
    "btc_7d =  \"{:.2%}\".format((btc_response[\"data\"][\"1\"][\"quotes\"][\"USD\"][\"percentage_change_7d\"] / 100))\n",
    "eth_7d =  \"{:.2%}\".format((eth_response[\"data\"][\"1027\"][\"quotes\"][\"USD\"][\"percentage_change_7d\"] / 100))\n",
    "usdt_7d =  \"{:.2%}\".format((usdt_response[\"data\"][\"825\"][\"quotes\"][\"USD\"][\"percentage_change_7d\"] / 100))\n",
    "bnb_7d =  \"{:.2%}\".format((bnb_response[\"data\"][\"1839\"][\"quotes\"][\"USD\"][\"percentage_change_7d\"] / 100))\n",
    "ada_7d = \"{:.2%}\".format((ada_response[\"data\"][\"2010\"][\"quotes\"][\"USD\"][\"percentage_change_7d\"] / 100))\n",
    "xrp_7d = \"{:.2%}\".format((xrp_response[\"data\"][\"52\"][\"quotes\"][\"USD\"][\"percentage_change_7d\"] / 100))\n",
    "sol_7d = \"{:.2%}\".format((sol_response[\"data\"][\"11733\"][\"quotes\"][\"USD\"][\"percentage_change_7d\"] / 100))\n",
    "doge_7d = \"{:.2%}\".format((doge_response[\"data\"][\"74\"][\"quotes\"][\"USD\"][\"percentage_change_7d\"] / 100))\n",
    "dot_7d = \"{:.2%}\".format((dot_response[\"data\"][\"11517\"][\"quotes\"][\"USD\"][\"percentage_change_7d\"] / 100))\n",
    "uni_7d =  \"{:.2%}\".format((uni_response[\"data\"][\"11968\"][\"quotes\"][\"USD\"][\"percentage_change_7d\"] / 100))"
   ]
  },
  {
   "cell_type": "code",
   "execution_count": 39,
   "id": "94a41d43-0c7d-4844-a7e9-75f0c3d49715",
   "metadata": {},
   "outputs": [
    {
     "name": "stderr",
     "output_type": "stream",
     "text": [
      "/var/folders/3v/j3665vvd1qn2w9n50h1qqmqr0000gn/T/ipykernel_14537/744152312.py:3: SADeprecationWarning: The Engine.table_names() method is deprecated and will be removed in a future release.  Please refer to Inspector.get_table_names(). (deprecated since: 1.4)\n",
      "  engine.table_names()\n"
     ]
    },
    {
     "data": {
      "text/plain": [
       "['Crypto']"
      ]
     },
     "execution_count": 39,
     "metadata": {},
     "output_type": "execute_result"
    }
   ],
   "source": [
    "stocks_dataframe = pd.DataFrame({'Coins': [btc_name,eth_name,usdt_name,bnb_name,ada_name,xrp_name,sol_name,doge_name,dot_name,uni_name], 'Symbol': [btc_symbol,eth_symbol,usdt_symbol,bnb_symbol,ada_symbol,xrp_symbol,sol_symbol,doge_symbol,dot_symbol,uni_symbol],'Category': [btc_cat,eth_cat,usdt_cat,bnb_cat,ada_cat,xrp_cat,sol_cat,doge_cat,dot_cat,uni_cat], 'Price': [btc_price,eth_price,usdt_price,bnb_price,ada_price,xrp_price,sol_price,doge_price,dot_price,uni_price],'24Hr Volume': [btc_vol,eth_vol,usdt_vol,bnb_vol,ada_vol,xrp_vol,sol_vol,doge_vol,dot_vol,uni_vol], 'Market Caplization':[btc_cap,eth_cap,usdt_cap,bnb_cap,ada_cap,xrp_cap,sol_cap,doge_cap,dot_cap,uni_cap],'1hr % Change': [btc_1hr,eth_1hr,usdt_1hr,bnb_1hr,ada_1hr,xrp_1hr,sol_1hr,dot_1hr,doge_1hr,uni_1hr], '24hrs %Change': [btc_24hr,eth_24hr,usdt_24hr,bnb_24hr,ada_24hr,xrp_24hr,sol_24hr,doge_24hr,dot_24hr,uni_24hr],'7days %Change': [btc_7d,eth_7d,usdt_7d,bnb_7d,ada_7d,xrp_7d,sol_7d,doge_7d,dot_7d,uni_7d], 'Sharpe Ratio': [sharpe_ratio_BTC,sharpe_ratio_ETH, sharpe_ratio_USDT,4,5,6,7,8,9,0],'Variance': [btc_name, 77, 3,4,5,6,7,8,9,0] })\n",
    "stocks_dataframe.to_sql('Crypto', engine)\n",
    "engine.table_names()"
   ]
  },
  {
   "cell_type": "code",
   "execution_count": 40,
   "id": "b8399b4e-2475-4e27-8b72-eaa21b99b490",
   "metadata": {},
   "outputs": [],
   "source": [
    "#query = \"\"\"\n",
    "#SELECT \"Coins\" FROM Crypto;\n",
    "#\"\"\"\n",
    "#results = engine.execute(query)\n",
    "#list(results)"
   ]
  },
  {
   "cell_type": "code",
   "execution_count": 41,
   "id": "babe5336-562c-4957-b05b-c8f72966664d",
   "metadata": {},
   "outputs": [
    {
     "data": {
      "text/html": [
       "<div>\n",
       "<style scoped>\n",
       "    .dataframe tbody tr th:only-of-type {\n",
       "        vertical-align: middle;\n",
       "    }\n",
       "\n",
       "    .dataframe tbody tr th {\n",
       "        vertical-align: top;\n",
       "    }\n",
       "\n",
       "    .dataframe thead th {\n",
       "        text-align: right;\n",
       "    }\n",
       "</style>\n",
       "<table border=\"1\" class=\"dataframe\">\n",
       "  <thead>\n",
       "    <tr style=\"text-align: right;\">\n",
       "      <th></th>\n",
       "      <th>Coins</th>\n",
       "      <th>Symbol</th>\n",
       "      <th>Category</th>\n",
       "      <th>Price</th>\n",
       "      <th>24Hr Volume</th>\n",
       "      <th>Market Caplization</th>\n",
       "      <th>1hr % Change</th>\n",
       "      <th>24hrs %Change</th>\n",
       "      <th>7days %Change</th>\n",
       "      <th>Sharpe Ratio</th>\n",
       "      <th>Variance</th>\n",
       "    </tr>\n",
       "  </thead>\n",
       "  <tbody>\n",
       "    <tr>\n",
       "      <th>0</th>\n",
       "      <td>Bitcoin</td>\n",
       "      <td>BTC</td>\n",
       "      <td>BTC</td>\n",
       "      <td>$30,562.00</td>\n",
       "      <td>$ 24,305,204,671</td>\n",
       "      <td>$ 583,209,879,136</td>\n",
       "      <td>0.03%</td>\n",
       "      <td>2.35%</td>\n",
       "      <td>3.30%</td>\n",
       "      <td>-0.066191</td>\n",
       "      <td>Bitcoin</td>\n",
       "    </tr>\n",
       "    <tr>\n",
       "      <th>1</th>\n",
       "      <td>Ethereum</td>\n",
       "      <td>ETH</td>\n",
       "      <td>Altcoins</td>\n",
       "      <td>$1,838.33</td>\n",
       "      <td>$ 16,492,082,939</td>\n",
       "      <td>$ 222,824,298,949</td>\n",
       "      <td>-0.20%</td>\n",
       "      <td>0.39%</td>\n",
       "      <td>-5.48%</td>\n",
       "      <td>-0.092259</td>\n",
       "      <td>77</td>\n",
       "    </tr>\n",
       "    <tr>\n",
       "      <th>2</th>\n",
       "      <td>Tether</td>\n",
       "      <td>USDT</td>\n",
       "      <td>Stablecoin</td>\n",
       "      <td>$1.00</td>\n",
       "      <td>$ 37,090,366,295</td>\n",
       "      <td>$ 72,579,497,534</td>\n",
       "      <td>0.05%</td>\n",
       "      <td>-0.00%</td>\n",
       "      <td>0.07%</td>\n",
       "      <td>-0.019461</td>\n",
       "      <td>3</td>\n",
       "    </tr>\n",
       "    <tr>\n",
       "      <th>3</th>\n",
       "      <td>Binance Coin</td>\n",
       "      <td>BNB</td>\n",
       "      <td>Stablecoin</td>\n",
       "      <td>$308.63</td>\n",
       "      <td>$ 1,107,805,574</td>\n",
       "      <td>$ 50,467,551,902</td>\n",
       "      <td>0.24%</td>\n",
       "      <td>2.44%</td>\n",
       "      <td>-5.38%</td>\n",
       "      <td>4.000000</td>\n",
       "      <td>4</td>\n",
       "    </tr>\n",
       "    <tr>\n",
       "      <th>4</th>\n",
       "      <td>Cardano</td>\n",
       "      <td>ADA</td>\n",
       "      <td>Altcoins</td>\n",
       "      <td>$0.59</td>\n",
       "      <td>$ 1,165,235,093</td>\n",
       "      <td>$ 19,891,700,712</td>\n",
       "      <td>0.19%</td>\n",
       "      <td>6.06%</td>\n",
       "      <td>14.29%</td>\n",
       "      <td>5.000000</td>\n",
       "      <td>5</td>\n",
       "    </tr>\n",
       "    <tr>\n",
       "      <th>5</th>\n",
       "      <td>XRP</td>\n",
       "      <td>XRP</td>\n",
       "      <td>Altcoins</td>\n",
       "      <td>$0.41</td>\n",
       "      <td>$ 1,303,349,130</td>\n",
       "      <td>$ 19,665,438,440</td>\n",
       "      <td>0.26%</td>\n",
       "      <td>1.79%</td>\n",
       "      <td>0.09%</td>\n",
       "      <td>6.000000</td>\n",
       "      <td>6</td>\n",
       "    </tr>\n",
       "    <tr>\n",
       "      <th>6</th>\n",
       "      <td>Solana</td>\n",
       "      <td>SOL</td>\n",
       "      <td>Altcoins</td>\n",
       "      <td>$41.01</td>\n",
       "      <td>$ 1,646,370,924</td>\n",
       "      <td>$ 13,982,426,446</td>\n",
       "      <td>-0.57%</td>\n",
       "      <td>1.62%</td>\n",
       "      <td>-14.67%</td>\n",
       "      <td>7.000000</td>\n",
       "      <td>7</td>\n",
       "    </tr>\n",
       "    <tr>\n",
       "      <th>7</th>\n",
       "      <td>Dogecoin</td>\n",
       "      <td>DOGE</td>\n",
       "      <td>Meme coin</td>\n",
       "      <td>$0.08</td>\n",
       "      <td>$ 380,795,418</td>\n",
       "      <td>$ 11,025,408,618</td>\n",
       "      <td>-0.04%</td>\n",
       "      <td>2.67%</td>\n",
       "      <td>-0.50%</td>\n",
       "      <td>8.000000</td>\n",
       "      <td>8</td>\n",
       "    </tr>\n",
       "    <tr>\n",
       "      <th>8</th>\n",
       "      <td>Polkadot</td>\n",
       "      <td>DOT</td>\n",
       "      <td>Altcoins</td>\n",
       "      <td>$9.94</td>\n",
       "      <td>$ 428,456,369</td>\n",
       "      <td>$ 11,129,926,426</td>\n",
       "      <td>0.16%</td>\n",
       "      <td>4.63%</td>\n",
       "      <td>0.87%</td>\n",
       "      <td>9.000000</td>\n",
       "      <td>9</td>\n",
       "    </tr>\n",
       "    <tr>\n",
       "      <th>9</th>\n",
       "      <td>Uniswap</td>\n",
       "      <td>UNI</td>\n",
       "      <td>Altcoins</td>\n",
       "      <td>$5.33</td>\n",
       "      <td>$ 111,128,487</td>\n",
       "      <td>$ 2,433,091,025</td>\n",
       "      <td>0.59%</td>\n",
       "      <td>2.98%</td>\n",
       "      <td>-5.14%</td>\n",
       "      <td>0.000000</td>\n",
       "      <td>0</td>\n",
       "    </tr>\n",
       "  </tbody>\n",
       "</table>\n",
       "</div>"
      ],
      "text/plain": [
       "          Coins Symbol    Category       Price       24Hr Volume  \\\n",
       "0       Bitcoin    BTC         BTC  $30,562.00  $ 24,305,204,671   \n",
       "1      Ethereum    ETH    Altcoins   $1,838.33  $ 16,492,082,939   \n",
       "2        Tether   USDT  Stablecoin       $1.00  $ 37,090,366,295   \n",
       "3  Binance Coin    BNB  Stablecoin     $308.63   $ 1,107,805,574   \n",
       "4       Cardano    ADA    Altcoins       $0.59   $ 1,165,235,093   \n",
       "5           XRP    XRP    Altcoins       $0.41   $ 1,303,349,130   \n",
       "6        Solana    SOL    Altcoins      $41.01   $ 1,646,370,924   \n",
       "7      Dogecoin   DOGE   Meme coin       $0.08     $ 380,795,418   \n",
       "8      Polkadot    DOT    Altcoins       $9.94     $ 428,456,369   \n",
       "9       Uniswap    UNI    Altcoins       $5.33     $ 111,128,487   \n",
       "\n",
       "  Market Caplization 1hr % Change 24hrs %Change 7days %Change  Sharpe Ratio  \\\n",
       "0  $ 583,209,879,136        0.03%         2.35%         3.30%     -0.066191   \n",
       "1  $ 222,824,298,949       -0.20%         0.39%        -5.48%     -0.092259   \n",
       "2   $ 72,579,497,534        0.05%        -0.00%         0.07%     -0.019461   \n",
       "3   $ 50,467,551,902        0.24%         2.44%        -5.38%      4.000000   \n",
       "4   $ 19,891,700,712        0.19%         6.06%        14.29%      5.000000   \n",
       "5   $ 19,665,438,440        0.26%         1.79%         0.09%      6.000000   \n",
       "6   $ 13,982,426,446       -0.57%         1.62%       -14.67%      7.000000   \n",
       "7   $ 11,025,408,618       -0.04%         2.67%        -0.50%      8.000000   \n",
       "8   $ 11,129,926,426        0.16%         4.63%         0.87%      9.000000   \n",
       "9    $ 2,433,091,025        0.59%         2.98%        -5.14%      0.000000   \n",
       "\n",
       "  Variance  \n",
       "0  Bitcoin  \n",
       "1       77  \n",
       "2        3  \n",
       "3        4  \n",
       "4        5  \n",
       "5        6  \n",
       "6        7  \n",
       "7        8  \n",
       "8        9  \n",
       "9        0  "
      ]
     },
     "execution_count": 41,
     "metadata": {},
     "output_type": "execute_result"
    }
   ],
   "source": [
    "stocks_dataframe"
   ]
  },
  {
   "cell_type": "code",
   "execution_count": null,
   "id": "afe10239-03bd-4070-bdcc-237926b2a2dd",
   "metadata": {},
   "outputs": [],
   "source": []
  }
 ],
 "metadata": {
  "kernelspec": {
   "display_name": "Python 3 (ipykernel)",
   "language": "python",
   "name": "python3"
  },
  "language_info": {
   "codemirror_mode": {
    "name": "ipython",
    "version": 3
   },
   "file_extension": ".py",
   "mimetype": "text/x-python",
   "name": "python",
   "nbconvert_exporter": "python",
   "pygments_lexer": "ipython3",
   "version": "3.9.7"
  }
 },
 "nbformat": 4,
 "nbformat_minor": 5
}
